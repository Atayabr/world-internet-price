{
 "cells": [
  {
   "cell_type": "code",
   "execution_count": 1,
   "id": "cfb86305",
   "metadata": {
    "_cell_guid": "b1076dfc-b9ad-4769-8c92-a6c4dae69d19",
    "_uuid": "8f2839f25d086af736a60e9eeb907d3b93b6e0e5",
    "execution": {
     "iopub.execute_input": "2023-04-21T10:47:09.391846Z",
     "iopub.status.busy": "2023-04-21T10:47:09.391414Z",
     "iopub.status.idle": "2023-04-21T10:47:09.412626Z",
     "shell.execute_reply": "2023-04-21T10:47:09.411181Z"
    },
    "papermill": {
     "duration": 0.03506,
     "end_time": "2023-04-21T10:47:09.415428",
     "exception": false,
     "start_time": "2023-04-21T10:47:09.380368",
     "status": "completed"
    },
    "tags": []
   },
   "outputs": [
    {
     "name": "stdout",
     "output_type": "stream",
     "text": [
      "/kaggle/input/world-cities-average-internet-prices-2020/cities_internet_prices.19-10-2021.csv\n"
     ]
    }
   ],
   "source": [
    "# This Python 3 environment comes with many helpful analytics libraries installed\n",
    "# It is defined by the kaggle/python Docker image: https://github.com/kaggle/docker-python\n",
    "# For example, here's several helpful packages to load\n",
    "\n",
    "import numpy as np # linear algebra\n",
    "import pandas as pd # data processing, CSV file I/O (e.g. pd.read_csv)\n",
    "\n",
    "# Input data files are available in the read-only \"../input/\" directory\n",
    "# For example, running this (by clicking run or pressing Shift+Enter) will list all files under the input directory\n",
    "\n",
    "import os\n",
    "for dirname, _, filenames in os.walk('/kaggle/input'):\n",
    "    for filename in filenames:\n",
    "        print(os.path.join(dirname, filename))\n",
    "\n",
    "# You can write up to 20GB to the current directory (/kaggle/working/) that gets preserved as output when you create a version using \"Save & Run All\" \n",
    "# You can also write temporary files to /kaggle/temp/, but they won't be saved outside of the current session"
   ]
  },
  {
   "cell_type": "markdown",
   "id": "b63596f3",
   "metadata": {
    "papermill": {
     "duration": 0.007714,
     "end_time": "2023-04-21T10:47:09.431552",
     "exception": false,
     "start_time": "2023-04-21T10:47:09.423838",
     "status": "completed"
    },
    "tags": []
   },
   "source": [
    "**Import Libraries**"
   ]
  },
  {
   "cell_type": "code",
   "execution_count": 2,
   "id": "c7df0952",
   "metadata": {
    "execution": {
     "iopub.execute_input": "2023-04-21T10:47:09.449486Z",
     "iopub.status.busy": "2023-04-21T10:47:09.449037Z",
     "iopub.status.idle": "2023-04-21T10:47:11.499941Z",
     "shell.execute_reply": "2023-04-21T10:47:11.498445Z"
    },
    "papermill": {
     "duration": 2.063425,
     "end_time": "2023-04-21T10:47:11.503098",
     "exception": false,
     "start_time": "2023-04-21T10:47:09.439673",
     "status": "completed"
    },
    "tags": []
   },
   "outputs": [],
   "source": [
    "import pandas as pd\n",
    "import numpy as np\n",
    "import plotly.express as px\n",
    "from pandas.api.types import is_string_dtype, is_numeric_dtype"
   ]
  },
  {
   "cell_type": "markdown",
   "id": "ba5c4217",
   "metadata": {
    "papermill": {
     "duration": 0.00776,
     "end_time": "2023-04-21T10:47:11.519303",
     "exception": false,
     "start_time": "2023-04-21T10:47:11.511543",
     "status": "completed"
    },
    "tags": []
   },
   "source": [
    "**Display the data**"
   ]
  },
  {
   "cell_type": "code",
   "execution_count": 3,
   "id": "9ef7780a",
   "metadata": {
    "execution": {
     "iopub.execute_input": "2023-04-21T10:47:11.537574Z",
     "iopub.status.busy": "2023-04-21T10:47:11.536841Z",
     "iopub.status.idle": "2023-04-21T10:47:11.592381Z",
     "shell.execute_reply": "2023-04-21T10:47:11.591122Z"
    },
    "papermill": {
     "duration": 0.067939,
     "end_time": "2023-04-21T10:47:11.595354",
     "exception": false,
     "start_time": "2023-04-21T10:47:11.527415",
     "status": "completed"
    },
    "tags": []
   },
   "outputs": [
    {
     "data": {
      "text/html": [
       "<div>\n",
       "<style scoped>\n",
       "    .dataframe tbody tr th:only-of-type {\n",
       "        vertical-align: middle;\n",
       "    }\n",
       "\n",
       "    .dataframe tbody tr th {\n",
       "        vertical-align: top;\n",
       "    }\n",
       "\n",
       "    .dataframe thead th {\n",
       "        text-align: right;\n",
       "    }\n",
       "</style>\n",
       "<table border=\"1\" class=\"dataframe\">\n",
       "  <thead>\n",
       "    <tr style=\"text-align: right;\">\n",
       "      <th></th>\n",
       "      <th>City</th>\n",
       "      <th>\"Region\"</th>\n",
       "      <th>\"Country\"</th>\n",
       "      <th>\"InternetPrice\"</th>\n",
       "    </tr>\n",
       "  </thead>\n",
       "  <tbody>\n",
       "    <tr>\n",
       "      <th>0</th>\n",
       "      <td>New York City</td>\n",
       "      <td>\"New York\"</td>\n",
       "      <td>\"United States of America\"</td>\n",
       "      <td>66.441395</td>\n",
       "    </tr>\n",
       "    <tr>\n",
       "      <th>1</th>\n",
       "      <td>Washington, D.C.</td>\n",
       "      <td>\"District of Columbia\"</td>\n",
       "      <td>\"United States of America\"</td>\n",
       "      <td>60.590455</td>\n",
       "    </tr>\n",
       "    <tr>\n",
       "      <th>2</th>\n",
       "      <td>San Francisco</td>\n",
       "      <td>\"California\"</td>\n",
       "      <td>\"United States of America\"</td>\n",
       "      <td>68.988824</td>\n",
       "    </tr>\n",
       "    <tr>\n",
       "      <th>3</th>\n",
       "      <td>Berlin</td>\n",
       "      <td>\"\"</td>\n",
       "      <td>\"Germany\"</td>\n",
       "      <td>35.827084</td>\n",
       "    </tr>\n",
       "    <tr>\n",
       "      <th>4</th>\n",
       "      <td>Los Angeles</td>\n",
       "      <td>\"California\"</td>\n",
       "      <td>\"United States of America\"</td>\n",
       "      <td>66.690222</td>\n",
       "    </tr>\n",
       "  </tbody>\n",
       "</table>\n",
       "</div>"
      ],
      "text/plain": [
       "               City                 \"Region\"                    \"Country\"  \\\n",
       "0     New York City               \"New York\"   \"United States of America\"   \n",
       "1  Washington, D.C.   \"District of Columbia\"   \"United States of America\"   \n",
       "2     San Francisco             \"California\"   \"United States of America\"   \n",
       "3            Berlin                       \"\"                    \"Germany\"   \n",
       "4       Los Angeles             \"California\"   \"United States of America\"   \n",
       "\n",
       "    \"InternetPrice\"  \n",
       "0         66.441395  \n",
       "1         60.590455  \n",
       "2         68.988824  \n",
       "3         35.827084  \n",
       "4         66.690222  "
      ]
     },
     "execution_count": 3,
     "metadata": {},
     "output_type": "execute_result"
    }
   ],
   "source": [
    "df = pd.read_csv('/kaggle/input/world-cities-average-internet-prices-2020/cities_internet_prices.19-10-2021.csv')\n",
    "df.head()"
   ]
  },
  {
   "cell_type": "markdown",
   "id": "92780799",
   "metadata": {
    "papermill": {
     "duration": 0.009349,
     "end_time": "2023-04-21T10:47:11.614471",
     "exception": false,
     "start_time": "2023-04-21T10:47:11.605122",
     "status": "completed"
    },
    "tags": []
   },
   "source": [
    "**Information about data**"
   ]
  },
  {
   "cell_type": "code",
   "execution_count": 4,
   "id": "fcaf87c6",
   "metadata": {
    "execution": {
     "iopub.execute_input": "2023-04-21T10:47:11.633397Z",
     "iopub.status.busy": "2023-04-21T10:47:11.632563Z",
     "iopub.status.idle": "2023-04-21T10:47:11.665524Z",
     "shell.execute_reply": "2023-04-21T10:47:11.661643Z"
    },
    "papermill": {
     "duration": 0.045802,
     "end_time": "2023-04-21T10:47:11.668599",
     "exception": false,
     "start_time": "2023-04-21T10:47:11.622797",
     "status": "completed"
    },
    "tags": []
   },
   "outputs": [
    {
     "name": "stdout",
     "output_type": "stream",
     "text": [
      "<class 'pandas.core.frame.DataFrame'>\n",
      "RangeIndex: 519 entries, 0 to 518\n",
      "Data columns (total 4 columns):\n",
      " #   Column            Non-Null Count  Dtype  \n",
      "---  ------            --------------  -----  \n",
      " 0   City              519 non-null    object \n",
      " 1    \"Region\"         519 non-null    object \n",
      " 2    \"Country\"        519 non-null    object \n",
      " 3    \"InternetPrice\"  519 non-null    float64\n",
      "dtypes: float64(1), object(3)\n",
      "memory usage: 16.3+ KB\n"
     ]
    }
   ],
   "source": [
    "df.info()"
   ]
  },
  {
   "cell_type": "code",
   "execution_count": 5,
   "id": "f6119672",
   "metadata": {
    "execution": {
     "iopub.execute_input": "2023-04-21T10:47:11.695912Z",
     "iopub.status.busy": "2023-04-21T10:47:11.695130Z",
     "iopub.status.idle": "2023-04-21T10:47:11.706299Z",
     "shell.execute_reply": "2023-04-21T10:47:11.705391Z"
    },
    "papermill": {
     "duration": 0.027217,
     "end_time": "2023-04-21T10:47:11.709051",
     "exception": false,
     "start_time": "2023-04-21T10:47:11.681834",
     "status": "completed"
    },
    "tags": []
   },
   "outputs": [
    {
     "data": {
      "text/plain": [
       "City                513\n",
       " \"Region\"           297\n",
       " \"Country\"          109\n",
       " \"InternetPrice\"    509\n",
       "dtype: int64"
      ]
     },
     "execution_count": 5,
     "metadata": {},
     "output_type": "execute_result"
    }
   ],
   "source": [
    "df.nunique()"
   ]
  },
  {
   "cell_type": "markdown",
   "id": "389e0367",
   "metadata": {
    "papermill": {
     "duration": 0.008398,
     "end_time": "2023-04-21T10:47:11.728334",
     "exception": false,
     "start_time": "2023-04-21T10:47:11.719936",
     "status": "completed"
    },
    "tags": []
   },
   "source": [
    "**Preprocessing**"
   ]
  },
  {
   "cell_type": "code",
   "execution_count": 6,
   "id": "ae10061a",
   "metadata": {
    "execution": {
     "iopub.execute_input": "2023-04-21T10:47:11.748866Z",
     "iopub.status.busy": "2023-04-21T10:47:11.746889Z",
     "iopub.status.idle": "2023-04-21T10:47:11.762352Z",
     "shell.execute_reply": "2023-04-21T10:47:11.761121Z"
    },
    "papermill": {
     "duration": 0.028184,
     "end_time": "2023-04-21T10:47:11.764900",
     "exception": false,
     "start_time": "2023-04-21T10:47:11.736716",
     "status": "completed"
    },
    "tags": []
   },
   "outputs": [
    {
     "data": {
      "text/html": [
       "<div>\n",
       "<style scoped>\n",
       "    .dataframe tbody tr th:only-of-type {\n",
       "        vertical-align: middle;\n",
       "    }\n",
       "\n",
       "    .dataframe tbody tr th {\n",
       "        vertical-align: top;\n",
       "    }\n",
       "\n",
       "    .dataframe thead th {\n",
       "        text-align: right;\n",
       "    }\n",
       "</style>\n",
       "<table border=\"1\" class=\"dataframe\">\n",
       "  <thead>\n",
       "    <tr style=\"text-align: right;\">\n",
       "      <th></th>\n",
       "      <th>City</th>\n",
       "      <th>Region</th>\n",
       "      <th>Country</th>\n",
       "      <th>Internet_Price</th>\n",
       "    </tr>\n",
       "  </thead>\n",
       "  <tbody>\n",
       "    <tr>\n",
       "      <th>0</th>\n",
       "      <td>New York City</td>\n",
       "      <td>\"New York\"</td>\n",
       "      <td>\"United States of America\"</td>\n",
       "      <td>66.441395</td>\n",
       "    </tr>\n",
       "    <tr>\n",
       "      <th>1</th>\n",
       "      <td>Washington, D.C.</td>\n",
       "      <td>\"District of Columbia\"</td>\n",
       "      <td>\"United States of America\"</td>\n",
       "      <td>60.590455</td>\n",
       "    </tr>\n",
       "    <tr>\n",
       "      <th>2</th>\n",
       "      <td>San Francisco</td>\n",
       "      <td>\"California\"</td>\n",
       "      <td>\"United States of America\"</td>\n",
       "      <td>68.988824</td>\n",
       "    </tr>\n",
       "    <tr>\n",
       "      <th>3</th>\n",
       "      <td>Berlin</td>\n",
       "      <td>\"\"</td>\n",
       "      <td>\"Germany\"</td>\n",
       "      <td>35.827084</td>\n",
       "    </tr>\n",
       "    <tr>\n",
       "      <th>4</th>\n",
       "      <td>Los Angeles</td>\n",
       "      <td>\"California\"</td>\n",
       "      <td>\"United States of America\"</td>\n",
       "      <td>66.690222</td>\n",
       "    </tr>\n",
       "  </tbody>\n",
       "</table>\n",
       "</div>"
      ],
      "text/plain": [
       "               City                   Region                      Country  \\\n",
       "0     New York City               \"New York\"   \"United States of America\"   \n",
       "1  Washington, D.C.   \"District of Columbia\"   \"United States of America\"   \n",
       "2     San Francisco             \"California\"   \"United States of America\"   \n",
       "3            Berlin                       \"\"                    \"Germany\"   \n",
       "4       Los Angeles             \"California\"   \"United States of America\"   \n",
       "\n",
       "   Internet_Price  \n",
       "0       66.441395  \n",
       "1       60.590455  \n",
       "2       68.988824  \n",
       "3       35.827084  \n",
       "4       66.690222  "
      ]
     },
     "execution_count": 6,
     "metadata": {},
     "output_type": "execute_result"
    }
   ],
   "source": [
    "#rename columns\n",
    "cols=[\"City\", \"Region\", \"Country\", \"Internet_Price\"]\n",
    "df.columns = map(str.title,cols)\n",
    "df.head()"
   ]
  },
  {
   "cell_type": "code",
   "execution_count": 7,
   "id": "f32e8574",
   "metadata": {
    "execution": {
     "iopub.execute_input": "2023-04-21T10:47:11.790265Z",
     "iopub.status.busy": "2023-04-21T10:47:11.788855Z",
     "iopub.status.idle": "2023-04-21T10:47:11.811725Z",
     "shell.execute_reply": "2023-04-21T10:47:11.810420Z"
    },
    "papermill": {
     "duration": 0.040353,
     "end_time": "2023-04-21T10:47:11.814537",
     "exception": false,
     "start_time": "2023-04-21T10:47:11.774184",
     "status": "completed"
    },
    "tags": []
   },
   "outputs": [
    {
     "data": {
      "text/html": [
       "<div>\n",
       "<style scoped>\n",
       "    .dataframe tbody tr th:only-of-type {\n",
       "        vertical-align: middle;\n",
       "    }\n",
       "\n",
       "    .dataframe tbody tr th {\n",
       "        vertical-align: top;\n",
       "    }\n",
       "\n",
       "    .dataframe thead th {\n",
       "        text-align: right;\n",
       "    }\n",
       "</style>\n",
       "<table border=\"1\" class=\"dataframe\">\n",
       "  <thead>\n",
       "    <tr style=\"text-align: right;\">\n",
       "      <th></th>\n",
       "      <th>City</th>\n",
       "      <th>Region</th>\n",
       "      <th>Country</th>\n",
       "      <th>Internet_Price</th>\n",
       "    </tr>\n",
       "  </thead>\n",
       "  <tbody>\n",
       "    <tr>\n",
       "      <th>0</th>\n",
       "      <td>New York City</td>\n",
       "      <td>New York</td>\n",
       "      <td>United States of America</td>\n",
       "      <td>66.4413953488372</td>\n",
       "    </tr>\n",
       "    <tr>\n",
       "      <th>1</th>\n",
       "      <td>Washington, D.C.</td>\n",
       "      <td>District of Columbia</td>\n",
       "      <td>United States of America</td>\n",
       "      <td>60.59045454545455</td>\n",
       "    </tr>\n",
       "    <tr>\n",
       "      <th>2</th>\n",
       "      <td>San Francisco</td>\n",
       "      <td>California</td>\n",
       "      <td>United States of America</td>\n",
       "      <td>68.98882352941176</td>\n",
       "    </tr>\n",
       "    <tr>\n",
       "      <th>3</th>\n",
       "      <td>Berlin</td>\n",
       "      <td></td>\n",
       "      <td>Germany</td>\n",
       "      <td>35.82708386557682</td>\n",
       "    </tr>\n",
       "    <tr>\n",
       "      <th>4</th>\n",
       "      <td>Los Angeles</td>\n",
       "      <td>California</td>\n",
       "      <td>United States of America</td>\n",
       "      <td>66.69022222222222</td>\n",
       "    </tr>\n",
       "  </tbody>\n",
       "</table>\n",
       "</div>"
      ],
      "text/plain": [
       "               City                 Region                    Country  \\\n",
       "0     New York City               New York   United States of America   \n",
       "1  Washington, D.C.   District of Columbia   United States of America   \n",
       "2     San Francisco             California   United States of America   \n",
       "3            Berlin                                           Germany   \n",
       "4       Los Angeles             California   United States of America   \n",
       "\n",
       "      Internet_Price  \n",
       "0   66.4413953488372  \n",
       "1  60.59045454545455  \n",
       "2  68.98882352941176  \n",
       "3  35.82708386557682  \n",
       "4  66.69022222222222  "
      ]
     },
     "execution_count": 7,
     "metadata": {},
     "output_type": "execute_result"
    }
   ],
   "source": [
    "for col in df:\n",
    "    if is_string_dtype:\n",
    "        df[col] = df[col].apply(lambda x:str(x).replace('\"', ''))\n",
    "        \n",
    "        \n",
    "df.head()"
   ]
  },
  {
   "cell_type": "code",
   "execution_count": 8,
   "id": "979f0278",
   "metadata": {
    "execution": {
     "iopub.execute_input": "2023-04-21T10:47:11.834744Z",
     "iopub.status.busy": "2023-04-21T10:47:11.834362Z",
     "iopub.status.idle": "2023-04-21T10:47:11.850067Z",
     "shell.execute_reply": "2023-04-21T10:47:11.848705Z"
    },
    "papermill": {
     "duration": 0.028685,
     "end_time": "2023-04-21T10:47:11.852414",
     "exception": false,
     "start_time": "2023-04-21T10:47:11.823729",
     "status": "completed"
    },
    "tags": []
   },
   "outputs": [
    {
     "data": {
      "text/html": [
       "<div>\n",
       "<style scoped>\n",
       "    .dataframe tbody tr th:only-of-type {\n",
       "        vertical-align: middle;\n",
       "    }\n",
       "\n",
       "    .dataframe tbody tr th {\n",
       "        vertical-align: top;\n",
       "    }\n",
       "\n",
       "    .dataframe thead th {\n",
       "        text-align: right;\n",
       "    }\n",
       "</style>\n",
       "<table border=\"1\" class=\"dataframe\">\n",
       "  <thead>\n",
       "    <tr style=\"text-align: right;\">\n",
       "      <th></th>\n",
       "      <th>City</th>\n",
       "      <th>Region</th>\n",
       "      <th>Country</th>\n",
       "      <th>Internet_Price</th>\n",
       "    </tr>\n",
       "  </thead>\n",
       "  <tbody>\n",
       "    <tr>\n",
       "      <th>0</th>\n",
       "      <td>New York City</td>\n",
       "      <td>New York</td>\n",
       "      <td>United States of America</td>\n",
       "      <td>66.44</td>\n",
       "    </tr>\n",
       "    <tr>\n",
       "      <th>1</th>\n",
       "      <td>Washington, D.C.</td>\n",
       "      <td>District of Columbia</td>\n",
       "      <td>United States of America</td>\n",
       "      <td>60.59</td>\n",
       "    </tr>\n",
       "    <tr>\n",
       "      <th>2</th>\n",
       "      <td>San Francisco</td>\n",
       "      <td>California</td>\n",
       "      <td>United States of America</td>\n",
       "      <td>68.99</td>\n",
       "    </tr>\n",
       "    <tr>\n",
       "      <th>3</th>\n",
       "      <td>Berlin</td>\n",
       "      <td></td>\n",
       "      <td>Germany</td>\n",
       "      <td>35.83</td>\n",
       "    </tr>\n",
       "    <tr>\n",
       "      <th>4</th>\n",
       "      <td>Los Angeles</td>\n",
       "      <td>California</td>\n",
       "      <td>United States of America</td>\n",
       "      <td>66.69</td>\n",
       "    </tr>\n",
       "  </tbody>\n",
       "</table>\n",
       "</div>"
      ],
      "text/plain": [
       "               City                 Region                    Country  \\\n",
       "0     New York City               New York   United States of America   \n",
       "1  Washington, D.C.   District of Columbia   United States of America   \n",
       "2     San Francisco             California   United States of America   \n",
       "3            Berlin                                           Germany   \n",
       "4       Los Angeles             California   United States of America   \n",
       "\n",
       "   Internet_Price  \n",
       "0           66.44  \n",
       "1           60.59  \n",
       "2           68.99  \n",
       "3           35.83  \n",
       "4           66.69  "
      ]
     },
     "execution_count": 8,
     "metadata": {},
     "output_type": "execute_result"
    }
   ],
   "source": [
    "df[\"Internet_Price\"] =df[\"Internet_Price\"].astype(\"float\")\n",
    "df[\"Internet_Price\"] = round(df[\"Internet_Price\"], ndigits=2)\n",
    "df.head()"
   ]
  },
  {
   "cell_type": "code",
   "execution_count": 9,
   "id": "4143abc1",
   "metadata": {
    "execution": {
     "iopub.execute_input": "2023-04-21T10:47:11.873493Z",
     "iopub.status.busy": "2023-04-21T10:47:11.872038Z",
     "iopub.status.idle": "2023-04-21T10:47:11.887175Z",
     "shell.execute_reply": "2023-04-21T10:47:11.885780Z"
    },
    "papermill": {
     "duration": 0.028286,
     "end_time": "2023-04-21T10:47:11.889868",
     "exception": false,
     "start_time": "2023-04-21T10:47:11.861582",
     "status": "completed"
    },
    "tags": []
   },
   "outputs": [
    {
     "data": {
      "text/html": [
       "<div>\n",
       "<style scoped>\n",
       "    .dataframe tbody tr th:only-of-type {\n",
       "        vertical-align: middle;\n",
       "    }\n",
       "\n",
       "    .dataframe tbody tr th {\n",
       "        vertical-align: top;\n",
       "    }\n",
       "\n",
       "    .dataframe thead th {\n",
       "        text-align: right;\n",
       "    }\n",
       "</style>\n",
       "<table border=\"1\" class=\"dataframe\">\n",
       "  <thead>\n",
       "    <tr style=\"text-align: right;\">\n",
       "      <th></th>\n",
       "      <th>City</th>\n",
       "      <th>Region</th>\n",
       "      <th>Country</th>\n",
       "      <th>Internet_Price</th>\n",
       "    </tr>\n",
       "  </thead>\n",
       "  <tbody>\n",
       "    <tr>\n",
       "      <th>0</th>\n",
       "      <td>New York City</td>\n",
       "      <td>New York</td>\n",
       "      <td>United States of America</td>\n",
       "      <td>66.44</td>\n",
       "    </tr>\n",
       "    <tr>\n",
       "      <th>1</th>\n",
       "      <td>Washington, D.C.</td>\n",
       "      <td>District of Columbia</td>\n",
       "      <td>United States of America</td>\n",
       "      <td>60.59</td>\n",
       "    </tr>\n",
       "    <tr>\n",
       "      <th>2</th>\n",
       "      <td>San Francisco</td>\n",
       "      <td>California</td>\n",
       "      <td>United States of America</td>\n",
       "      <td>68.99</td>\n",
       "    </tr>\n",
       "    <tr>\n",
       "      <th>3</th>\n",
       "      <td>Berlin</td>\n",
       "      <td>NaN</td>\n",
       "      <td>Germany</td>\n",
       "      <td>35.83</td>\n",
       "    </tr>\n",
       "    <tr>\n",
       "      <th>4</th>\n",
       "      <td>Los Angeles</td>\n",
       "      <td>California</td>\n",
       "      <td>United States of America</td>\n",
       "      <td>66.69</td>\n",
       "    </tr>\n",
       "  </tbody>\n",
       "</table>\n",
       "</div>"
      ],
      "text/plain": [
       "               City                 Region                    Country  \\\n",
       "0     New York City               New York   United States of America   \n",
       "1  Washington, D.C.   District of Columbia   United States of America   \n",
       "2     San Francisco             California   United States of America   \n",
       "3            Berlin                    NaN                    Germany   \n",
       "4       Los Angeles             California   United States of America   \n",
       "\n",
       "   Internet_Price  \n",
       "0           66.44  \n",
       "1           60.59  \n",
       "2           68.99  \n",
       "3           35.83  \n",
       "4           66.69  "
      ]
     },
     "execution_count": 9,
     "metadata": {},
     "output_type": "execute_result"
    }
   ],
   "source": [
    "#replace empty cell with nan\n",
    "\n",
    "df[\"Region\"] = df[\"Region\"].replace(\" \", np.nan)\n",
    "df.head()"
   ]
  },
  {
   "cell_type": "markdown",
   "id": "bddd97f4",
   "metadata": {
    "papermill": {
     "duration": 0.009513,
     "end_time": "2023-04-21T10:47:11.908809",
     "exception": false,
     "start_time": "2023-04-21T10:47:11.899296",
     "status": "completed"
    },
    "tags": []
   },
   "source": [
    "# EXPLORATORY DATA ANALYSIS¶# "
   ]
  },
  {
   "cell_type": "markdown",
   "id": "898e7a5a",
   "metadata": {
    "papermill": {
     "duration": 0.009138,
     "end_time": "2023-04-21T10:47:11.927414",
     "exception": false,
     "start_time": "2023-04-21T10:47:11.918276",
     "status": "completed"
    },
    "tags": []
   },
   "source": [
    "**20 cities with the most expensive internet in the word**"
   ]
  },
  {
   "cell_type": "code",
   "execution_count": 10,
   "id": "61eedbda",
   "metadata": {
    "execution": {
     "iopub.execute_input": "2023-04-21T10:47:11.952669Z",
     "iopub.status.busy": "2023-04-21T10:47:11.952261Z",
     "iopub.status.idle": "2023-04-21T10:47:11.962661Z",
     "shell.execute_reply": "2023-04-21T10:47:11.961416Z"
    },
    "papermill": {
     "duration": 0.02515,
     "end_time": "2023-04-21T10:47:11.965246",
     "exception": false,
     "start_time": "2023-04-21T10:47:11.940096",
     "status": "completed"
    },
    "tags": []
   },
   "outputs": [],
   "source": [
    "the_most_exp_city = df.nlargest(20, \"Internet_Price\")"
   ]
  },
  {
   "cell_type": "code",
   "execution_count": 11,
   "id": "5ffe1204",
   "metadata": {
    "execution": {
     "iopub.execute_input": "2023-04-21T10:47:11.990284Z",
     "iopub.status.busy": "2023-04-21T10:47:11.989188Z",
     "iopub.status.idle": "2023-04-21T10:47:13.554499Z",
     "shell.execute_reply": "2023-04-21T10:47:13.553390Z"
    },
    "papermill": {
     "duration": 1.579947,
     "end_time": "2023-04-21T10:47:13.557574",
     "exception": false,
     "start_time": "2023-04-21T10:47:11.977627",
     "status": "completed"
    },
    "tags": []
   },
   "outputs": [
    {
     "data": {
      "text/html": [
       "        <script type=\"text/javascript\">\n",
       "        window.PlotlyConfig = {MathJaxConfig: 'local'};\n",
       "        if (window.MathJax && window.MathJax.Hub && window.MathJax.Hub.Config) {window.MathJax.Hub.Config({SVG: {font: \"STIX-Web\"}});}\n",
       "        if (typeof require !== 'undefined') {\n",
       "        require.undef(\"plotly\");\n",
       "        requirejs.config({\n",
       "            paths: {\n",
       "                'plotly': ['https://cdn.plot.ly/plotly-2.18.0.min']\n",
       "            }\n",
       "        });\n",
       "        require(['plotly'], function(Plotly) {\n",
       "            window._Plotly = Plotly;\n",
       "        });\n",
       "        }\n",
       "        </script>\n",
       "        "
      ]
     },
     "metadata": {},
     "output_type": "display_data"
    },
    {
     "data": {
      "text/html": [
       "<div>                            <div id=\"6625d563-0a06-4fb8-abe6-65fabb2c3f0d\" class=\"plotly-graph-div\" style=\"height:525px; width:100%;\"></div>            <script type=\"text/javascript\">                require([\"plotly\"], function(Plotly) {                    window.PLOTLYENV=window.PLOTLYENV || {};                                    if (document.getElementById(\"6625d563-0a06-4fb8-abe6-65fabb2c3f0d\")) {                    Plotly.newPlot(                        \"6625d563-0a06-4fb8-abe6-65fabb2c3f0d\",                        [{\"alignmentgroup\":\"True\",\"hovertemplate\":\"Country= United Arab Emirates<br>City=%{x}<br>Internet_Price=%{y}<extra></extra>\",\"legendgroup\":\" United Arab Emirates\",\"marker\":{\"color\":\"#636efa\",\"pattern\":{\"shape\":\"\"}},\"name\":\" United Arab Emirates\",\"offsetgroup\":\" United Arab Emirates\",\"orientation\":\"v\",\"showlegend\":true,\"textposition\":\"auto\",\"x\":[\"Al Ain\",\"Abu Dhabi\",\"Sharjah\",\"Dubai\",\"Ajman\"],\"xaxis\":\"x\",\"y\":[112.94,101.02,99.15,96.85,91.85],\"yaxis\":\"y\",\"type\":\"bar\"},{\"alignmentgroup\":\"True\",\"hovertemplate\":\"Country= Brunei<br>City=%{x}<br>Internet_Price=%{y}<extra></extra>\",\"legendgroup\":\" Brunei\",\"marker\":{\"color\":\"#EF553B\",\"pattern\":{\"shape\":\"\"}},\"name\":\" Brunei\",\"offsetgroup\":\" Brunei\",\"orientation\":\"v\",\"showlegend\":true,\"textposition\":\"auto\",\"x\":[\"Bandar Seri Begawan\"],\"xaxis\":\"x\",\"y\":[111.43],\"yaxis\":\"y\",\"type\":\"bar\"},{\"alignmentgroup\":\"True\",\"hovertemplate\":\"Country= United States of America<br>City=%{x}<br>Internet_Price=%{y}<extra></extra>\",\"legendgroup\":\" United States of America\",\"marker\":{\"color\":\"#00cc96\",\"pattern\":{\"shape\":\"\"}},\"name\":\" United States of America\",\"offsetgroup\":\" United States of America\",\"orientation\":\"v\",\"showlegend\":true,\"textposition\":\"auto\",\"x\":[\"Anchorage\",\"Santa Rosa\",\"Santa Barbara\",\"Des Moines\",\"Omaha\",\"Scottsdale\",\"Jacksonville\",\"Phoenix\",\"Albuquerque\",\"Las Vegas\"],\"xaxis\":\"x\",\"y\":[109.55,99.33,95.71,81.99,81.66,81.25,80.0,76.5,76.11,76.09],\"yaxis\":\"y\",\"type\":\"bar\"},{\"alignmentgroup\":\"True\",\"hovertemplate\":\"Country= Maldives<br>City=%{x}<br>Internet_Price=%{y}<extra></extra>\",\"legendgroup\":\" Maldives\",\"marker\":{\"color\":\"#ab63fa\",\"pattern\":{\"shape\":\"\"}},\"name\":\" Maldives\",\"offsetgroup\":\" Maldives\",\"orientation\":\"v\",\"showlegend\":true,\"textposition\":\"auto\",\"x\":[\"Male\"],\"xaxis\":\"x\",\"y\":[109.22],\"yaxis\":\"y\",\"type\":\"bar\"},{\"alignmentgroup\":\"True\",\"hovertemplate\":\"Country= Zimbabwe<br>City=%{x}<br>Internet_Price=%{y}<extra></extra>\",\"legendgroup\":\" Zimbabwe\",\"marker\":{\"color\":\"#FFA15A\",\"pattern\":{\"shape\":\"\"}},\"name\":\" Zimbabwe\",\"offsetgroup\":\" Zimbabwe\",\"orientation\":\"v\",\"showlegend\":true,\"textposition\":\"auto\",\"x\":[\"Harare\"],\"xaxis\":\"x\",\"y\":[104.83],\"yaxis\":\"y\",\"type\":\"bar\"},{\"alignmentgroup\":\"True\",\"hovertemplate\":\"Country= Qatar<br>City=%{x}<br>Internet_Price=%{y}<extra></extra>\",\"legendgroup\":\" Qatar\",\"marker\":{\"color\":\"#19d3f3\",\"pattern\":{\"shape\":\"\"}},\"name\":\" Qatar\",\"offsetgroup\":\" Qatar\",\"orientation\":\"v\",\"showlegend\":true,\"textposition\":\"auto\",\"x\":[\"Doha\"],\"xaxis\":\"x\",\"y\":[84.92],\"yaxis\":\"y\",\"type\":\"bar\"},{\"alignmentgroup\":\"True\",\"hovertemplate\":\"Country= Oman<br>City=%{x}<br>Internet_Price=%{y}<extra></extra>\",\"legendgroup\":\" Oman\",\"marker\":{\"color\":\"#FF6692\",\"pattern\":{\"shape\":\"\"}},\"name\":\" Oman\",\"offsetgroup\":\" Oman\",\"orientation\":\"v\",\"showlegend\":true,\"textposition\":\"auto\",\"x\":[\"Muscat\"],\"xaxis\":\"x\",\"y\":[81.81],\"yaxis\":\"y\",\"type\":\"bar\"}],                        {\"template\":{\"data\":{\"histogram2dcontour\":[{\"type\":\"histogram2dcontour\",\"colorbar\":{\"outlinewidth\":0,\"ticks\":\"\"},\"colorscale\":[[0.0,\"#0d0887\"],[0.1111111111111111,\"#46039f\"],[0.2222222222222222,\"#7201a8\"],[0.3333333333333333,\"#9c179e\"],[0.4444444444444444,\"#bd3786\"],[0.5555555555555556,\"#d8576b\"],[0.6666666666666666,\"#ed7953\"],[0.7777777777777778,\"#fb9f3a\"],[0.8888888888888888,\"#fdca26\"],[1.0,\"#f0f921\"]]}],\"choropleth\":[{\"type\":\"choropleth\",\"colorbar\":{\"outlinewidth\":0,\"ticks\":\"\"}}],\"histogram2d\":[{\"type\":\"histogram2d\",\"colorbar\":{\"outlinewidth\":0,\"ticks\":\"\"},\"colorscale\":[[0.0,\"#0d0887\"],[0.1111111111111111,\"#46039f\"],[0.2222222222222222,\"#7201a8\"],[0.3333333333333333,\"#9c179e\"],[0.4444444444444444,\"#bd3786\"],[0.5555555555555556,\"#d8576b\"],[0.6666666666666666,\"#ed7953\"],[0.7777777777777778,\"#fb9f3a\"],[0.8888888888888888,\"#fdca26\"],[1.0,\"#f0f921\"]]}],\"heatmap\":[{\"type\":\"heatmap\",\"colorbar\":{\"outlinewidth\":0,\"ticks\":\"\"},\"colorscale\":[[0.0,\"#0d0887\"],[0.1111111111111111,\"#46039f\"],[0.2222222222222222,\"#7201a8\"],[0.3333333333333333,\"#9c179e\"],[0.4444444444444444,\"#bd3786\"],[0.5555555555555556,\"#d8576b\"],[0.6666666666666666,\"#ed7953\"],[0.7777777777777778,\"#fb9f3a\"],[0.8888888888888888,\"#fdca26\"],[1.0,\"#f0f921\"]]}],\"heatmapgl\":[{\"type\":\"heatmapgl\",\"colorbar\":{\"outlinewidth\":0,\"ticks\":\"\"},\"colorscale\":[[0.0,\"#0d0887\"],[0.1111111111111111,\"#46039f\"],[0.2222222222222222,\"#7201a8\"],[0.3333333333333333,\"#9c179e\"],[0.4444444444444444,\"#bd3786\"],[0.5555555555555556,\"#d8576b\"],[0.6666666666666666,\"#ed7953\"],[0.7777777777777778,\"#fb9f3a\"],[0.8888888888888888,\"#fdca26\"],[1.0,\"#f0f921\"]]}],\"contourcarpet\":[{\"type\":\"contourcarpet\",\"colorbar\":{\"outlinewidth\":0,\"ticks\":\"\"}}],\"contour\":[{\"type\":\"contour\",\"colorbar\":{\"outlinewidth\":0,\"ticks\":\"\"},\"colorscale\":[[0.0,\"#0d0887\"],[0.1111111111111111,\"#46039f\"],[0.2222222222222222,\"#7201a8\"],[0.3333333333333333,\"#9c179e\"],[0.4444444444444444,\"#bd3786\"],[0.5555555555555556,\"#d8576b\"],[0.6666666666666666,\"#ed7953\"],[0.7777777777777778,\"#fb9f3a\"],[0.8888888888888888,\"#fdca26\"],[1.0,\"#f0f921\"]]}],\"surface\":[{\"type\":\"surface\",\"colorbar\":{\"outlinewidth\":0,\"ticks\":\"\"},\"colorscale\":[[0.0,\"#0d0887\"],[0.1111111111111111,\"#46039f\"],[0.2222222222222222,\"#7201a8\"],[0.3333333333333333,\"#9c179e\"],[0.4444444444444444,\"#bd3786\"],[0.5555555555555556,\"#d8576b\"],[0.6666666666666666,\"#ed7953\"],[0.7777777777777778,\"#fb9f3a\"],[0.8888888888888888,\"#fdca26\"],[1.0,\"#f0f921\"]]}],\"mesh3d\":[{\"type\":\"mesh3d\",\"colorbar\":{\"outlinewidth\":0,\"ticks\":\"\"}}],\"scatter\":[{\"fillpattern\":{\"fillmode\":\"overlay\",\"size\":10,\"solidity\":0.2},\"type\":\"scatter\"}],\"parcoords\":[{\"type\":\"parcoords\",\"line\":{\"colorbar\":{\"outlinewidth\":0,\"ticks\":\"\"}}}],\"scatterpolargl\":[{\"type\":\"scatterpolargl\",\"marker\":{\"colorbar\":{\"outlinewidth\":0,\"ticks\":\"\"}}}],\"bar\":[{\"error_x\":{\"color\":\"#2a3f5f\"},\"error_y\":{\"color\":\"#2a3f5f\"},\"marker\":{\"line\":{\"color\":\"#E5ECF6\",\"width\":0.5},\"pattern\":{\"fillmode\":\"overlay\",\"size\":10,\"solidity\":0.2}},\"type\":\"bar\"}],\"scattergeo\":[{\"type\":\"scattergeo\",\"marker\":{\"colorbar\":{\"outlinewidth\":0,\"ticks\":\"\"}}}],\"scatterpolar\":[{\"type\":\"scatterpolar\",\"marker\":{\"colorbar\":{\"outlinewidth\":0,\"ticks\":\"\"}}}],\"histogram\":[{\"marker\":{\"pattern\":{\"fillmode\":\"overlay\",\"size\":10,\"solidity\":0.2}},\"type\":\"histogram\"}],\"scattergl\":[{\"type\":\"scattergl\",\"marker\":{\"colorbar\":{\"outlinewidth\":0,\"ticks\":\"\"}}}],\"scatter3d\":[{\"type\":\"scatter3d\",\"line\":{\"colorbar\":{\"outlinewidth\":0,\"ticks\":\"\"}},\"marker\":{\"colorbar\":{\"outlinewidth\":0,\"ticks\":\"\"}}}],\"scattermapbox\":[{\"type\":\"scattermapbox\",\"marker\":{\"colorbar\":{\"outlinewidth\":0,\"ticks\":\"\"}}}],\"scatterternary\":[{\"type\":\"scatterternary\",\"marker\":{\"colorbar\":{\"outlinewidth\":0,\"ticks\":\"\"}}}],\"scattercarpet\":[{\"type\":\"scattercarpet\",\"marker\":{\"colorbar\":{\"outlinewidth\":0,\"ticks\":\"\"}}}],\"carpet\":[{\"aaxis\":{\"endlinecolor\":\"#2a3f5f\",\"gridcolor\":\"white\",\"linecolor\":\"white\",\"minorgridcolor\":\"white\",\"startlinecolor\":\"#2a3f5f\"},\"baxis\":{\"endlinecolor\":\"#2a3f5f\",\"gridcolor\":\"white\",\"linecolor\":\"white\",\"minorgridcolor\":\"white\",\"startlinecolor\":\"#2a3f5f\"},\"type\":\"carpet\"}],\"table\":[{\"cells\":{\"fill\":{\"color\":\"#EBF0F8\"},\"line\":{\"color\":\"white\"}},\"header\":{\"fill\":{\"color\":\"#C8D4E3\"},\"line\":{\"color\":\"white\"}},\"type\":\"table\"}],\"barpolar\":[{\"marker\":{\"line\":{\"color\":\"#E5ECF6\",\"width\":0.5},\"pattern\":{\"fillmode\":\"overlay\",\"size\":10,\"solidity\":0.2}},\"type\":\"barpolar\"}],\"pie\":[{\"automargin\":true,\"type\":\"pie\"}]},\"layout\":{\"autotypenumbers\":\"strict\",\"colorway\":[\"#636efa\",\"#EF553B\",\"#00cc96\",\"#ab63fa\",\"#FFA15A\",\"#19d3f3\",\"#FF6692\",\"#B6E880\",\"#FF97FF\",\"#FECB52\"],\"font\":{\"color\":\"#2a3f5f\"},\"hovermode\":\"closest\",\"hoverlabel\":{\"align\":\"left\"},\"paper_bgcolor\":\"white\",\"plot_bgcolor\":\"#E5ECF6\",\"polar\":{\"bgcolor\":\"#E5ECF6\",\"angularaxis\":{\"gridcolor\":\"white\",\"linecolor\":\"white\",\"ticks\":\"\"},\"radialaxis\":{\"gridcolor\":\"white\",\"linecolor\":\"white\",\"ticks\":\"\"}},\"ternary\":{\"bgcolor\":\"#E5ECF6\",\"aaxis\":{\"gridcolor\":\"white\",\"linecolor\":\"white\",\"ticks\":\"\"},\"baxis\":{\"gridcolor\":\"white\",\"linecolor\":\"white\",\"ticks\":\"\"},\"caxis\":{\"gridcolor\":\"white\",\"linecolor\":\"white\",\"ticks\":\"\"}},\"coloraxis\":{\"colorbar\":{\"outlinewidth\":0,\"ticks\":\"\"}},\"colorscale\":{\"sequential\":[[0.0,\"#0d0887\"],[0.1111111111111111,\"#46039f\"],[0.2222222222222222,\"#7201a8\"],[0.3333333333333333,\"#9c179e\"],[0.4444444444444444,\"#bd3786\"],[0.5555555555555556,\"#d8576b\"],[0.6666666666666666,\"#ed7953\"],[0.7777777777777778,\"#fb9f3a\"],[0.8888888888888888,\"#fdca26\"],[1.0,\"#f0f921\"]],\"sequentialminus\":[[0.0,\"#0d0887\"],[0.1111111111111111,\"#46039f\"],[0.2222222222222222,\"#7201a8\"],[0.3333333333333333,\"#9c179e\"],[0.4444444444444444,\"#bd3786\"],[0.5555555555555556,\"#d8576b\"],[0.6666666666666666,\"#ed7953\"],[0.7777777777777778,\"#fb9f3a\"],[0.8888888888888888,\"#fdca26\"],[1.0,\"#f0f921\"]],\"diverging\":[[0,\"#8e0152\"],[0.1,\"#c51b7d\"],[0.2,\"#de77ae\"],[0.3,\"#f1b6da\"],[0.4,\"#fde0ef\"],[0.5,\"#f7f7f7\"],[0.6,\"#e6f5d0\"],[0.7,\"#b8e186\"],[0.8,\"#7fbc41\"],[0.9,\"#4d9221\"],[1,\"#276419\"]]},\"xaxis\":{\"gridcolor\":\"white\",\"linecolor\":\"white\",\"ticks\":\"\",\"title\":{\"standoff\":15},\"zerolinecolor\":\"white\",\"automargin\":true,\"zerolinewidth\":2},\"yaxis\":{\"gridcolor\":\"white\",\"linecolor\":\"white\",\"ticks\":\"\",\"title\":{\"standoff\":15},\"zerolinecolor\":\"white\",\"automargin\":true,\"zerolinewidth\":2},\"scene\":{\"xaxis\":{\"backgroundcolor\":\"#E5ECF6\",\"gridcolor\":\"white\",\"linecolor\":\"white\",\"showbackground\":true,\"ticks\":\"\",\"zerolinecolor\":\"white\",\"gridwidth\":2},\"yaxis\":{\"backgroundcolor\":\"#E5ECF6\",\"gridcolor\":\"white\",\"linecolor\":\"white\",\"showbackground\":true,\"ticks\":\"\",\"zerolinecolor\":\"white\",\"gridwidth\":2},\"zaxis\":{\"backgroundcolor\":\"#E5ECF6\",\"gridcolor\":\"white\",\"linecolor\":\"white\",\"showbackground\":true,\"ticks\":\"\",\"zerolinecolor\":\"white\",\"gridwidth\":2}},\"shapedefaults\":{\"line\":{\"color\":\"#2a3f5f\"}},\"annotationdefaults\":{\"arrowcolor\":\"#2a3f5f\",\"arrowhead\":0,\"arrowwidth\":1},\"geo\":{\"bgcolor\":\"white\",\"landcolor\":\"#E5ECF6\",\"subunitcolor\":\"white\",\"showland\":true,\"showlakes\":true,\"lakecolor\":\"white\"},\"title\":{\"x\":0.05},\"mapbox\":{\"style\":\"light\"}}},\"xaxis\":{\"anchor\":\"y\",\"domain\":[0.0,1.0],\"title\":{\"text\":\"City\"}},\"yaxis\":{\"anchor\":\"x\",\"domain\":[0.0,1.0],\"title\":{\"text\":\"Avrage internet prices (USD)\"}},\"legend\":{\"title\":{\"text\":\"Country\"},\"tracegroupgap\":0},\"margin\":{\"t\":60},\"barmode\":\"relative\",\"title\":{\"text\":\"20 cities with the most expensive internet in the word\"}},                        {\"responsive\": true}                    ).then(function(){\n",
       "                            \n",
       "var gd = document.getElementById('6625d563-0a06-4fb8-abe6-65fabb2c3f0d');\n",
       "var x = new MutationObserver(function (mutations, observer) {{\n",
       "        var display = window.getComputedStyle(gd).display;\n",
       "        if (!display || display === 'none') {{\n",
       "            console.log([gd, 'removed!']);\n",
       "            Plotly.purge(gd);\n",
       "            observer.disconnect();\n",
       "        }}\n",
       "}});\n",
       "\n",
       "// Listen for the removal of the full notebook cells\n",
       "var notebookContainer = gd.closest('#notebook-container');\n",
       "if (notebookContainer) {{\n",
       "    x.observe(notebookContainer, {childList: true});\n",
       "}}\n",
       "\n",
       "// Listen for the clearing of the current output cell\n",
       "var outputEl = gd.closest('.output');\n",
       "if (outputEl) {{\n",
       "    x.observe(outputEl, {childList: true});\n",
       "}}\n",
       "\n",
       "                        })                };                });            </script>        </div>"
      ]
     },
     "metadata": {},
     "output_type": "display_data"
    }
   ],
   "source": [
    "fig = px.bar(the_most_exp_city, x = \"City\", y = \"Internet_Price\" , color = \"Country\")\n",
    "fig.update_layout(title =\"20 cities with the most expensive internet in the word\")\n",
    "fig.update_yaxes(title = \"Avrage internet prices (USD)\")\n",
    "fig.show()"
   ]
  },
  {
   "cell_type": "markdown",
   "id": "6cf40bb3",
   "metadata": {
    "papermill": {
     "duration": 0.009313,
     "end_time": "2023-04-21T10:47:13.576748",
     "exception": false,
     "start_time": "2023-04-21T10:47:13.567435",
     "status": "completed"
    },
    "tags": []
   },
   "source": [
    "**20 cities with the cheapest internet in the word**"
   ]
  },
  {
   "cell_type": "code",
   "execution_count": 12,
   "id": "5bb76972",
   "metadata": {
    "execution": {
     "iopub.execute_input": "2023-04-21T10:47:13.598748Z",
     "iopub.status.busy": "2023-04-21T10:47:13.597923Z",
     "iopub.status.idle": "2023-04-21T10:47:13.604499Z",
     "shell.execute_reply": "2023-04-21T10:47:13.603345Z"
    },
    "papermill": {
     "duration": 0.020147,
     "end_time": "2023-04-21T10:47:13.606866",
     "exception": false,
     "start_time": "2023-04-21T10:47:13.586719",
     "status": "completed"
    },
    "tags": []
   },
   "outputs": [],
   "source": [
    "the_most_cheap_city = df.nsmallest(20, \"Internet_Price\")"
   ]
  },
  {
   "cell_type": "code",
   "execution_count": 13,
   "id": "b0ef4dc5",
   "metadata": {
    "execution": {
     "iopub.execute_input": "2023-04-21T10:47:13.628234Z",
     "iopub.status.busy": "2023-04-21T10:47:13.627775Z",
     "iopub.status.idle": "2023-04-21T10:47:13.695154Z",
     "shell.execute_reply": "2023-04-21T10:47:13.693927Z"
    },
    "papermill": {
     "duration": 0.080922,
     "end_time": "2023-04-21T10:47:13.697773",
     "exception": false,
     "start_time": "2023-04-21T10:47:13.616851",
     "status": "completed"
    },
    "tags": []
   },
   "outputs": [
    {
     "data": {
      "text/html": [
       "<div>                            <div id=\"7934373b-5531-414a-b2c5-9c7377da1bf2\" class=\"plotly-graph-div\" style=\"height:525px; width:100%;\"></div>            <script type=\"text/javascript\">                require([\"plotly\"], function(Plotly) {                    window.PLOTLYENV=window.PLOTLYENV || {};                                    if (document.getElementById(\"7934373b-5531-414a-b2c5-9c7377da1bf2\")) {                    Plotly.newPlot(                        \"7934373b-5531-414a-b2c5-9c7377da1bf2\",                        [{\"alignmentgroup\":\"True\",\"hovertemplate\":\"Country= Ukraine<br>City=%{x}<br>Internet_Price=%{y}<extra></extra>\",\"legendgroup\":\" Ukraine\",\"marker\":{\"color\":\"#636efa\",\"pattern\":{\"shape\":\"\"}},\"name\":\" Ukraine\",\"offsetgroup\":\" Ukraine\",\"orientation\":\"v\",\"showlegend\":true,\"textposition\":\"auto\",\"x\":[\"Ternopil\",\"Sumy\",\"Mykolaiv\",\"Vinnytsia\",\"Lviv\",\"Ivano-Frankivsk\",\"Dnipro\",\"Kharkiv\",\"Odessa\"],\"xaxis\":\"x\",\"y\":[3.9,4.22,4.37,4.57,5.04,5.27,5.34,6.04,6.34],\"yaxis\":\"y\",\"type\":\"bar\"},{\"alignmentgroup\":\"True\",\"hovertemplate\":\"Country= Russia<br>City=%{x}<br>Internet_Price=%{y}<extra></extra>\",\"legendgroup\":\" Russia\",\"marker\":{\"color\":\"#EF553B\",\"pattern\":{\"shape\":\"\"}},\"name\":\" Russia\",\"offsetgroup\":\" Russia\",\"orientation\":\"v\",\"showlegend\":true,\"textposition\":\"auto\",\"x\":[\"Krasnoyarsk\",\"Voronezh\",\"Volgograd\",\"Simferopol\",\"Kazan\",\"Izhevsk\",\"Ufa\",\"Kaliningrad\",\"Tomsk\",\"Moscow\",\"Saratov\"],\"xaxis\":\"x\",\"y\":[4.7,4.99,5.7,5.71,5.72,5.96,5.98,6.2,6.32,6.65,6.65],\"yaxis\":\"y\",\"type\":\"bar\"}],                        {\"template\":{\"data\":{\"histogram2dcontour\":[{\"type\":\"histogram2dcontour\",\"colorbar\":{\"outlinewidth\":0,\"ticks\":\"\"},\"colorscale\":[[0.0,\"#0d0887\"],[0.1111111111111111,\"#46039f\"],[0.2222222222222222,\"#7201a8\"],[0.3333333333333333,\"#9c179e\"],[0.4444444444444444,\"#bd3786\"],[0.5555555555555556,\"#d8576b\"],[0.6666666666666666,\"#ed7953\"],[0.7777777777777778,\"#fb9f3a\"],[0.8888888888888888,\"#fdca26\"],[1.0,\"#f0f921\"]]}],\"choropleth\":[{\"type\":\"choropleth\",\"colorbar\":{\"outlinewidth\":0,\"ticks\":\"\"}}],\"histogram2d\":[{\"type\":\"histogram2d\",\"colorbar\":{\"outlinewidth\":0,\"ticks\":\"\"},\"colorscale\":[[0.0,\"#0d0887\"],[0.1111111111111111,\"#46039f\"],[0.2222222222222222,\"#7201a8\"],[0.3333333333333333,\"#9c179e\"],[0.4444444444444444,\"#bd3786\"],[0.5555555555555556,\"#d8576b\"],[0.6666666666666666,\"#ed7953\"],[0.7777777777777778,\"#fb9f3a\"],[0.8888888888888888,\"#fdca26\"],[1.0,\"#f0f921\"]]}],\"heatmap\":[{\"type\":\"heatmap\",\"colorbar\":{\"outlinewidth\":0,\"ticks\":\"\"},\"colorscale\":[[0.0,\"#0d0887\"],[0.1111111111111111,\"#46039f\"],[0.2222222222222222,\"#7201a8\"],[0.3333333333333333,\"#9c179e\"],[0.4444444444444444,\"#bd3786\"],[0.5555555555555556,\"#d8576b\"],[0.6666666666666666,\"#ed7953\"],[0.7777777777777778,\"#fb9f3a\"],[0.8888888888888888,\"#fdca26\"],[1.0,\"#f0f921\"]]}],\"heatmapgl\":[{\"type\":\"heatmapgl\",\"colorbar\":{\"outlinewidth\":0,\"ticks\":\"\"},\"colorscale\":[[0.0,\"#0d0887\"],[0.1111111111111111,\"#46039f\"],[0.2222222222222222,\"#7201a8\"],[0.3333333333333333,\"#9c179e\"],[0.4444444444444444,\"#bd3786\"],[0.5555555555555556,\"#d8576b\"],[0.6666666666666666,\"#ed7953\"],[0.7777777777777778,\"#fb9f3a\"],[0.8888888888888888,\"#fdca26\"],[1.0,\"#f0f921\"]]}],\"contourcarpet\":[{\"type\":\"contourcarpet\",\"colorbar\":{\"outlinewidth\":0,\"ticks\":\"\"}}],\"contour\":[{\"type\":\"contour\",\"colorbar\":{\"outlinewidth\":0,\"ticks\":\"\"},\"colorscale\":[[0.0,\"#0d0887\"],[0.1111111111111111,\"#46039f\"],[0.2222222222222222,\"#7201a8\"],[0.3333333333333333,\"#9c179e\"],[0.4444444444444444,\"#bd3786\"],[0.5555555555555556,\"#d8576b\"],[0.6666666666666666,\"#ed7953\"],[0.7777777777777778,\"#fb9f3a\"],[0.8888888888888888,\"#fdca26\"],[1.0,\"#f0f921\"]]}],\"surface\":[{\"type\":\"surface\",\"colorbar\":{\"outlinewidth\":0,\"ticks\":\"\"},\"colorscale\":[[0.0,\"#0d0887\"],[0.1111111111111111,\"#46039f\"],[0.2222222222222222,\"#7201a8\"],[0.3333333333333333,\"#9c179e\"],[0.4444444444444444,\"#bd3786\"],[0.5555555555555556,\"#d8576b\"],[0.6666666666666666,\"#ed7953\"],[0.7777777777777778,\"#fb9f3a\"],[0.8888888888888888,\"#fdca26\"],[1.0,\"#f0f921\"]]}],\"mesh3d\":[{\"type\":\"mesh3d\",\"colorbar\":{\"outlinewidth\":0,\"ticks\":\"\"}}],\"scatter\":[{\"fillpattern\":{\"fillmode\":\"overlay\",\"size\":10,\"solidity\":0.2},\"type\":\"scatter\"}],\"parcoords\":[{\"type\":\"parcoords\",\"line\":{\"colorbar\":{\"outlinewidth\":0,\"ticks\":\"\"}}}],\"scatterpolargl\":[{\"type\":\"scatterpolargl\",\"marker\":{\"colorbar\":{\"outlinewidth\":0,\"ticks\":\"\"}}}],\"bar\":[{\"error_x\":{\"color\":\"#2a3f5f\"},\"error_y\":{\"color\":\"#2a3f5f\"},\"marker\":{\"line\":{\"color\":\"#E5ECF6\",\"width\":0.5},\"pattern\":{\"fillmode\":\"overlay\",\"size\":10,\"solidity\":0.2}},\"type\":\"bar\"}],\"scattergeo\":[{\"type\":\"scattergeo\",\"marker\":{\"colorbar\":{\"outlinewidth\":0,\"ticks\":\"\"}}}],\"scatterpolar\":[{\"type\":\"scatterpolar\",\"marker\":{\"colorbar\":{\"outlinewidth\":0,\"ticks\":\"\"}}}],\"histogram\":[{\"marker\":{\"pattern\":{\"fillmode\":\"overlay\",\"size\":10,\"solidity\":0.2}},\"type\":\"histogram\"}],\"scattergl\":[{\"type\":\"scattergl\",\"marker\":{\"colorbar\":{\"outlinewidth\":0,\"ticks\":\"\"}}}],\"scatter3d\":[{\"type\":\"scatter3d\",\"line\":{\"colorbar\":{\"outlinewidth\":0,\"ticks\":\"\"}},\"marker\":{\"colorbar\":{\"outlinewidth\":0,\"ticks\":\"\"}}}],\"scattermapbox\":[{\"type\":\"scattermapbox\",\"marker\":{\"colorbar\":{\"outlinewidth\":0,\"ticks\":\"\"}}}],\"scatterternary\":[{\"type\":\"scatterternary\",\"marker\":{\"colorbar\":{\"outlinewidth\":0,\"ticks\":\"\"}}}],\"scattercarpet\":[{\"type\":\"scattercarpet\",\"marker\":{\"colorbar\":{\"outlinewidth\":0,\"ticks\":\"\"}}}],\"carpet\":[{\"aaxis\":{\"endlinecolor\":\"#2a3f5f\",\"gridcolor\":\"white\",\"linecolor\":\"white\",\"minorgridcolor\":\"white\",\"startlinecolor\":\"#2a3f5f\"},\"baxis\":{\"endlinecolor\":\"#2a3f5f\",\"gridcolor\":\"white\",\"linecolor\":\"white\",\"minorgridcolor\":\"white\",\"startlinecolor\":\"#2a3f5f\"},\"type\":\"carpet\"}],\"table\":[{\"cells\":{\"fill\":{\"color\":\"#EBF0F8\"},\"line\":{\"color\":\"white\"}},\"header\":{\"fill\":{\"color\":\"#C8D4E3\"},\"line\":{\"color\":\"white\"}},\"type\":\"table\"}],\"barpolar\":[{\"marker\":{\"line\":{\"color\":\"#E5ECF6\",\"width\":0.5},\"pattern\":{\"fillmode\":\"overlay\",\"size\":10,\"solidity\":0.2}},\"type\":\"barpolar\"}],\"pie\":[{\"automargin\":true,\"type\":\"pie\"}]},\"layout\":{\"autotypenumbers\":\"strict\",\"colorway\":[\"#636efa\",\"#EF553B\",\"#00cc96\",\"#ab63fa\",\"#FFA15A\",\"#19d3f3\",\"#FF6692\",\"#B6E880\",\"#FF97FF\",\"#FECB52\"],\"font\":{\"color\":\"#2a3f5f\"},\"hovermode\":\"closest\",\"hoverlabel\":{\"align\":\"left\"},\"paper_bgcolor\":\"white\",\"plot_bgcolor\":\"#E5ECF6\",\"polar\":{\"bgcolor\":\"#E5ECF6\",\"angularaxis\":{\"gridcolor\":\"white\",\"linecolor\":\"white\",\"ticks\":\"\"},\"radialaxis\":{\"gridcolor\":\"white\",\"linecolor\":\"white\",\"ticks\":\"\"}},\"ternary\":{\"bgcolor\":\"#E5ECF6\",\"aaxis\":{\"gridcolor\":\"white\",\"linecolor\":\"white\",\"ticks\":\"\"},\"baxis\":{\"gridcolor\":\"white\",\"linecolor\":\"white\",\"ticks\":\"\"},\"caxis\":{\"gridcolor\":\"white\",\"linecolor\":\"white\",\"ticks\":\"\"}},\"coloraxis\":{\"colorbar\":{\"outlinewidth\":0,\"ticks\":\"\"}},\"colorscale\":{\"sequential\":[[0.0,\"#0d0887\"],[0.1111111111111111,\"#46039f\"],[0.2222222222222222,\"#7201a8\"],[0.3333333333333333,\"#9c179e\"],[0.4444444444444444,\"#bd3786\"],[0.5555555555555556,\"#d8576b\"],[0.6666666666666666,\"#ed7953\"],[0.7777777777777778,\"#fb9f3a\"],[0.8888888888888888,\"#fdca26\"],[1.0,\"#f0f921\"]],\"sequentialminus\":[[0.0,\"#0d0887\"],[0.1111111111111111,\"#46039f\"],[0.2222222222222222,\"#7201a8\"],[0.3333333333333333,\"#9c179e\"],[0.4444444444444444,\"#bd3786\"],[0.5555555555555556,\"#d8576b\"],[0.6666666666666666,\"#ed7953\"],[0.7777777777777778,\"#fb9f3a\"],[0.8888888888888888,\"#fdca26\"],[1.0,\"#f0f921\"]],\"diverging\":[[0,\"#8e0152\"],[0.1,\"#c51b7d\"],[0.2,\"#de77ae\"],[0.3,\"#f1b6da\"],[0.4,\"#fde0ef\"],[0.5,\"#f7f7f7\"],[0.6,\"#e6f5d0\"],[0.7,\"#b8e186\"],[0.8,\"#7fbc41\"],[0.9,\"#4d9221\"],[1,\"#276419\"]]},\"xaxis\":{\"gridcolor\":\"white\",\"linecolor\":\"white\",\"ticks\":\"\",\"title\":{\"standoff\":15},\"zerolinecolor\":\"white\",\"automargin\":true,\"zerolinewidth\":2},\"yaxis\":{\"gridcolor\":\"white\",\"linecolor\":\"white\",\"ticks\":\"\",\"title\":{\"standoff\":15},\"zerolinecolor\":\"white\",\"automargin\":true,\"zerolinewidth\":2},\"scene\":{\"xaxis\":{\"backgroundcolor\":\"#E5ECF6\",\"gridcolor\":\"white\",\"linecolor\":\"white\",\"showbackground\":true,\"ticks\":\"\",\"zerolinecolor\":\"white\",\"gridwidth\":2},\"yaxis\":{\"backgroundcolor\":\"#E5ECF6\",\"gridcolor\":\"white\",\"linecolor\":\"white\",\"showbackground\":true,\"ticks\":\"\",\"zerolinecolor\":\"white\",\"gridwidth\":2},\"zaxis\":{\"backgroundcolor\":\"#E5ECF6\",\"gridcolor\":\"white\",\"linecolor\":\"white\",\"showbackground\":true,\"ticks\":\"\",\"zerolinecolor\":\"white\",\"gridwidth\":2}},\"shapedefaults\":{\"line\":{\"color\":\"#2a3f5f\"}},\"annotationdefaults\":{\"arrowcolor\":\"#2a3f5f\",\"arrowhead\":0,\"arrowwidth\":1},\"geo\":{\"bgcolor\":\"white\",\"landcolor\":\"#E5ECF6\",\"subunitcolor\":\"white\",\"showland\":true,\"showlakes\":true,\"lakecolor\":\"white\"},\"title\":{\"x\":0.05},\"mapbox\":{\"style\":\"light\"}}},\"xaxis\":{\"anchor\":\"y\",\"domain\":[0.0,1.0],\"title\":{\"text\":\"City\"}},\"yaxis\":{\"anchor\":\"x\",\"domain\":[0.0,1.0],\"title\":{\"text\":\"Avrage internet prices (USD)\"}},\"legend\":{\"title\":{\"text\":\"Country\"},\"tracegroupgap\":0},\"margin\":{\"t\":60},\"barmode\":\"relative\",\"title\":{\"text\":\"20 cities with the cheapest internet in the word\"}},                        {\"responsive\": true}                    ).then(function(){\n",
       "                            \n",
       "var gd = document.getElementById('7934373b-5531-414a-b2c5-9c7377da1bf2');\n",
       "var x = new MutationObserver(function (mutations, observer) {{\n",
       "        var display = window.getComputedStyle(gd).display;\n",
       "        if (!display || display === 'none') {{\n",
       "            console.log([gd, 'removed!']);\n",
       "            Plotly.purge(gd);\n",
       "            observer.disconnect();\n",
       "        }}\n",
       "}});\n",
       "\n",
       "// Listen for the removal of the full notebook cells\n",
       "var notebookContainer = gd.closest('#notebook-container');\n",
       "if (notebookContainer) {{\n",
       "    x.observe(notebookContainer, {childList: true});\n",
       "}}\n",
       "\n",
       "// Listen for the clearing of the current output cell\n",
       "var outputEl = gd.closest('.output');\n",
       "if (outputEl) {{\n",
       "    x.observe(outputEl, {childList: true});\n",
       "}}\n",
       "\n",
       "                        })                };                });            </script>        </div>"
      ]
     },
     "metadata": {},
     "output_type": "display_data"
    }
   ],
   "source": [
    "fig = px.bar(the_most_cheap_city, x = \"City\", y = \"Internet_Price\" , color = \"Country\")\n",
    "fig.update_layout(title =\"20 cities with the cheapest internet in the word\")\n",
    "fig.update_yaxes(title = \"Avrage internet prices (USD)\")\n",
    "fig.show()"
   ]
  },
  {
   "cell_type": "markdown",
   "id": "bd4cf585",
   "metadata": {
    "papermill": {
     "duration": 0.009425,
     "end_time": "2023-04-21T10:47:13.717322",
     "exception": false,
     "start_time": "2023-04-21T10:47:13.707897",
     "status": "completed"
    },
    "tags": []
   },
   "source": [
    "# Countries with the most expensive average internet price in the world¶\n",
    "# "
   ]
  },
  {
   "cell_type": "code",
   "execution_count": 14,
   "id": "ac217d5c",
   "metadata": {
    "execution": {
     "iopub.execute_input": "2023-04-21T10:47:13.738942Z",
     "iopub.status.busy": "2023-04-21T10:47:13.738193Z",
     "iopub.status.idle": "2023-04-21T10:47:13.753399Z",
     "shell.execute_reply": "2023-04-21T10:47:13.752105Z"
    },
    "papermill": {
     "duration": 0.028647,
     "end_time": "2023-04-21T10:47:13.755811",
     "exception": false,
     "start_time": "2023-04-21T10:47:13.727164",
     "status": "completed"
    },
    "tags": []
   },
   "outputs": [
    {
     "data": {
      "text/html": [
       "<div>\n",
       "<style scoped>\n",
       "    .dataframe tbody tr th:only-of-type {\n",
       "        vertical-align: middle;\n",
       "    }\n",
       "\n",
       "    .dataframe tbody tr th {\n",
       "        vertical-align: top;\n",
       "    }\n",
       "\n",
       "    .dataframe thead th {\n",
       "        text-align: right;\n",
       "    }\n",
       "</style>\n",
       "<table border=\"1\" class=\"dataframe\">\n",
       "  <thead>\n",
       "    <tr style=\"text-align: right;\">\n",
       "      <th></th>\n",
       "      <th>Country</th>\n",
       "      <th>Internet_Price</th>\n",
       "    </tr>\n",
       "  </thead>\n",
       "  <tbody>\n",
       "    <tr>\n",
       "      <th>0</th>\n",
       "      <td>Albania</td>\n",
       "      <td>21.16000</td>\n",
       "    </tr>\n",
       "    <tr>\n",
       "      <th>1</th>\n",
       "      <td>Algeria</td>\n",
       "      <td>45.18000</td>\n",
       "    </tr>\n",
       "    <tr>\n",
       "      <th>2</th>\n",
       "      <td>Argentina</td>\n",
       "      <td>29.41400</td>\n",
       "    </tr>\n",
       "    <tr>\n",
       "      <th>3</th>\n",
       "      <td>Armenia</td>\n",
       "      <td>17.69000</td>\n",
       "    </tr>\n",
       "    <tr>\n",
       "      <th>4</th>\n",
       "      <td>Australia</td>\n",
       "      <td>51.66125</td>\n",
       "    </tr>\n",
       "    <tr>\n",
       "      <th>5</th>\n",
       "      <td>Austria</td>\n",
       "      <td>34.66400</td>\n",
       "    </tr>\n",
       "    <tr>\n",
       "      <th>6</th>\n",
       "      <td>Azerbaijan</td>\n",
       "      <td>18.32000</td>\n",
       "    </tr>\n",
       "    <tr>\n",
       "      <th>7</th>\n",
       "      <td>Bahrain</td>\n",
       "      <td>60.52000</td>\n",
       "    </tr>\n",
       "    <tr>\n",
       "      <th>8</th>\n",
       "      <td>Bangladesh</td>\n",
       "      <td>28.59000</td>\n",
       "    </tr>\n",
       "    <tr>\n",
       "      <th>9</th>\n",
       "      <td>Belarus</td>\n",
       "      <td>12.04000</td>\n",
       "    </tr>\n",
       "  </tbody>\n",
       "</table>\n",
       "</div>"
      ],
      "text/plain": [
       "       Country  Internet_Price\n",
       "0      Albania        21.16000\n",
       "1      Algeria        45.18000\n",
       "2    Argentina        29.41400\n",
       "3      Armenia        17.69000\n",
       "4    Australia        51.66125\n",
       "5      Austria        34.66400\n",
       "6   Azerbaijan        18.32000\n",
       "7      Bahrain        60.52000\n",
       "8   Bangladesh        28.59000\n",
       "9      Belarus        12.04000"
      ]
     },
     "execution_count": 14,
     "metadata": {},
     "output_type": "execute_result"
    }
   ],
   "source": [
    "df_country = df.groupby(\"Country\", as_index=False)[\"Internet_Price\"].mean()\n",
    "df_country.head(10)"
   ]
  },
  {
   "cell_type": "code",
   "execution_count": 15,
   "id": "8cbb2136",
   "metadata": {
    "execution": {
     "iopub.execute_input": "2023-04-21T10:47:13.777825Z",
     "iopub.status.busy": "2023-04-21T10:47:13.777436Z",
     "iopub.status.idle": "2023-04-21T10:47:13.784554Z",
     "shell.execute_reply": "2023-04-21T10:47:13.783389Z"
    },
    "papermill": {
     "duration": 0.020727,
     "end_time": "2023-04-21T10:47:13.786833",
     "exception": false,
     "start_time": "2023-04-21T10:47:13.766106",
     "status": "completed"
    },
    "tags": []
   },
   "outputs": [],
   "source": [
    "the_most_exp_country = df_country.nlargest(20, \"Internet_Price\")"
   ]
  },
  {
   "cell_type": "code",
   "execution_count": 16,
   "id": "3a71e8de",
   "metadata": {
    "execution": {
     "iopub.execute_input": "2023-04-21T10:47:13.809735Z",
     "iopub.status.busy": "2023-04-21T10:47:13.809346Z",
     "iopub.status.idle": "2023-04-21T10:47:13.866272Z",
     "shell.execute_reply": "2023-04-21T10:47:13.865028Z"
    },
    "papermill": {
     "duration": 0.071135,
     "end_time": "2023-04-21T10:47:13.868921",
     "exception": false,
     "start_time": "2023-04-21T10:47:13.797786",
     "status": "completed"
    },
    "tags": []
   },
   "outputs": [
    {
     "data": {
      "text/html": [
       "<div>                            <div id=\"46b7bcde-ee20-4d7a-87a1-a34b1d3be972\" class=\"plotly-graph-div\" style=\"height:525px; width:100%;\"></div>            <script type=\"text/javascript\">                require([\"plotly\"], function(Plotly) {                    window.PLOTLYENV=window.PLOTLYENV || {};                                    if (document.getElementById(\"46b7bcde-ee20-4d7a-87a1-a34b1d3be972\")) {                    Plotly.newPlot(                        \"46b7bcde-ee20-4d7a-87a1-a34b1d3be972\",                        [{\"alignmentgroup\":\"True\",\"hovertemplate\":\"Country=%{x}<br>Internet_Price=%{y}<extra></extra>\",\"legendgroup\":\"\",\"marker\":{\"color\":\"#636efa\",\"pattern\":{\"shape\":\"\"}},\"name\":\"\",\"offsetgroup\":\"\",\"orientation\":\"v\",\"showlegend\":false,\"textposition\":\"auto\",\"x\":[\" Brunei\",\" Maldives\",\" Zimbabwe\",\" United Arab Emirates\",\" Qatar\",\" Oman\",\" Botswana\",\" Tanzania\",\" Honduras\",\" Uganda\",\" Iceland\",\" Guatemala\",\" United States of America\",\" Nicaragua\",\" Saudi Arabia\",\" Bahrain\",\" Luxembourg\",\" Switzerland\",\" Kenya\",\" Ireland\"],\"xaxis\":\"x\",\"y\":[111.43,109.22,104.83,100.362,84.92,81.81,73.69,72.67,69.29,69.06,67.09,67.03,66.4109009009009,62.55,61.12,60.52,60.29,60.225,59.88,55.916666666666664],\"yaxis\":\"y\",\"type\":\"bar\"}],                        {\"template\":{\"data\":{\"histogram2dcontour\":[{\"type\":\"histogram2dcontour\",\"colorbar\":{\"outlinewidth\":0,\"ticks\":\"\"},\"colorscale\":[[0.0,\"#0d0887\"],[0.1111111111111111,\"#46039f\"],[0.2222222222222222,\"#7201a8\"],[0.3333333333333333,\"#9c179e\"],[0.4444444444444444,\"#bd3786\"],[0.5555555555555556,\"#d8576b\"],[0.6666666666666666,\"#ed7953\"],[0.7777777777777778,\"#fb9f3a\"],[0.8888888888888888,\"#fdca26\"],[1.0,\"#f0f921\"]]}],\"choropleth\":[{\"type\":\"choropleth\",\"colorbar\":{\"outlinewidth\":0,\"ticks\":\"\"}}],\"histogram2d\":[{\"type\":\"histogram2d\",\"colorbar\":{\"outlinewidth\":0,\"ticks\":\"\"},\"colorscale\":[[0.0,\"#0d0887\"],[0.1111111111111111,\"#46039f\"],[0.2222222222222222,\"#7201a8\"],[0.3333333333333333,\"#9c179e\"],[0.4444444444444444,\"#bd3786\"],[0.5555555555555556,\"#d8576b\"],[0.6666666666666666,\"#ed7953\"],[0.7777777777777778,\"#fb9f3a\"],[0.8888888888888888,\"#fdca26\"],[1.0,\"#f0f921\"]]}],\"heatmap\":[{\"type\":\"heatmap\",\"colorbar\":{\"outlinewidth\":0,\"ticks\":\"\"},\"colorscale\":[[0.0,\"#0d0887\"],[0.1111111111111111,\"#46039f\"],[0.2222222222222222,\"#7201a8\"],[0.3333333333333333,\"#9c179e\"],[0.4444444444444444,\"#bd3786\"],[0.5555555555555556,\"#d8576b\"],[0.6666666666666666,\"#ed7953\"],[0.7777777777777778,\"#fb9f3a\"],[0.8888888888888888,\"#fdca26\"],[1.0,\"#f0f921\"]]}],\"heatmapgl\":[{\"type\":\"heatmapgl\",\"colorbar\":{\"outlinewidth\":0,\"ticks\":\"\"},\"colorscale\":[[0.0,\"#0d0887\"],[0.1111111111111111,\"#46039f\"],[0.2222222222222222,\"#7201a8\"],[0.3333333333333333,\"#9c179e\"],[0.4444444444444444,\"#bd3786\"],[0.5555555555555556,\"#d8576b\"],[0.6666666666666666,\"#ed7953\"],[0.7777777777777778,\"#fb9f3a\"],[0.8888888888888888,\"#fdca26\"],[1.0,\"#f0f921\"]]}],\"contourcarpet\":[{\"type\":\"contourcarpet\",\"colorbar\":{\"outlinewidth\":0,\"ticks\":\"\"}}],\"contour\":[{\"type\":\"contour\",\"colorbar\":{\"outlinewidth\":0,\"ticks\":\"\"},\"colorscale\":[[0.0,\"#0d0887\"],[0.1111111111111111,\"#46039f\"],[0.2222222222222222,\"#7201a8\"],[0.3333333333333333,\"#9c179e\"],[0.4444444444444444,\"#bd3786\"],[0.5555555555555556,\"#d8576b\"],[0.6666666666666666,\"#ed7953\"],[0.7777777777777778,\"#fb9f3a\"],[0.8888888888888888,\"#fdca26\"],[1.0,\"#f0f921\"]]}],\"surface\":[{\"type\":\"surface\",\"colorbar\":{\"outlinewidth\":0,\"ticks\":\"\"},\"colorscale\":[[0.0,\"#0d0887\"],[0.1111111111111111,\"#46039f\"],[0.2222222222222222,\"#7201a8\"],[0.3333333333333333,\"#9c179e\"],[0.4444444444444444,\"#bd3786\"],[0.5555555555555556,\"#d8576b\"],[0.6666666666666666,\"#ed7953\"],[0.7777777777777778,\"#fb9f3a\"],[0.8888888888888888,\"#fdca26\"],[1.0,\"#f0f921\"]]}],\"mesh3d\":[{\"type\":\"mesh3d\",\"colorbar\":{\"outlinewidth\":0,\"ticks\":\"\"}}],\"scatter\":[{\"fillpattern\":{\"fillmode\":\"overlay\",\"size\":10,\"solidity\":0.2},\"type\":\"scatter\"}],\"parcoords\":[{\"type\":\"parcoords\",\"line\":{\"colorbar\":{\"outlinewidth\":0,\"ticks\":\"\"}}}],\"scatterpolargl\":[{\"type\":\"scatterpolargl\",\"marker\":{\"colorbar\":{\"outlinewidth\":0,\"ticks\":\"\"}}}],\"bar\":[{\"error_x\":{\"color\":\"#2a3f5f\"},\"error_y\":{\"color\":\"#2a3f5f\"},\"marker\":{\"line\":{\"color\":\"#E5ECF6\",\"width\":0.5},\"pattern\":{\"fillmode\":\"overlay\",\"size\":10,\"solidity\":0.2}},\"type\":\"bar\"}],\"scattergeo\":[{\"type\":\"scattergeo\",\"marker\":{\"colorbar\":{\"outlinewidth\":0,\"ticks\":\"\"}}}],\"scatterpolar\":[{\"type\":\"scatterpolar\",\"marker\":{\"colorbar\":{\"outlinewidth\":0,\"ticks\":\"\"}}}],\"histogram\":[{\"marker\":{\"pattern\":{\"fillmode\":\"overlay\",\"size\":10,\"solidity\":0.2}},\"type\":\"histogram\"}],\"scattergl\":[{\"type\":\"scattergl\",\"marker\":{\"colorbar\":{\"outlinewidth\":0,\"ticks\":\"\"}}}],\"scatter3d\":[{\"type\":\"scatter3d\",\"line\":{\"colorbar\":{\"outlinewidth\":0,\"ticks\":\"\"}},\"marker\":{\"colorbar\":{\"outlinewidth\":0,\"ticks\":\"\"}}}],\"scattermapbox\":[{\"type\":\"scattermapbox\",\"marker\":{\"colorbar\":{\"outlinewidth\":0,\"ticks\":\"\"}}}],\"scatterternary\":[{\"type\":\"scatterternary\",\"marker\":{\"colorbar\":{\"outlinewidth\":0,\"ticks\":\"\"}}}],\"scattercarpet\":[{\"type\":\"scattercarpet\",\"marker\":{\"colorbar\":{\"outlinewidth\":0,\"ticks\":\"\"}}}],\"carpet\":[{\"aaxis\":{\"endlinecolor\":\"#2a3f5f\",\"gridcolor\":\"white\",\"linecolor\":\"white\",\"minorgridcolor\":\"white\",\"startlinecolor\":\"#2a3f5f\"},\"baxis\":{\"endlinecolor\":\"#2a3f5f\",\"gridcolor\":\"white\",\"linecolor\":\"white\",\"minorgridcolor\":\"white\",\"startlinecolor\":\"#2a3f5f\"},\"type\":\"carpet\"}],\"table\":[{\"cells\":{\"fill\":{\"color\":\"#EBF0F8\"},\"line\":{\"color\":\"white\"}},\"header\":{\"fill\":{\"color\":\"#C8D4E3\"},\"line\":{\"color\":\"white\"}},\"type\":\"table\"}],\"barpolar\":[{\"marker\":{\"line\":{\"color\":\"#E5ECF6\",\"width\":0.5},\"pattern\":{\"fillmode\":\"overlay\",\"size\":10,\"solidity\":0.2}},\"type\":\"barpolar\"}],\"pie\":[{\"automargin\":true,\"type\":\"pie\"}]},\"layout\":{\"autotypenumbers\":\"strict\",\"colorway\":[\"#636efa\",\"#EF553B\",\"#00cc96\",\"#ab63fa\",\"#FFA15A\",\"#19d3f3\",\"#FF6692\",\"#B6E880\",\"#FF97FF\",\"#FECB52\"],\"font\":{\"color\":\"#2a3f5f\"},\"hovermode\":\"closest\",\"hoverlabel\":{\"align\":\"left\"},\"paper_bgcolor\":\"white\",\"plot_bgcolor\":\"#E5ECF6\",\"polar\":{\"bgcolor\":\"#E5ECF6\",\"angularaxis\":{\"gridcolor\":\"white\",\"linecolor\":\"white\",\"ticks\":\"\"},\"radialaxis\":{\"gridcolor\":\"white\",\"linecolor\":\"white\",\"ticks\":\"\"}},\"ternary\":{\"bgcolor\":\"#E5ECF6\",\"aaxis\":{\"gridcolor\":\"white\",\"linecolor\":\"white\",\"ticks\":\"\"},\"baxis\":{\"gridcolor\":\"white\",\"linecolor\":\"white\",\"ticks\":\"\"},\"caxis\":{\"gridcolor\":\"white\",\"linecolor\":\"white\",\"ticks\":\"\"}},\"coloraxis\":{\"colorbar\":{\"outlinewidth\":0,\"ticks\":\"\"}},\"colorscale\":{\"sequential\":[[0.0,\"#0d0887\"],[0.1111111111111111,\"#46039f\"],[0.2222222222222222,\"#7201a8\"],[0.3333333333333333,\"#9c179e\"],[0.4444444444444444,\"#bd3786\"],[0.5555555555555556,\"#d8576b\"],[0.6666666666666666,\"#ed7953\"],[0.7777777777777778,\"#fb9f3a\"],[0.8888888888888888,\"#fdca26\"],[1.0,\"#f0f921\"]],\"sequentialminus\":[[0.0,\"#0d0887\"],[0.1111111111111111,\"#46039f\"],[0.2222222222222222,\"#7201a8\"],[0.3333333333333333,\"#9c179e\"],[0.4444444444444444,\"#bd3786\"],[0.5555555555555556,\"#d8576b\"],[0.6666666666666666,\"#ed7953\"],[0.7777777777777778,\"#fb9f3a\"],[0.8888888888888888,\"#fdca26\"],[1.0,\"#f0f921\"]],\"diverging\":[[0,\"#8e0152\"],[0.1,\"#c51b7d\"],[0.2,\"#de77ae\"],[0.3,\"#f1b6da\"],[0.4,\"#fde0ef\"],[0.5,\"#f7f7f7\"],[0.6,\"#e6f5d0\"],[0.7,\"#b8e186\"],[0.8,\"#7fbc41\"],[0.9,\"#4d9221\"],[1,\"#276419\"]]},\"xaxis\":{\"gridcolor\":\"white\",\"linecolor\":\"white\",\"ticks\":\"\",\"title\":{\"standoff\":15},\"zerolinecolor\":\"white\",\"automargin\":true,\"zerolinewidth\":2},\"yaxis\":{\"gridcolor\":\"white\",\"linecolor\":\"white\",\"ticks\":\"\",\"title\":{\"standoff\":15},\"zerolinecolor\":\"white\",\"automargin\":true,\"zerolinewidth\":2},\"scene\":{\"xaxis\":{\"backgroundcolor\":\"#E5ECF6\",\"gridcolor\":\"white\",\"linecolor\":\"white\",\"showbackground\":true,\"ticks\":\"\",\"zerolinecolor\":\"white\",\"gridwidth\":2},\"yaxis\":{\"backgroundcolor\":\"#E5ECF6\",\"gridcolor\":\"white\",\"linecolor\":\"white\",\"showbackground\":true,\"ticks\":\"\",\"zerolinecolor\":\"white\",\"gridwidth\":2},\"zaxis\":{\"backgroundcolor\":\"#E5ECF6\",\"gridcolor\":\"white\",\"linecolor\":\"white\",\"showbackground\":true,\"ticks\":\"\",\"zerolinecolor\":\"white\",\"gridwidth\":2}},\"shapedefaults\":{\"line\":{\"color\":\"#2a3f5f\"}},\"annotationdefaults\":{\"arrowcolor\":\"#2a3f5f\",\"arrowhead\":0,\"arrowwidth\":1},\"geo\":{\"bgcolor\":\"white\",\"landcolor\":\"#E5ECF6\",\"subunitcolor\":\"white\",\"showland\":true,\"showlakes\":true,\"lakecolor\":\"white\"},\"title\":{\"x\":0.05},\"mapbox\":{\"style\":\"light\"}}},\"xaxis\":{\"anchor\":\"y\",\"domain\":[0.0,1.0],\"title\":{\"text\":\"Country\"}},\"yaxis\":{\"anchor\":\"x\",\"domain\":[0.0,1.0],\"title\":{\"text\":\"Avrage internet price(USD)\"}},\"legend\":{\"tracegroupgap\":0},\"margin\":{\"t\":60},\"barmode\":\"relative\",\"title\":{\"text\":\"Countries with the most expensive internet price\"}},                        {\"responsive\": true}                    ).then(function(){\n",
       "                            \n",
       "var gd = document.getElementById('46b7bcde-ee20-4d7a-87a1-a34b1d3be972');\n",
       "var x = new MutationObserver(function (mutations, observer) {{\n",
       "        var display = window.getComputedStyle(gd).display;\n",
       "        if (!display || display === 'none') {{\n",
       "            console.log([gd, 'removed!']);\n",
       "            Plotly.purge(gd);\n",
       "            observer.disconnect();\n",
       "        }}\n",
       "}});\n",
       "\n",
       "// Listen for the removal of the full notebook cells\n",
       "var notebookContainer = gd.closest('#notebook-container');\n",
       "if (notebookContainer) {{\n",
       "    x.observe(notebookContainer, {childList: true});\n",
       "}}\n",
       "\n",
       "// Listen for the clearing of the current output cell\n",
       "var outputEl = gd.closest('.output');\n",
       "if (outputEl) {{\n",
       "    x.observe(outputEl, {childList: true});\n",
       "}}\n",
       "\n",
       "                        })                };                });            </script>        </div>"
      ]
     },
     "metadata": {},
     "output_type": "display_data"
    }
   ],
   "source": [
    "fig = px.bar(the_most_exp_country, x = \"Country\", y=\"Internet_Price\")\n",
    "fig.update_layout(title = \"Countries with the most expensive internet price\")\n",
    "fig.update_yaxes(title = \"Avrage internet price(USD)\")\n",
    "fig.show()"
   ]
  },
  {
   "cell_type": "markdown",
   "id": "31b65182",
   "metadata": {
    "papermill": {
     "duration": 0.009998,
     "end_time": "2023-04-21T10:47:13.889519",
     "exception": false,
     "start_time": "2023-04-21T10:47:13.879521",
     "status": "completed"
    },
    "tags": []
   },
   "source": [
    "# Countries with the cheapest internet price"
   ]
  },
  {
   "cell_type": "code",
   "execution_count": 17,
   "id": "7a1140d7",
   "metadata": {
    "execution": {
     "iopub.execute_input": "2023-04-21T10:47:13.912083Z",
     "iopub.status.busy": "2023-04-21T10:47:13.911628Z",
     "iopub.status.idle": "2023-04-21T10:47:13.919074Z",
     "shell.execute_reply": "2023-04-21T10:47:13.918068Z"
    },
    "papermill": {
     "duration": 0.021518,
     "end_time": "2023-04-21T10:47:13.921438",
     "exception": false,
     "start_time": "2023-04-21T10:47:13.899920",
     "status": "completed"
    },
    "tags": []
   },
   "outputs": [],
   "source": [
    "the_most_cheap_country = df_country.nsmallest(20, \"Internet_Price\")"
   ]
  },
  {
   "cell_type": "code",
   "execution_count": 18,
   "id": "9c7b31f8",
   "metadata": {
    "execution": {
     "iopub.execute_input": "2023-04-21T10:47:13.944301Z",
     "iopub.status.busy": "2023-04-21T10:47:13.943310Z",
     "iopub.status.idle": "2023-04-21T10:47:14.004395Z",
     "shell.execute_reply": "2023-04-21T10:47:14.003111Z"
    },
    "papermill": {
     "duration": 0.075407,
     "end_time": "2023-04-21T10:47:14.007221",
     "exception": false,
     "start_time": "2023-04-21T10:47:13.931814",
     "status": "completed"
    },
    "tags": []
   },
   "outputs": [
    {
     "data": {
      "text/html": [
       "<div>                            <div id=\"51c48cc9-97e5-406f-83ad-825e7a137185\" class=\"plotly-graph-div\" style=\"height:525px; width:100%;\"></div>            <script type=\"text/javascript\">                require([\"plotly\"], function(Plotly) {                    window.PLOTLYENV=window.PLOTLYENV || {};                                    if (document.getElementById(\"51c48cc9-97e5-406f-83ad-825e7a137185\")) {                    Plotly.newPlot(                        \"51c48cc9-97e5-406f-83ad-825e7a137185\",                        [{\"alignmentgroup\":\"True\",\"hovertemplate\":\"Country=%{x}<br>Internet_Price=%{y}<extra></extra>\",\"legendgroup\":\"\",\"marker\":{\"color\":\"#636efa\",\"pattern\":{\"shape\":\"\"}},\"name\":\"\",\"offsetgroup\":\"\",\"orientation\":\"v\",\"showlegend\":false,\"textposition\":\"auto\",\"x\":[\" Ukraine\",\" Russia\",\" Romania\",\" Venezuela\",\" India\",\" Vietnam\",\" Kazakhstan\",\" Bulgaria\",\" Lithuania\",\" Belarus\",\" Poland\",\" Hungary\",\" People's Republic of China\",\" Georgia\",\" Turkey\",\" Tunisia\",\" Kyrgyzstan\",\" Slovakia\",\" Nepal\",\" Sri Lanka\"],\"xaxis\":\"x\",\"y\":[5.010000000000001,6.811599999999999,8.831999999999999,9.11,10.503333333333334,10.575,11.34,11.802,11.9,12.04,13.577000000000002,14.44,14.909999999999998,15.075,15.186666666666667,15.2,16.79,16.89,17.35,17.42],\"yaxis\":\"y\",\"type\":\"bar\"}],                        {\"template\":{\"data\":{\"histogram2dcontour\":[{\"type\":\"histogram2dcontour\",\"colorbar\":{\"outlinewidth\":0,\"ticks\":\"\"},\"colorscale\":[[0.0,\"#0d0887\"],[0.1111111111111111,\"#46039f\"],[0.2222222222222222,\"#7201a8\"],[0.3333333333333333,\"#9c179e\"],[0.4444444444444444,\"#bd3786\"],[0.5555555555555556,\"#d8576b\"],[0.6666666666666666,\"#ed7953\"],[0.7777777777777778,\"#fb9f3a\"],[0.8888888888888888,\"#fdca26\"],[1.0,\"#f0f921\"]]}],\"choropleth\":[{\"type\":\"choropleth\",\"colorbar\":{\"outlinewidth\":0,\"ticks\":\"\"}}],\"histogram2d\":[{\"type\":\"histogram2d\",\"colorbar\":{\"outlinewidth\":0,\"ticks\":\"\"},\"colorscale\":[[0.0,\"#0d0887\"],[0.1111111111111111,\"#46039f\"],[0.2222222222222222,\"#7201a8\"],[0.3333333333333333,\"#9c179e\"],[0.4444444444444444,\"#bd3786\"],[0.5555555555555556,\"#d8576b\"],[0.6666666666666666,\"#ed7953\"],[0.7777777777777778,\"#fb9f3a\"],[0.8888888888888888,\"#fdca26\"],[1.0,\"#f0f921\"]]}],\"heatmap\":[{\"type\":\"heatmap\",\"colorbar\":{\"outlinewidth\":0,\"ticks\":\"\"},\"colorscale\":[[0.0,\"#0d0887\"],[0.1111111111111111,\"#46039f\"],[0.2222222222222222,\"#7201a8\"],[0.3333333333333333,\"#9c179e\"],[0.4444444444444444,\"#bd3786\"],[0.5555555555555556,\"#d8576b\"],[0.6666666666666666,\"#ed7953\"],[0.7777777777777778,\"#fb9f3a\"],[0.8888888888888888,\"#fdca26\"],[1.0,\"#f0f921\"]]}],\"heatmapgl\":[{\"type\":\"heatmapgl\",\"colorbar\":{\"outlinewidth\":0,\"ticks\":\"\"},\"colorscale\":[[0.0,\"#0d0887\"],[0.1111111111111111,\"#46039f\"],[0.2222222222222222,\"#7201a8\"],[0.3333333333333333,\"#9c179e\"],[0.4444444444444444,\"#bd3786\"],[0.5555555555555556,\"#d8576b\"],[0.6666666666666666,\"#ed7953\"],[0.7777777777777778,\"#fb9f3a\"],[0.8888888888888888,\"#fdca26\"],[1.0,\"#f0f921\"]]}],\"contourcarpet\":[{\"type\":\"contourcarpet\",\"colorbar\":{\"outlinewidth\":0,\"ticks\":\"\"}}],\"contour\":[{\"type\":\"contour\",\"colorbar\":{\"outlinewidth\":0,\"ticks\":\"\"},\"colorscale\":[[0.0,\"#0d0887\"],[0.1111111111111111,\"#46039f\"],[0.2222222222222222,\"#7201a8\"],[0.3333333333333333,\"#9c179e\"],[0.4444444444444444,\"#bd3786\"],[0.5555555555555556,\"#d8576b\"],[0.6666666666666666,\"#ed7953\"],[0.7777777777777778,\"#fb9f3a\"],[0.8888888888888888,\"#fdca26\"],[1.0,\"#f0f921\"]]}],\"surface\":[{\"type\":\"surface\",\"colorbar\":{\"outlinewidth\":0,\"ticks\":\"\"},\"colorscale\":[[0.0,\"#0d0887\"],[0.1111111111111111,\"#46039f\"],[0.2222222222222222,\"#7201a8\"],[0.3333333333333333,\"#9c179e\"],[0.4444444444444444,\"#bd3786\"],[0.5555555555555556,\"#d8576b\"],[0.6666666666666666,\"#ed7953\"],[0.7777777777777778,\"#fb9f3a\"],[0.8888888888888888,\"#fdca26\"],[1.0,\"#f0f921\"]]}],\"mesh3d\":[{\"type\":\"mesh3d\",\"colorbar\":{\"outlinewidth\":0,\"ticks\":\"\"}}],\"scatter\":[{\"fillpattern\":{\"fillmode\":\"overlay\",\"size\":10,\"solidity\":0.2},\"type\":\"scatter\"}],\"parcoords\":[{\"type\":\"parcoords\",\"line\":{\"colorbar\":{\"outlinewidth\":0,\"ticks\":\"\"}}}],\"scatterpolargl\":[{\"type\":\"scatterpolargl\",\"marker\":{\"colorbar\":{\"outlinewidth\":0,\"ticks\":\"\"}}}],\"bar\":[{\"error_x\":{\"color\":\"#2a3f5f\"},\"error_y\":{\"color\":\"#2a3f5f\"},\"marker\":{\"line\":{\"color\":\"#E5ECF6\",\"width\":0.5},\"pattern\":{\"fillmode\":\"overlay\",\"size\":10,\"solidity\":0.2}},\"type\":\"bar\"}],\"scattergeo\":[{\"type\":\"scattergeo\",\"marker\":{\"colorbar\":{\"outlinewidth\":0,\"ticks\":\"\"}}}],\"scatterpolar\":[{\"type\":\"scatterpolar\",\"marker\":{\"colorbar\":{\"outlinewidth\":0,\"ticks\":\"\"}}}],\"histogram\":[{\"marker\":{\"pattern\":{\"fillmode\":\"overlay\",\"size\":10,\"solidity\":0.2}},\"type\":\"histogram\"}],\"scattergl\":[{\"type\":\"scattergl\",\"marker\":{\"colorbar\":{\"outlinewidth\":0,\"ticks\":\"\"}}}],\"scatter3d\":[{\"type\":\"scatter3d\",\"line\":{\"colorbar\":{\"outlinewidth\":0,\"ticks\":\"\"}},\"marker\":{\"colorbar\":{\"outlinewidth\":0,\"ticks\":\"\"}}}],\"scattermapbox\":[{\"type\":\"scattermapbox\",\"marker\":{\"colorbar\":{\"outlinewidth\":0,\"ticks\":\"\"}}}],\"scatterternary\":[{\"type\":\"scatterternary\",\"marker\":{\"colorbar\":{\"outlinewidth\":0,\"ticks\":\"\"}}}],\"scattercarpet\":[{\"type\":\"scattercarpet\",\"marker\":{\"colorbar\":{\"outlinewidth\":0,\"ticks\":\"\"}}}],\"carpet\":[{\"aaxis\":{\"endlinecolor\":\"#2a3f5f\",\"gridcolor\":\"white\",\"linecolor\":\"white\",\"minorgridcolor\":\"white\",\"startlinecolor\":\"#2a3f5f\"},\"baxis\":{\"endlinecolor\":\"#2a3f5f\",\"gridcolor\":\"white\",\"linecolor\":\"white\",\"minorgridcolor\":\"white\",\"startlinecolor\":\"#2a3f5f\"},\"type\":\"carpet\"}],\"table\":[{\"cells\":{\"fill\":{\"color\":\"#EBF0F8\"},\"line\":{\"color\":\"white\"}},\"header\":{\"fill\":{\"color\":\"#C8D4E3\"},\"line\":{\"color\":\"white\"}},\"type\":\"table\"}],\"barpolar\":[{\"marker\":{\"line\":{\"color\":\"#E5ECF6\",\"width\":0.5},\"pattern\":{\"fillmode\":\"overlay\",\"size\":10,\"solidity\":0.2}},\"type\":\"barpolar\"}],\"pie\":[{\"automargin\":true,\"type\":\"pie\"}]},\"layout\":{\"autotypenumbers\":\"strict\",\"colorway\":[\"#636efa\",\"#EF553B\",\"#00cc96\",\"#ab63fa\",\"#FFA15A\",\"#19d3f3\",\"#FF6692\",\"#B6E880\",\"#FF97FF\",\"#FECB52\"],\"font\":{\"color\":\"#2a3f5f\"},\"hovermode\":\"closest\",\"hoverlabel\":{\"align\":\"left\"},\"paper_bgcolor\":\"white\",\"plot_bgcolor\":\"#E5ECF6\",\"polar\":{\"bgcolor\":\"#E5ECF6\",\"angularaxis\":{\"gridcolor\":\"white\",\"linecolor\":\"white\",\"ticks\":\"\"},\"radialaxis\":{\"gridcolor\":\"white\",\"linecolor\":\"white\",\"ticks\":\"\"}},\"ternary\":{\"bgcolor\":\"#E5ECF6\",\"aaxis\":{\"gridcolor\":\"white\",\"linecolor\":\"white\",\"ticks\":\"\"},\"baxis\":{\"gridcolor\":\"white\",\"linecolor\":\"white\",\"ticks\":\"\"},\"caxis\":{\"gridcolor\":\"white\",\"linecolor\":\"white\",\"ticks\":\"\"}},\"coloraxis\":{\"colorbar\":{\"outlinewidth\":0,\"ticks\":\"\"}},\"colorscale\":{\"sequential\":[[0.0,\"#0d0887\"],[0.1111111111111111,\"#46039f\"],[0.2222222222222222,\"#7201a8\"],[0.3333333333333333,\"#9c179e\"],[0.4444444444444444,\"#bd3786\"],[0.5555555555555556,\"#d8576b\"],[0.6666666666666666,\"#ed7953\"],[0.7777777777777778,\"#fb9f3a\"],[0.8888888888888888,\"#fdca26\"],[1.0,\"#f0f921\"]],\"sequentialminus\":[[0.0,\"#0d0887\"],[0.1111111111111111,\"#46039f\"],[0.2222222222222222,\"#7201a8\"],[0.3333333333333333,\"#9c179e\"],[0.4444444444444444,\"#bd3786\"],[0.5555555555555556,\"#d8576b\"],[0.6666666666666666,\"#ed7953\"],[0.7777777777777778,\"#fb9f3a\"],[0.8888888888888888,\"#fdca26\"],[1.0,\"#f0f921\"]],\"diverging\":[[0,\"#8e0152\"],[0.1,\"#c51b7d\"],[0.2,\"#de77ae\"],[0.3,\"#f1b6da\"],[0.4,\"#fde0ef\"],[0.5,\"#f7f7f7\"],[0.6,\"#e6f5d0\"],[0.7,\"#b8e186\"],[0.8,\"#7fbc41\"],[0.9,\"#4d9221\"],[1,\"#276419\"]]},\"xaxis\":{\"gridcolor\":\"white\",\"linecolor\":\"white\",\"ticks\":\"\",\"title\":{\"standoff\":15},\"zerolinecolor\":\"white\",\"automargin\":true,\"zerolinewidth\":2},\"yaxis\":{\"gridcolor\":\"white\",\"linecolor\":\"white\",\"ticks\":\"\",\"title\":{\"standoff\":15},\"zerolinecolor\":\"white\",\"automargin\":true,\"zerolinewidth\":2},\"scene\":{\"xaxis\":{\"backgroundcolor\":\"#E5ECF6\",\"gridcolor\":\"white\",\"linecolor\":\"white\",\"showbackground\":true,\"ticks\":\"\",\"zerolinecolor\":\"white\",\"gridwidth\":2},\"yaxis\":{\"backgroundcolor\":\"#E5ECF6\",\"gridcolor\":\"white\",\"linecolor\":\"white\",\"showbackground\":true,\"ticks\":\"\",\"zerolinecolor\":\"white\",\"gridwidth\":2},\"zaxis\":{\"backgroundcolor\":\"#E5ECF6\",\"gridcolor\":\"white\",\"linecolor\":\"white\",\"showbackground\":true,\"ticks\":\"\",\"zerolinecolor\":\"white\",\"gridwidth\":2}},\"shapedefaults\":{\"line\":{\"color\":\"#2a3f5f\"}},\"annotationdefaults\":{\"arrowcolor\":\"#2a3f5f\",\"arrowhead\":0,\"arrowwidth\":1},\"geo\":{\"bgcolor\":\"white\",\"landcolor\":\"#E5ECF6\",\"subunitcolor\":\"white\",\"showland\":true,\"showlakes\":true,\"lakecolor\":\"white\"},\"title\":{\"x\":0.05},\"mapbox\":{\"style\":\"light\"}}},\"xaxis\":{\"anchor\":\"y\",\"domain\":[0.0,1.0],\"title\":{\"text\":\"Country\"}},\"yaxis\":{\"anchor\":\"x\",\"domain\":[0.0,1.0],\"title\":{\"text\":\"Avrage internet price(USD)\"}},\"legend\":{\"tracegroupgap\":0},\"margin\":{\"t\":60},\"barmode\":\"relative\",\"title\":{\"text\":\"Countries with the cheapest internet price\"}},                        {\"responsive\": true}                    ).then(function(){\n",
       "                            \n",
       "var gd = document.getElementById('51c48cc9-97e5-406f-83ad-825e7a137185');\n",
       "var x = new MutationObserver(function (mutations, observer) {{\n",
       "        var display = window.getComputedStyle(gd).display;\n",
       "        if (!display || display === 'none') {{\n",
       "            console.log([gd, 'removed!']);\n",
       "            Plotly.purge(gd);\n",
       "            observer.disconnect();\n",
       "        }}\n",
       "}});\n",
       "\n",
       "// Listen for the removal of the full notebook cells\n",
       "var notebookContainer = gd.closest('#notebook-container');\n",
       "if (notebookContainer) {{\n",
       "    x.observe(notebookContainer, {childList: true});\n",
       "}}\n",
       "\n",
       "// Listen for the clearing of the current output cell\n",
       "var outputEl = gd.closest('.output');\n",
       "if (outputEl) {{\n",
       "    x.observe(outputEl, {childList: true});\n",
       "}}\n",
       "\n",
       "                        })                };                });            </script>        </div>"
      ]
     },
     "metadata": {},
     "output_type": "display_data"
    }
   ],
   "source": [
    "fig = px.bar(the_most_cheap_country, x = \"Country\", y=\"Internet_Price\")\n",
    "fig.update_layout(title = \"Countries with the cheapest internet price\")\n",
    "fig.update_yaxes(title = \"Avrage internet price(USD)\")\n",
    "fig.show()"
   ]
  },
  {
   "cell_type": "markdown",
   "id": "7dc4790b",
   "metadata": {
    "papermill": {
     "duration": 0.010141,
     "end_time": "2023-04-21T10:47:14.028110",
     "exception": false,
     "start_time": "2023-04-21T10:47:14.017969",
     "status": "completed"
    },
    "tags": []
   },
   "source": [
    "# MAP"
   ]
  },
  {
   "cell_type": "code",
   "execution_count": 19,
   "id": "b6c8a315",
   "metadata": {
    "execution": {
     "iopub.execute_input": "2023-04-21T10:47:14.051770Z",
     "iopub.status.busy": "2023-04-21T10:47:14.051370Z",
     "iopub.status.idle": "2023-04-21T10:47:14.062010Z",
     "shell.execute_reply": "2023-04-21T10:47:14.061098Z"
    },
    "papermill": {
     "duration": 0.025671,
     "end_time": "2023-04-21T10:47:14.064417",
     "exception": false,
     "start_time": "2023-04-21T10:47:14.038746",
     "status": "completed"
    },
    "tags": []
   },
   "outputs": [
    {
     "data": {
      "text/html": [
       "<div>\n",
       "<style scoped>\n",
       "    .dataframe tbody tr th:only-of-type {\n",
       "        vertical-align: middle;\n",
       "    }\n",
       "\n",
       "    .dataframe tbody tr th {\n",
       "        vertical-align: top;\n",
       "    }\n",
       "\n",
       "    .dataframe thead th {\n",
       "        text-align: right;\n",
       "    }\n",
       "</style>\n",
       "<table border=\"1\" class=\"dataframe\">\n",
       "  <thead>\n",
       "    <tr style=\"text-align: right;\">\n",
       "      <th></th>\n",
       "      <th>Country</th>\n",
       "      <th>Internet_Price</th>\n",
       "    </tr>\n",
       "  </thead>\n",
       "  <tbody>\n",
       "    <tr>\n",
       "      <th>0</th>\n",
       "      <td>Albania</td>\n",
       "      <td>21.16000</td>\n",
       "    </tr>\n",
       "    <tr>\n",
       "      <th>1</th>\n",
       "      <td>Algeria</td>\n",
       "      <td>45.18000</td>\n",
       "    </tr>\n",
       "    <tr>\n",
       "      <th>2</th>\n",
       "      <td>Argentina</td>\n",
       "      <td>29.41400</td>\n",
       "    </tr>\n",
       "    <tr>\n",
       "      <th>3</th>\n",
       "      <td>Armenia</td>\n",
       "      <td>17.69000</td>\n",
       "    </tr>\n",
       "    <tr>\n",
       "      <th>4</th>\n",
       "      <td>Australia</td>\n",
       "      <td>51.66125</td>\n",
       "    </tr>\n",
       "  </tbody>\n",
       "</table>\n",
       "</div>"
      ],
      "text/plain": [
       "      Country  Internet_Price\n",
       "0     Albania        21.16000\n",
       "1     Algeria        45.18000\n",
       "2   Argentina        29.41400\n",
       "3     Armenia        17.69000\n",
       "4   Australia        51.66125"
      ]
     },
     "execution_count": 19,
     "metadata": {},
     "output_type": "execute_result"
    }
   ],
   "source": [
    "df_country.head()"
   ]
  },
  {
   "cell_type": "code",
   "execution_count": 20,
   "id": "43501788",
   "metadata": {
    "execution": {
     "iopub.execute_input": "2023-04-21T10:47:14.087910Z",
     "iopub.status.busy": "2023-04-21T10:47:14.087179Z",
     "iopub.status.idle": "2023-04-21T10:47:14.331009Z",
     "shell.execute_reply": "2023-04-21T10:47:14.329934Z"
    },
    "papermill": {
     "duration": 0.258594,
     "end_time": "2023-04-21T10:47:14.333868",
     "exception": false,
     "start_time": "2023-04-21T10:47:14.075274",
     "status": "completed"
    },
    "tags": []
   },
   "outputs": [],
   "source": [
    "from geopy.geocoders import Nominatim"
   ]
  },
  {
   "cell_type": "code",
   "execution_count": 21,
   "id": "18cba8b0",
   "metadata": {
    "execution": {
     "iopub.execute_input": "2023-04-21T10:47:14.358549Z",
     "iopub.status.busy": "2023-04-21T10:47:14.357818Z",
     "iopub.status.idle": "2023-04-21T10:47:14.365282Z",
     "shell.execute_reply": "2023-04-21T10:47:14.363938Z"
    },
    "papermill": {
     "duration": 0.023099,
     "end_time": "2023-04-21T10:47:14.367903",
     "exception": false,
     "start_time": "2023-04-21T10:47:14.344804",
     "status": "completed"
    },
    "tags": []
   },
   "outputs": [],
   "source": [
    "geolocator = Nominatim(user_agent = \"my_email\")\n",
    "\n",
    "def get_latitude(Country):\n",
    "    try:\n",
    "        loc = geolocator.geocode(Country)\n",
    "        return loc.latitude\n",
    "    except:np.nan\n",
    "        \n",
    "        \n",
    "        \n",
    "def get_longitude(Country):\n",
    "    try:\n",
    "         # Geolocate the center of the country\n",
    "            \n",
    "        loc = geolocator.geocode(Country)\n",
    "        \n",
    "         # And return latitude and longitude\n",
    "            \n",
    "        return loc.longitude\n",
    "    except:np.nan\n",
    "        # Return missing value\n"
   ]
  },
  {
   "cell_type": "code",
   "execution_count": 22,
   "id": "3bb4e932",
   "metadata": {
    "execution": {
     "iopub.execute_input": "2023-04-21T10:47:14.391408Z",
     "iopub.status.busy": "2023-04-21T10:47:14.390959Z",
     "iopub.status.idle": "2023-04-21T10:48:08.492113Z",
     "shell.execute_reply": "2023-04-21T10:48:08.490959Z"
    },
    "papermill": {
     "duration": 54.116561,
     "end_time": "2023-04-21T10:48:08.495334",
     "exception": false,
     "start_time": "2023-04-21T10:47:14.378773",
     "status": "completed"
    },
    "tags": []
   },
   "outputs": [],
   "source": [
    "df_country[\"Latitude\"] = df_country[\"Country\"].apply(lambda x: get_latitude(x))"
   ]
  },
  {
   "cell_type": "code",
   "execution_count": 23,
   "id": "a2ed11ce",
   "metadata": {
    "execution": {
     "iopub.execute_input": "2023-04-21T10:48:08.520306Z",
     "iopub.status.busy": "2023-04-21T10:48:08.519705Z",
     "iopub.status.idle": "2023-04-21T10:49:03.009232Z",
     "shell.execute_reply": "2023-04-21T10:49:03.008050Z"
    },
    "papermill": {
     "duration": 54.50497,
     "end_time": "2023-04-21T10:49:03.012268",
     "exception": false,
     "start_time": "2023-04-21T10:48:08.507298",
     "status": "completed"
    },
    "tags": []
   },
   "outputs": [],
   "source": [
    "df_country[\"Longitude\"]  = df_country[\"Country\"].apply(lambda x : get_longitude(x))"
   ]
  },
  {
   "cell_type": "code",
   "execution_count": 24,
   "id": "71dcc118",
   "metadata": {
    "execution": {
     "iopub.execute_input": "2023-04-21T10:49:03.036561Z",
     "iopub.status.busy": "2023-04-21T10:49:03.035867Z",
     "iopub.status.idle": "2023-04-21T10:49:03.049329Z",
     "shell.execute_reply": "2023-04-21T10:49:03.048012Z"
    },
    "papermill": {
     "duration": 0.028215,
     "end_time": "2023-04-21T10:49:03.051784",
     "exception": false,
     "start_time": "2023-04-21T10:49:03.023569",
     "status": "completed"
    },
    "tags": []
   },
   "outputs": [
    {
     "data": {
      "text/html": [
       "<div>\n",
       "<style scoped>\n",
       "    .dataframe tbody tr th:only-of-type {\n",
       "        vertical-align: middle;\n",
       "    }\n",
       "\n",
       "    .dataframe tbody tr th {\n",
       "        vertical-align: top;\n",
       "    }\n",
       "\n",
       "    .dataframe thead th {\n",
       "        text-align: right;\n",
       "    }\n",
       "</style>\n",
       "<table border=\"1\" class=\"dataframe\">\n",
       "  <thead>\n",
       "    <tr style=\"text-align: right;\">\n",
       "      <th></th>\n",
       "      <th>Country</th>\n",
       "      <th>Internet_Price</th>\n",
       "      <th>Latitude</th>\n",
       "      <th>Longitude</th>\n",
       "    </tr>\n",
       "  </thead>\n",
       "  <tbody>\n",
       "    <tr>\n",
       "      <th>0</th>\n",
       "      <td>Albania</td>\n",
       "      <td>21.16000</td>\n",
       "      <td>41.000028</td>\n",
       "      <td>19.999962</td>\n",
       "    </tr>\n",
       "    <tr>\n",
       "      <th>1</th>\n",
       "      <td>Algeria</td>\n",
       "      <td>45.18000</td>\n",
       "      <td>28.000027</td>\n",
       "      <td>2.999983</td>\n",
       "    </tr>\n",
       "    <tr>\n",
       "      <th>2</th>\n",
       "      <td>Argentina</td>\n",
       "      <td>29.41400</td>\n",
       "      <td>-34.996496</td>\n",
       "      <td>-64.967282</td>\n",
       "    </tr>\n",
       "    <tr>\n",
       "      <th>3</th>\n",
       "      <td>Armenia</td>\n",
       "      <td>17.69000</td>\n",
       "      <td>40.769627</td>\n",
       "      <td>44.673665</td>\n",
       "    </tr>\n",
       "    <tr>\n",
       "      <th>4</th>\n",
       "      <td>Australia</td>\n",
       "      <td>51.66125</td>\n",
       "      <td>-24.776109</td>\n",
       "      <td>134.755000</td>\n",
       "    </tr>\n",
       "  </tbody>\n",
       "</table>\n",
       "</div>"
      ],
      "text/plain": [
       "      Country  Internet_Price   Latitude   Longitude\n",
       "0     Albania        21.16000  41.000028   19.999962\n",
       "1     Algeria        45.18000  28.000027    2.999983\n",
       "2   Argentina        29.41400 -34.996496  -64.967282\n",
       "3     Armenia        17.69000  40.769627   44.673665\n",
       "4   Australia        51.66125 -24.776109  134.755000"
      ]
     },
     "execution_count": 24,
     "metadata": {},
     "output_type": "execute_result"
    }
   ],
   "source": [
    "df_country.head()"
   ]
  },
  {
   "cell_type": "markdown",
   "id": "830bb007",
   "metadata": {
    "papermill": {
     "duration": 0.010545,
     "end_time": "2023-04-21T10:49:03.073425",
     "exception": false,
     "start_time": "2023-04-21T10:49:03.062880",
     "status": "completed"
    },
    "tags": []
   },
   "source": [
    "# FIND YOUR COUNTRY # "
   ]
  },
  {
   "cell_type": "code",
   "execution_count": 25,
   "id": "a5107a78",
   "metadata": {
    "execution": {
     "iopub.execute_input": "2023-04-21T10:49:03.097840Z",
     "iopub.status.busy": "2023-04-21T10:49:03.096678Z",
     "iopub.status.idle": "2023-04-21T10:49:03.649203Z",
     "shell.execute_reply": "2023-04-21T10:49:03.648130Z"
    },
    "papermill": {
     "duration": 0.56809,
     "end_time": "2023-04-21T10:49:03.652550",
     "exception": false,
     "start_time": "2023-04-21T10:49:03.084460",
     "status": "completed"
    },
    "tags": []
   },
   "outputs": [
    {
     "data": {
      "text/html": [
       "<div>                            <div id=\"ccbd1def-d69e-4670-9cac-08b34fdbdfe9\" class=\"plotly-graph-div\" style=\"height:525px; width:100%;\"></div>            <script type=\"text/javascript\">                require([\"plotly\"], function(Plotly) {                    window.PLOTLYENV=window.PLOTLYENV || {};                                    if (document.getElementById(\"ccbd1def-d69e-4670-9cac-08b34fdbdfe9\")) {                    Plotly.newPlot(                        \"ccbd1def-d69e-4670-9cac-08b34fdbdfe9\",                        [{\"geo\":\"geo\",\"hovertemplate\":\"<b>%{hovertext}</b><br><br>Country= Albania<br>Internet_Price=%{marker.size}<br>Latitude=%{lat}<br>Longitude=%{lon}<extra></extra>\",\"hovertext\":[\" Albania\"],\"lat\":[41.000028],\"legendgroup\":\" Albania\",\"lon\":[19.9999619],\"marker\":{\"color\":\"#636efa\",\"size\":[21.16],\"sizemode\":\"area\",\"sizeref\":0.278575,\"symbol\":\"circle\"},\"mode\":\"markers\",\"name\":\" Albania\",\"showlegend\":true,\"type\":\"scattergeo\"},{\"geo\":\"geo\",\"hovertemplate\":\"<b>%{hovertext}</b><br><br>Country= Algeria<br>Internet_Price=%{marker.size}<br>Latitude=%{lat}<br>Longitude=%{lon}<extra></extra>\",\"hovertext\":[\" Algeria\"],\"lat\":[28.0000272],\"legendgroup\":\" Algeria\",\"lon\":[2.9999825],\"marker\":{\"color\":\"#EF553B\",\"size\":[45.18],\"sizemode\":\"area\",\"sizeref\":0.278575,\"symbol\":\"circle\"},\"mode\":\"markers\",\"name\":\" Algeria\",\"showlegend\":true,\"type\":\"scattergeo\"},{\"geo\":\"geo\",\"hovertemplate\":\"<b>%{hovertext}</b><br><br>Country= Argentina<br>Internet_Price=%{marker.size}<br>Latitude=%{lat}<br>Longitude=%{lon}<extra></extra>\",\"hovertext\":[\" Argentina\"],\"lat\":[-34.9964963],\"legendgroup\":\" Argentina\",\"lon\":[-64.9672817],\"marker\":{\"color\":\"#00cc96\",\"size\":[29.413999999999998],\"sizemode\":\"area\",\"sizeref\":0.278575,\"symbol\":\"circle\"},\"mode\":\"markers\",\"name\":\" Argentina\",\"showlegend\":true,\"type\":\"scattergeo\"},{\"geo\":\"geo\",\"hovertemplate\":\"<b>%{hovertext}</b><br><br>Country= Armenia<br>Internet_Price=%{marker.size}<br>Latitude=%{lat}<br>Longitude=%{lon}<extra></extra>\",\"hovertext\":[\" Armenia\"],\"lat\":[40.7696272],\"legendgroup\":\" Armenia\",\"lon\":[44.6736646],\"marker\":{\"color\":\"#ab63fa\",\"size\":[17.69],\"sizemode\":\"area\",\"sizeref\":0.278575,\"symbol\":\"circle\"},\"mode\":\"markers\",\"name\":\" Armenia\",\"showlegend\":true,\"type\":\"scattergeo\"},{\"geo\":\"geo\",\"hovertemplate\":\"<b>%{hovertext}</b><br><br>Country= Australia<br>Internet_Price=%{marker.size}<br>Latitude=%{lat}<br>Longitude=%{lon}<extra></extra>\",\"hovertext\":[\" Australia\"],\"lat\":[-24.7761086],\"legendgroup\":\" Australia\",\"lon\":[134.755],\"marker\":{\"color\":\"#FFA15A\",\"size\":[51.66125],\"sizemode\":\"area\",\"sizeref\":0.278575,\"symbol\":\"circle\"},\"mode\":\"markers\",\"name\":\" Australia\",\"showlegend\":true,\"type\":\"scattergeo\"},{\"geo\":\"geo\",\"hovertemplate\":\"<b>%{hovertext}</b><br><br>Country= Austria<br>Internet_Price=%{marker.size}<br>Latitude=%{lat}<br>Longitude=%{lon}<extra></extra>\",\"hovertext\":[\" Austria\"],\"lat\":[47.59397],\"legendgroup\":\" Austria\",\"lon\":[14.12456],\"marker\":{\"color\":\"#19d3f3\",\"size\":[34.664],\"sizemode\":\"area\",\"sizeref\":0.278575,\"symbol\":\"circle\"},\"mode\":\"markers\",\"name\":\" Austria\",\"showlegend\":true,\"type\":\"scattergeo\"},{\"geo\":\"geo\",\"hovertemplate\":\"<b>%{hovertext}</b><br><br>Country= Azerbaijan<br>Internet_Price=%{marker.size}<br>Latitude=%{lat}<br>Longitude=%{lon}<extra></extra>\",\"hovertext\":[\" Azerbaijan\"],\"lat\":[40.3936294],\"legendgroup\":\" Azerbaijan\",\"lon\":[47.7872508],\"marker\":{\"color\":\"#FF6692\",\"size\":[18.32],\"sizemode\":\"area\",\"sizeref\":0.278575,\"symbol\":\"circle\"},\"mode\":\"markers\",\"name\":\" Azerbaijan\",\"showlegend\":true,\"type\":\"scattergeo\"},{\"geo\":\"geo\",\"hovertemplate\":\"<b>%{hovertext}</b><br><br>Country= Bahrain<br>Internet_Price=%{marker.size}<br>Latitude=%{lat}<br>Longitude=%{lon}<extra></extra>\",\"hovertext\":[\" Bahrain\"],\"lat\":[26.1551249],\"legendgroup\":\" Bahrain\",\"lon\":[50.5344606],\"marker\":{\"color\":\"#B6E880\",\"size\":[60.52],\"sizemode\":\"area\",\"sizeref\":0.278575,\"symbol\":\"circle\"},\"mode\":\"markers\",\"name\":\" Bahrain\",\"showlegend\":true,\"type\":\"scattergeo\"},{\"geo\":\"geo\",\"hovertemplate\":\"<b>%{hovertext}</b><br><br>Country= Bangladesh<br>Internet_Price=%{marker.size}<br>Latitude=%{lat}<br>Longitude=%{lon}<extra></extra>\",\"hovertext\":[\" Bangladesh\"],\"lat\":[24.4769288],\"legendgroup\":\" Bangladesh\",\"lon\":[90.2934413],\"marker\":{\"color\":\"#FF97FF\",\"size\":[28.59],\"sizemode\":\"area\",\"sizeref\":0.278575,\"symbol\":\"circle\"},\"mode\":\"markers\",\"name\":\" Bangladesh\",\"showlegend\":true,\"type\":\"scattergeo\"},{\"geo\":\"geo\",\"hovertemplate\":\"<b>%{hovertext}</b><br><br>Country= Belarus<br>Internet_Price=%{marker.size}<br>Latitude=%{lat}<br>Longitude=%{lon}<extra></extra>\",\"hovertext\":[\" Belarus\"],\"lat\":[53.4250605],\"legendgroup\":\" Belarus\",\"lon\":[27.6971358],\"marker\":{\"color\":\"#FECB52\",\"size\":[12.04],\"sizemode\":\"area\",\"sizeref\":0.278575,\"symbol\":\"circle\"},\"mode\":\"markers\",\"name\":\" Belarus\",\"showlegend\":true,\"type\":\"scattergeo\"},{\"geo\":\"geo\",\"hovertemplate\":\"<b>%{hovertext}</b><br><br>Country= Belgium<br>Internet_Price=%{marker.size}<br>Latitude=%{lat}<br>Longitude=%{lon}<extra></extra>\",\"hovertext\":[\" Belgium\"],\"lat\":[50.6402809],\"legendgroup\":\" Belgium\",\"lon\":[4.6667145],\"marker\":{\"color\":\"#636efa\",\"size\":[51.4675],\"sizemode\":\"area\",\"sizeref\":0.278575,\"symbol\":\"circle\"},\"mode\":\"markers\",\"name\":\" Belgium\",\"showlegend\":true,\"type\":\"scattergeo\"},{\"geo\":\"geo\",\"hovertemplate\":\"<b>%{hovertext}</b><br><br>Country= Bolivia<br>Internet_Price=%{marker.size}<br>Latitude=%{lat}<br>Longitude=%{lon}<extra></extra>\",\"hovertext\":[\" Bolivia\"],\"lat\":[-17.0568696],\"legendgroup\":\" Bolivia\",\"lon\":[-64.9912286],\"marker\":{\"color\":\"#EF553B\",\"size\":[49.69],\"sizemode\":\"area\",\"sizeref\":0.278575,\"symbol\":\"circle\"},\"mode\":\"markers\",\"name\":\" Bolivia\",\"showlegend\":true,\"type\":\"scattergeo\"},{\"geo\":\"geo\",\"hovertemplate\":\"<b>%{hovertext}</b><br><br>Country= Bosnia and Herzegovina<br>Internet_Price=%{marker.size}<br>Latitude=%{lat}<br>Longitude=%{lon}<extra></extra>\",\"hovertext\":[\" Bosnia and Herzegovina\"],\"lat\":[44.3053476],\"legendgroup\":\" Bosnia and Herzegovina\",\"lon\":[17.5961467],\"marker\":{\"color\":\"#00cc96\",\"size\":[22.814999999999998],\"sizemode\":\"area\",\"sizeref\":0.278575,\"symbol\":\"circle\"},\"mode\":\"markers\",\"name\":\" Bosnia and Herzegovina\",\"showlegend\":true,\"type\":\"scattergeo\"},{\"geo\":\"geo\",\"hovertemplate\":\"<b>%{hovertext}</b><br><br>Country= Botswana<br>Internet_Price=%{marker.size}<br>Latitude=%{lat}<br>Longitude=%{lon}<extra></extra>\",\"hovertext\":[\" Botswana\"],\"lat\":[-23.1681782],\"legendgroup\":\" Botswana\",\"lon\":[24.5928742],\"marker\":{\"color\":\"#ab63fa\",\"size\":[73.69],\"sizemode\":\"area\",\"sizeref\":0.278575,\"symbol\":\"circle\"},\"mode\":\"markers\",\"name\":\" Botswana\",\"showlegend\":true,\"type\":\"scattergeo\"},{\"geo\":\"geo\",\"hovertemplate\":\"<b>%{hovertext}</b><br><br>Country= Brazil<br>Internet_Price=%{marker.size}<br>Latitude=%{lat}<br>Longitude=%{lon}<extra></extra>\",\"hovertext\":[\" Brazil\"],\"lat\":[-10.3333333],\"legendgroup\":\" Brazil\",\"lon\":[-53.2],\"marker\":{\"color\":\"#FFA15A\",\"size\":[21.983],\"sizemode\":\"area\",\"sizeref\":0.278575,\"symbol\":\"circle\"},\"mode\":\"markers\",\"name\":\" Brazil\",\"showlegend\":true,\"type\":\"scattergeo\"},{\"geo\":\"geo\",\"hovertemplate\":\"<b>%{hovertext}</b><br><br>Country= Brunei<br>Internet_Price=%{marker.size}<br>Latitude=%{lat}<br>Longitude=%{lon}<extra></extra>\",\"hovertext\":[\" Brunei\"],\"lat\":[4.4137155],\"legendgroup\":\" Brunei\",\"lon\":[114.5653908],\"marker\":{\"color\":\"#19d3f3\",\"size\":[111.43],\"sizemode\":\"area\",\"sizeref\":0.278575,\"symbol\":\"circle\"},\"mode\":\"markers\",\"name\":\" Brunei\",\"showlegend\":true,\"type\":\"scattergeo\"},{\"geo\":\"geo\",\"hovertemplate\":\"<b>%{hovertext}</b><br><br>Country= Bulgaria<br>Internet_Price=%{marker.size}<br>Latitude=%{lat}<br>Longitude=%{lon}<extra></extra>\",\"hovertext\":[\" Bulgaria\"],\"lat\":[42.6073975],\"legendgroup\":\" Bulgaria\",\"lon\":[25.4856617],\"marker\":{\"color\":\"#FF6692\",\"size\":[11.802],\"sizemode\":\"area\",\"sizeref\":0.278575,\"symbol\":\"circle\"},\"mode\":\"markers\",\"name\":\" Bulgaria\",\"showlegend\":true,\"type\":\"scattergeo\"},{\"geo\":\"geo\",\"hovertemplate\":\"<b>%{hovertext}</b><br><br>Country= Cambodia<br>Internet_Price=%{marker.size}<br>Latitude=%{lat}<br>Longitude=%{lon}<extra></extra>\",\"hovertext\":[\" Cambodia\"],\"lat\":[12.5433216],\"legendgroup\":\" Cambodia\",\"lon\":[104.8144914],\"marker\":{\"color\":\"#B6E880\",\"size\":[30.14],\"sizemode\":\"area\",\"sizeref\":0.278575,\"symbol\":\"circle\"},\"mode\":\"markers\",\"name\":\" Cambodia\",\"showlegend\":true,\"type\":\"scattergeo\"},{\"geo\":\"geo\",\"hovertemplate\":\"<b>%{hovertext}</b><br><br>Country= Canada<br>Internet_Price=%{marker.size}<br>Latitude=%{lat}<br>Longitude=%{lon}<extra></extra>\",\"hovertext\":[\" Canada\"],\"lat\":[61.0666922],\"legendgroup\":\" Canada\",\"lon\":[-107.991707],\"marker\":{\"color\":\"#FF97FF\",\"size\":[55.40137931034483],\"sizemode\":\"area\",\"sizeref\":0.278575,\"symbol\":\"circle\"},\"mode\":\"markers\",\"name\":\" Canada\",\"showlegend\":true,\"type\":\"scattergeo\"},{\"geo\":\"geo\",\"hovertemplate\":\"<b>%{hovertext}</b><br><br>Country= Chile<br>Internet_Price=%{marker.size}<br>Latitude=%{lat}<br>Longitude=%{lon}<extra></extra>\",\"hovertext\":[\" Chile\"],\"lat\":[-31.7613365],\"legendgroup\":\" Chile\",\"lon\":[-71.3187697],\"marker\":{\"color\":\"#FECB52\",\"size\":[33.349999999999994],\"sizemode\":\"area\",\"sizeref\":0.278575,\"symbol\":\"circle\"},\"mode\":\"markers\",\"name\":\" Chile\",\"showlegend\":true,\"type\":\"scattergeo\"},{\"geo\":\"geo\",\"hovertemplate\":\"<b>%{hovertext}</b><br><br>Country= Colombia<br>Internet_Price=%{marker.size}<br>Latitude=%{lat}<br>Longitude=%{lon}<extra></extra>\",\"hovertext\":[\" Colombia\"],\"lat\":[4.099917],\"legendgroup\":\" Colombia\",\"lon\":[-72.9088133],\"marker\":{\"color\":\"#636efa\",\"size\":[27.512],\"sizemode\":\"area\",\"sizeref\":0.278575,\"symbol\":\"circle\"},\"mode\":\"markers\",\"name\":\" Colombia\",\"showlegend\":true,\"type\":\"scattergeo\"},{\"geo\":\"geo\",\"hovertemplate\":\"<b>%{hovertext}</b><br><br>Country= Costa Rica<br>Internet_Price=%{marker.size}<br>Latitude=%{lat}<br>Longitude=%{lon}<extra></extra>\",\"hovertext\":[\" Costa Rica\"],\"lat\":[10.2735633],\"legendgroup\":\" Costa Rica\",\"lon\":[-84.0739102],\"marker\":{\"color\":\"#EF553B\",\"size\":[49.54],\"sizemode\":\"area\",\"sizeref\":0.278575,\"symbol\":\"circle\"},\"mode\":\"markers\",\"name\":\" Costa Rica\",\"showlegend\":true,\"type\":\"scattergeo\"},{\"geo\":\"geo\",\"hovertemplate\":\"<b>%{hovertext}</b><br><br>Country= Croatia<br>Internet_Price=%{marker.size}<br>Latitude=%{lat}<br>Longitude=%{lon}<extra></extra>\",\"hovertext\":[\" Croatia\"],\"lat\":[45.3658443],\"legendgroup\":\" Croatia\",\"lon\":[15.6575209],\"marker\":{\"color\":\"#00cc96\",\"size\":[30.38166666666667],\"sizemode\":\"area\",\"sizeref\":0.278575,\"symbol\":\"circle\"},\"mode\":\"markers\",\"name\":\" Croatia\",\"showlegend\":true,\"type\":\"scattergeo\"},{\"geo\":\"geo\",\"hovertemplate\":\"<b>%{hovertext}</b><br><br>Country= Cyprus<br>Internet_Price=%{marker.size}<br>Latitude=%{lat}<br>Longitude=%{lon}<extra></extra>\",\"hovertext\":[\" Cyprus\"],\"lat\":[34.9823018],\"legendgroup\":\" Cyprus\",\"lon\":[33.1451285],\"marker\":{\"color\":\"#ab63fa\",\"size\":[47.10666666666666],\"sizemode\":\"area\",\"sizeref\":0.278575,\"symbol\":\"circle\"},\"mode\":\"markers\",\"name\":\" Cyprus\",\"showlegend\":true,\"type\":\"scattergeo\"},{\"geo\":\"geo\",\"hovertemplate\":\"<b>%{hovertext}</b><br><br>Country= Czech Republic<br>Internet_Price=%{marker.size}<br>Latitude=%{lat}<br>Longitude=%{lon}<extra></extra>\",\"hovertext\":[\" Czech Republic\"],\"lat\":[49.7439047],\"legendgroup\":\" Czech Republic\",\"lon\":[15.3381061],\"marker\":{\"color\":\"#FFA15A\",\"size\":[18.4575],\"sizemode\":\"area\",\"sizeref\":0.278575,\"symbol\":\"circle\"},\"mode\":\"markers\",\"name\":\" Czech Republic\",\"showlegend\":true,\"type\":\"scattergeo\"},{\"geo\":\"geo\",\"hovertemplate\":\"<b>%{hovertext}</b><br><br>Country= Dominican Republic<br>Internet_Price=%{marker.size}<br>Latitude=%{lat}<br>Longitude=%{lon}<extra></extra>\",\"hovertext\":[\" Dominican Republic\"],\"lat\":[19.0974031],\"legendgroup\":\" Dominican Republic\",\"lon\":[-70.3028026],\"marker\":{\"color\":\"#19d3f3\",\"size\":[45.02],\"sizemode\":\"area\",\"sizeref\":0.278575,\"symbol\":\"circle\"},\"mode\":\"markers\",\"name\":\" Dominican Republic\",\"showlegend\":true,\"type\":\"scattergeo\"},{\"geo\":\"geo\",\"hovertemplate\":\"<b>%{hovertext}</b><br><br>Country= Ecuador<br>Internet_Price=%{marker.size}<br>Latitude=%{lat}<br>Longitude=%{lon}<extra></extra>\",\"hovertext\":[\" Ecuador\"],\"lat\":[-1.3397668],\"legendgroup\":\" Ecuador\",\"lon\":[-79.3666965],\"marker\":{\"color\":\"#FF6692\",\"size\":[43.96333333333333],\"sizemode\":\"area\",\"sizeref\":0.278575,\"symbol\":\"circle\"},\"mode\":\"markers\",\"name\":\" Ecuador\",\"showlegend\":true,\"type\":\"scattergeo\"},{\"geo\":\"geo\",\"hovertemplate\":\"<b>%{hovertext}</b><br><br>Country= Egypt<br>Internet_Price=%{marker.size}<br>Latitude=%{lat}<br>Longitude=%{lon}<extra></extra>\",\"hovertext\":[\" Egypt\"],\"lat\":[26.2540493],\"legendgroup\":\" Egypt\",\"lon\":[29.2675469],\"marker\":{\"color\":\"#B6E880\",\"size\":[27.50333333333333],\"sizemode\":\"area\",\"sizeref\":0.278575,\"symbol\":\"circle\"},\"mode\":\"markers\",\"name\":\" Egypt\",\"showlegend\":true,\"type\":\"scattergeo\"},{\"geo\":\"geo\",\"hovertemplate\":\"<b>%{hovertext}</b><br><br>Country= El Salvador<br>Internet_Price=%{marker.size}<br>Latitude=%{lat}<br>Longitude=%{lon}<extra></extra>\",\"hovertext\":[\" El Salvador\"],\"lat\":[13.8000382],\"legendgroup\":\" El Salvador\",\"lon\":[-88.9140683],\"marker\":{\"color\":\"#FF97FF\",\"size\":[46.62],\"sizemode\":\"area\",\"sizeref\":0.278575,\"symbol\":\"circle\"},\"mode\":\"markers\",\"name\":\" El Salvador\",\"showlegend\":true,\"type\":\"scattergeo\"},{\"geo\":\"geo\",\"hovertemplate\":\"<b>%{hovertext}</b><br><br>Country= Estonia<br>Internet_Price=%{marker.size}<br>Latitude=%{lat}<br>Longitude=%{lon}<extra></extra>\",\"hovertext\":[\" Estonia\"],\"lat\":[58.7523778],\"legendgroup\":\" Estonia\",\"lon\":[25.3319078],\"marker\":{\"color\":\"#FECB52\",\"size\":[25.75],\"sizemode\":\"area\",\"sizeref\":0.278575,\"symbol\":\"circle\"},\"mode\":\"markers\",\"name\":\" Estonia\",\"showlegend\":true,\"type\":\"scattergeo\"},{\"geo\":\"geo\",\"hovertemplate\":\"<b>%{hovertext}</b><br><br>Country= Finland<br>Internet_Price=%{marker.size}<br>Latitude=%{lat}<br>Longitude=%{lon}<extra></extra>\",\"hovertext\":[\" Finland\"],\"lat\":[63.2467777],\"legendgroup\":\" Finland\",\"lon\":[25.9209164],\"marker\":{\"color\":\"#636efa\",\"size\":[22.71666666666667],\"sizemode\":\"area\",\"sizeref\":0.278575,\"symbol\":\"circle\"},\"mode\":\"markers\",\"name\":\" Finland\",\"showlegend\":true,\"type\":\"scattergeo\"},{\"geo\":\"geo\",\"hovertemplate\":\"<b>%{hovertext}</b><br><br>Country= France<br>Internet_Price=%{marker.size}<br>Latitude=%{lat}<br>Longitude=%{lon}<extra></extra>\",\"hovertext\":[\" France\"],\"lat\":[46.603354],\"legendgroup\":\" France\",\"lon\":[1.8883335],\"marker\":{\"color\":\"#EF553B\",\"size\":[29.04714285714286],\"sizemode\":\"area\",\"sizeref\":0.278575,\"symbol\":\"circle\"},\"mode\":\"markers\",\"name\":\" France\",\"showlegend\":true,\"type\":\"scattergeo\"},{\"geo\":\"geo\",\"hovertemplate\":\"<b>%{hovertext}</b><br><br>Country= Georgia<br>Internet_Price=%{marker.size}<br>Latitude=%{lat}<br>Longitude=%{lon}<extra></extra>\",\"hovertext\":[\" Georgia\"],\"lat\":[32.3293809],\"legendgroup\":\" Georgia\",\"lon\":[-83.1137366],\"marker\":{\"color\":\"#00cc96\",\"size\":[15.075],\"sizemode\":\"area\",\"sizeref\":0.278575,\"symbol\":\"circle\"},\"mode\":\"markers\",\"name\":\" Georgia\",\"showlegend\":true,\"type\":\"scattergeo\"},{\"geo\":\"geo\",\"hovertemplate\":\"<b>%{hovertext}</b><br><br>Country= Germany<br>Internet_Price=%{marker.size}<br>Latitude=%{lat}<br>Longitude=%{lon}<extra></extra>\",\"hovertext\":[\" Germany\"],\"lat\":[51.1638175],\"legendgroup\":\" Germany\",\"lon\":[10.4478313],\"marker\":{\"color\":\"#ab63fa\",\"size\":[37.14375],\"sizemode\":\"area\",\"sizeref\":0.278575,\"symbol\":\"circle\"},\"mode\":\"markers\",\"name\":\" Germany\",\"showlegend\":true,\"type\":\"scattergeo\"},{\"geo\":\"geo\",\"hovertemplate\":\"<b>%{hovertext}</b><br><br>Country= Ghana<br>Internet_Price=%{marker.size}<br>Latitude=%{lat}<br>Longitude=%{lon}<extra></extra>\",\"hovertext\":[\" Ghana\"],\"lat\":[8.0300284],\"legendgroup\":\" Ghana\",\"lon\":[-1.0800271],\"marker\":{\"color\":\"#FFA15A\",\"size\":[49.21],\"sizemode\":\"area\",\"sizeref\":0.278575,\"symbol\":\"circle\"},\"mode\":\"markers\",\"name\":\" Ghana\",\"showlegend\":true,\"type\":\"scattergeo\"},{\"geo\":\"geo\",\"hovertemplate\":\"<b>%{hovertext}</b><br><br>Country= Greece<br>Internet_Price=%{marker.size}<br>Latitude=%{lat}<br>Longitude=%{lon}<extra></extra>\",\"hovertext\":[\" Greece\"],\"lat\":[38.9953683],\"legendgroup\":\" Greece\",\"lon\":[21.9877132],\"marker\":{\"color\":\"#19d3f3\",\"size\":[36.9],\"sizemode\":\"area\",\"sizeref\":0.278575,\"symbol\":\"circle\"},\"mode\":\"markers\",\"name\":\" Greece\",\"showlegend\":true,\"type\":\"scattergeo\"},{\"geo\":\"geo\",\"hovertemplate\":\"<b>%{hovertext}</b><br><br>Country= Guatemala<br>Internet_Price=%{marker.size}<br>Latitude=%{lat}<br>Longitude=%{lon}<extra></extra>\",\"hovertext\":[\" Guatemala\"],\"lat\":[15.5855545],\"legendgroup\":\" Guatemala\",\"lon\":[-90.345759],\"marker\":{\"color\":\"#FF6692\",\"size\":[67.03],\"sizemode\":\"area\",\"sizeref\":0.278575,\"symbol\":\"circle\"},\"mode\":\"markers\",\"name\":\" Guatemala\",\"showlegend\":true,\"type\":\"scattergeo\"},{\"geo\":\"geo\",\"hovertemplate\":\"<b>%{hovertext}</b><br><br>Country= Honduras<br>Internet_Price=%{marker.size}<br>Latitude=%{lat}<br>Longitude=%{lon}<extra></extra>\",\"hovertext\":[\" Honduras\"],\"lat\":[15.2572432],\"legendgroup\":\" Honduras\",\"lon\":[-86.0755145],\"marker\":{\"color\":\"#B6E880\",\"size\":[69.29],\"sizemode\":\"area\",\"sizeref\":0.278575,\"symbol\":\"circle\"},\"mode\":\"markers\",\"name\":\" Honduras\",\"showlegend\":true,\"type\":\"scattergeo\"},{\"geo\":\"geo\",\"hovertemplate\":\"<b>%{hovertext}</b><br><br>Country= Hungary<br>Internet_Price=%{marker.size}<br>Latitude=%{lat}<br>Longitude=%{lon}<extra></extra>\",\"hovertext\":[\" Hungary\"],\"lat\":[47.1817585],\"legendgroup\":\" Hungary\",\"lon\":[19.5060937],\"marker\":{\"color\":\"#FF97FF\",\"size\":[14.44],\"sizemode\":\"area\",\"sizeref\":0.278575,\"symbol\":\"circle\"},\"mode\":\"markers\",\"name\":\" Hungary\",\"showlegend\":true,\"type\":\"scattergeo\"},{\"geo\":\"geo\",\"hovertemplate\":\"<b>%{hovertext}</b><br><br>Country= Iceland<br>Internet_Price=%{marker.size}<br>Latitude=%{lat}<br>Longitude=%{lon}<extra></extra>\",\"hovertext\":[\" Iceland\"],\"lat\":[64.9841821],\"legendgroup\":\" Iceland\",\"lon\":[-18.1059013],\"marker\":{\"color\":\"#FECB52\",\"size\":[67.09],\"sizemode\":\"area\",\"sizeref\":0.278575,\"symbol\":\"circle\"},\"mode\":\"markers\",\"name\":\" Iceland\",\"showlegend\":true,\"type\":\"scattergeo\"},{\"geo\":\"geo\",\"hovertemplate\":\"<b>%{hovertext}</b><br><br>Country= India<br>Internet_Price=%{marker.size}<br>Latitude=%{lat}<br>Longitude=%{lon}<extra></extra>\",\"hovertext\":[\" India\"],\"lat\":[22.3511148],\"legendgroup\":\" India\",\"lon\":[78.6677428],\"marker\":{\"color\":\"#636efa\",\"size\":[10.503333333333334],\"sizemode\":\"area\",\"sizeref\":0.278575,\"symbol\":\"circle\"},\"mode\":\"markers\",\"name\":\" India\",\"showlegend\":true,\"type\":\"scattergeo\"},{\"geo\":\"geo\",\"hovertemplate\":\"<b>%{hovertext}</b><br><br>Country= Indonesia<br>Internet_Price=%{marker.size}<br>Latitude=%{lat}<br>Longitude=%{lon}<extra></extra>\",\"hovertext\":[\" Indonesia\"],\"lat\":[-2.4833826],\"legendgroup\":\" Indonesia\",\"lon\":[117.8902853],\"marker\":{\"color\":\"#EF553B\",\"size\":[29.876666666666665],\"sizemode\":\"area\",\"sizeref\":0.278575,\"symbol\":\"circle\"},\"mode\":\"markers\",\"name\":\" Indonesia\",\"showlegend\":true,\"type\":\"scattergeo\"},{\"geo\":\"geo\",\"hovertemplate\":\"<b>%{hovertext}</b><br><br>Country= Iran<br>Internet_Price=%{marker.size}<br>Latitude=%{lat}<br>Longitude=%{lon}<extra></extra>\",\"hovertext\":[\" Iran\"],\"lat\":[32.6475314],\"legendgroup\":\" Iran\",\"lon\":[54.5643516],\"marker\":{\"color\":\"#00cc96\",\"size\":[19.7],\"sizemode\":\"area\",\"sizeref\":0.278575,\"symbol\":\"circle\"},\"mode\":\"markers\",\"name\":\" Iran\",\"showlegend\":true,\"type\":\"scattergeo\"},{\"geo\":\"geo\",\"hovertemplate\":\"<b>%{hovertext}</b><br><br>Country= Iraq<br>Internet_Price=%{marker.size}<br>Latitude=%{lat}<br>Longitude=%{lon}<extra></extra>\",\"hovertext\":[\" Iraq\"],\"lat\":[33.0955793],\"legendgroup\":\" Iraq\",\"lon\":[44.1749775],\"marker\":{\"color\":\"#ab63fa\",\"size\":[37.54],\"sizemode\":\"area\",\"sizeref\":0.278575,\"symbol\":\"circle\"},\"mode\":\"markers\",\"name\":\" Iraq\",\"showlegend\":true,\"type\":\"scattergeo\"},{\"geo\":\"geo\",\"hovertemplate\":\"<b>%{hovertext}</b><br><br>Country= Ireland<br>Internet_Price=%{marker.size}<br>Latitude=%{lat}<br>Longitude=%{lon}<extra></extra>\",\"hovertext\":[\" Ireland\"],\"lat\":[52.865196],\"legendgroup\":\" Ireland\",\"lon\":[-7.9794599],\"marker\":{\"color\":\"#FFA15A\",\"size\":[55.916666666666664],\"sizemode\":\"area\",\"sizeref\":0.278575,\"symbol\":\"circle\"},\"mode\":\"markers\",\"name\":\" Ireland\",\"showlegend\":true,\"type\":\"scattergeo\"},{\"geo\":\"geo\",\"hovertemplate\":\"<b>%{hovertext}</b><br><br>Country= Israel<br>Internet_Price=%{marker.size}<br>Latitude=%{lat}<br>Longitude=%{lon}<extra></extra>\",\"hovertext\":[\" Israel\"],\"lat\":[30.8124247],\"legendgroup\":\" Israel\",\"lon\":[34.8594762],\"marker\":{\"color\":\"#19d3f3\",\"size\":[24.87],\"sizemode\":\"area\",\"sizeref\":0.278575,\"symbol\":\"circle\"},\"mode\":\"markers\",\"name\":\" Israel\",\"showlegend\":true,\"type\":\"scattergeo\"},{\"geo\":\"geo\",\"hovertemplate\":\"<b>%{hovertext}</b><br><br>Country= Italy<br>Internet_Price=%{marker.size}<br>Latitude=%{lat}<br>Longitude=%{lon}<extra></extra>\",\"hovertext\":[\" Italy\"],\"lat\":[42.6384261],\"legendgroup\":\" Italy\",\"lon\":[12.674297],\"marker\":{\"color\":\"#FF6692\",\"size\":[32.23636363636364],\"sizemode\":\"area\",\"sizeref\":0.278575,\"symbol\":\"circle\"},\"mode\":\"markers\",\"name\":\" Italy\",\"showlegend\":true,\"type\":\"scattergeo\"},{\"geo\":\"geo\",\"hovertemplate\":\"<b>%{hovertext}</b><br><br>Country= Japan<br>Internet_Price=%{marker.size}<br>Latitude=%{lat}<br>Longitude=%{lon}<extra></extra>\",\"hovertext\":[\" Japan\"],\"lat\":[36.5748441],\"legendgroup\":\" Japan\",\"lon\":[139.2394179],\"marker\":{\"color\":\"#B6E880\",\"size\":[41.91],\"sizemode\":\"area\",\"sizeref\":0.278575,\"symbol\":\"circle\"},\"mode\":\"markers\",\"name\":\" Japan\",\"showlegend\":true,\"type\":\"scattergeo\"},{\"geo\":\"geo\",\"hovertemplate\":\"<b>%{hovertext}</b><br><br>Country= Jordan<br>Internet_Price=%{marker.size}<br>Latitude=%{lat}<br>Longitude=%{lon}<extra></extra>\",\"hovertext\":[\" Jordan\"],\"lat\":[31.1667049],\"legendgroup\":\" Jordan\",\"lon\":[36.941628],\"marker\":{\"color\":\"#FF97FF\",\"size\":[44.61],\"sizemode\":\"area\",\"sizeref\":0.278575,\"symbol\":\"circle\"},\"mode\":\"markers\",\"name\":\" Jordan\",\"showlegend\":true,\"type\":\"scattergeo\"},{\"geo\":\"geo\",\"hovertemplate\":\"<b>%{hovertext}</b><br><br>Country= Kazakhstan<br>Internet_Price=%{marker.size}<br>Latitude=%{lat}<br>Longitude=%{lon}<extra></extra>\",\"hovertext\":[\" Kazakhstan\"],\"lat\":[48.1012954],\"legendgroup\":\" Kazakhstan\",\"lon\":[66.7780818],\"marker\":{\"color\":\"#FECB52\",\"size\":[11.34],\"sizemode\":\"area\",\"sizeref\":0.278575,\"symbol\":\"circle\"},\"mode\":\"markers\",\"name\":\" Kazakhstan\",\"showlegend\":true,\"type\":\"scattergeo\"},{\"geo\":\"geo\",\"hovertemplate\":\"<b>%{hovertext}</b><br><br>Country= Kenya<br>Internet_Price=%{marker.size}<br>Latitude=%{lat}<br>Longitude=%{lon}<extra></extra>\",\"hovertext\":[\" Kenya\"],\"lat\":[1.4419683],\"legendgroup\":\" Kenya\",\"lon\":[38.4313975],\"marker\":{\"color\":\"#636efa\",\"size\":[59.88],\"sizemode\":\"area\",\"sizeref\":0.278575,\"symbol\":\"circle\"},\"mode\":\"markers\",\"name\":\" Kenya\",\"showlegend\":true,\"type\":\"scattergeo\"},{\"geo\":\"geo\",\"hovertemplate\":\"<b>%{hovertext}</b><br><br>Country= Kuwait<br>Internet_Price=%{marker.size}<br>Latitude=%{lat}<br>Longitude=%{lon}<extra></extra>\",\"hovertext\":[\" Kuwait\"],\"lat\":[29.2733964],\"legendgroup\":\" Kuwait\",\"lon\":[47.4979476],\"marker\":{\"color\":\"#EF553B\",\"size\":[22.04],\"sizemode\":\"area\",\"sizeref\":0.278575,\"symbol\":\"circle\"},\"mode\":\"markers\",\"name\":\" Kuwait\",\"showlegend\":true,\"type\":\"scattergeo\"},{\"geo\":\"geo\",\"hovertemplate\":\"<b>%{hovertext}</b><br><br>Country= Kyrgyzstan<br>Internet_Price=%{marker.size}<br>Latitude=%{lat}<br>Longitude=%{lon}<extra></extra>\",\"hovertext\":[\" Kyrgyzstan\"],\"lat\":[41.5089324],\"legendgroup\":\" Kyrgyzstan\",\"lon\":[74.724091],\"marker\":{\"color\":\"#00cc96\",\"size\":[16.79],\"sizemode\":\"area\",\"sizeref\":0.278575,\"symbol\":\"circle\"},\"mode\":\"markers\",\"name\":\" Kyrgyzstan\",\"showlegend\":true,\"type\":\"scattergeo\"},{\"geo\":\"geo\",\"hovertemplate\":\"<b>%{hovertext}</b><br><br>Country= Latvia<br>Internet_Price=%{marker.size}<br>Latitude=%{lat}<br>Longitude=%{lon}<extra></extra>\",\"hovertext\":[\" Latvia\"],\"lat\":[56.8406494],\"legendgroup\":\" Latvia\",\"lon\":[24.7537645],\"marker\":{\"color\":\"#ab63fa\",\"size\":[17.5],\"sizemode\":\"area\",\"sizeref\":0.278575,\"symbol\":\"circle\"},\"mode\":\"markers\",\"name\":\" Latvia\",\"showlegend\":true,\"type\":\"scattergeo\"},{\"geo\":\"geo\",\"hovertemplate\":\"<b>%{hovertext}</b><br><br>Country= Lebanon<br>Internet_Price=%{marker.size}<br>Latitude=%{lat}<br>Longitude=%{lon}<extra></extra>\",\"hovertext\":[\" Lebanon\"],\"lat\":[33.8750629],\"legendgroup\":\" Lebanon\",\"lon\":[35.843409],\"marker\":{\"color\":\"#FFA15A\",\"size\":[51.9],\"sizemode\":\"area\",\"sizeref\":0.278575,\"symbol\":\"circle\"},\"mode\":\"markers\",\"name\":\" Lebanon\",\"showlegend\":true,\"type\":\"scattergeo\"},{\"geo\":\"geo\",\"hovertemplate\":\"<b>%{hovertext}</b><br><br>Country= Lithuania<br>Internet_Price=%{marker.size}<br>Latitude=%{lat}<br>Longitude=%{lon}<extra></extra>\",\"hovertext\":[\" Lithuania\"],\"lat\":[55.3500003],\"legendgroup\":\" Lithuania\",\"lon\":[23.7499997],\"marker\":{\"color\":\"#19d3f3\",\"size\":[11.9],\"sizemode\":\"area\",\"sizeref\":0.278575,\"symbol\":\"circle\"},\"mode\":\"markers\",\"name\":\" Lithuania\",\"showlegend\":true,\"type\":\"scattergeo\"},{\"geo\":\"geo\",\"hovertemplate\":\"<b>%{hovertext}</b><br><br>Country= Luxembourg<br>Internet_Price=%{marker.size}<br>Latitude=%{lat}<br>Longitude=%{lon}<extra></extra>\",\"hovertext\":[\" Luxembourg\"],\"lat\":[49.8158683],\"legendgroup\":\" Luxembourg\",\"lon\":[6.1296751],\"marker\":{\"color\":\"#FF6692\",\"size\":[60.29],\"sizemode\":\"area\",\"sizeref\":0.278575,\"symbol\":\"circle\"},\"mode\":\"markers\",\"name\":\" Luxembourg\",\"showlegend\":true,\"type\":\"scattergeo\"},{\"geo\":\"geo\",\"hovertemplate\":\"<b>%{hovertext}</b><br><br>Country= Malaysia<br>Internet_Price=%{marker.size}<br>Latitude=%{lat}<br>Longitude=%{lon}<extra></extra>\",\"hovertext\":[\" Malaysia\"],\"lat\":[4.5693754],\"legendgroup\":\" Malaysia\",\"lon\":[102.2656823],\"marker\":{\"color\":\"#B6E880\",\"size\":[28.486666666666668],\"sizemode\":\"area\",\"sizeref\":0.278575,\"symbol\":\"circle\"},\"mode\":\"markers\",\"name\":\" Malaysia\",\"showlegend\":true,\"type\":\"scattergeo\"},{\"geo\":\"geo\",\"hovertemplate\":\"<b>%{hovertext}</b><br><br>Country= Maldives<br>Internet_Price=%{marker.size}<br>Latitude=%{lat}<br>Longitude=%{lon}<extra></extra>\",\"hovertext\":[\" Maldives\"],\"lat\":[3.7203503],\"legendgroup\":\" Maldives\",\"lon\":[73.2244152],\"marker\":{\"color\":\"#FF97FF\",\"size\":[109.22],\"sizemode\":\"area\",\"sizeref\":0.278575,\"symbol\":\"circle\"},\"mode\":\"markers\",\"name\":\" Maldives\",\"showlegend\":true,\"type\":\"scattergeo\"},{\"geo\":\"geo\",\"hovertemplate\":\"<b>%{hovertext}</b><br><br>Country= Mexico<br>Internet_Price=%{marker.size}<br>Latitude=%{lat}<br>Longitude=%{lon}<extra></extra>\",\"hovertext\":[\" Mexico\"],\"lat\":[23.6585116],\"legendgroup\":\" Mexico\",\"lon\":[-102.0077097],\"marker\":{\"color\":\"#FECB52\",\"size\":[24.621111111111112],\"sizemode\":\"area\",\"sizeref\":0.278575,\"symbol\":\"circle\"},\"mode\":\"markers\",\"name\":\" Mexico\",\"showlegend\":true,\"type\":\"scattergeo\"},{\"geo\":\"geo\",\"hovertemplate\":\"<b>%{hovertext}</b><br><br>Country= Montenegro<br>Internet_Price=%{marker.size}<br>Latitude=%{lat}<br>Longitude=%{lon}<extra></extra>\",\"hovertext\":[\" Montenegro\"],\"lat\":[42.9868853],\"legendgroup\":\" Montenegro\",\"lon\":[19.5180992],\"marker\":{\"color\":\"#636efa\",\"size\":[24.29],\"sizemode\":\"area\",\"sizeref\":0.278575,\"symbol\":\"circle\"},\"mode\":\"markers\",\"name\":\" Montenegro\",\"showlegend\":true,\"type\":\"scattergeo\"},{\"geo\":\"geo\",\"hovertemplate\":\"<b>%{hovertext}</b><br><br>Country= Morocco<br>Internet_Price=%{marker.size}<br>Latitude=%{lat}<br>Longitude=%{lon}<extra></extra>\",\"hovertext\":[\" Morocco\"],\"lat\":[31.1728205],\"legendgroup\":\" Morocco\",\"lon\":[-7.3362482],\"marker\":{\"color\":\"#EF553B\",\"size\":[28.956666666666667],\"sizemode\":\"area\",\"sizeref\":0.278575,\"symbol\":\"circle\"},\"mode\":\"markers\",\"name\":\" Morocco\",\"showlegend\":true,\"type\":\"scattergeo\"},{\"geo\":\"geo\",\"hovertemplate\":\"<b>%{hovertext}</b><br><br>Country= Namibia<br>Internet_Price=%{marker.size}<br>Latitude=%{lat}<br>Longitude=%{lon}<extra></extra>\",\"hovertext\":[\" Namibia\"],\"lat\":[-23.2335499],\"legendgroup\":\" Namibia\",\"lon\":[17.3231107],\"marker\":{\"color\":\"#00cc96\",\"size\":[48.16],\"sizemode\":\"area\",\"sizeref\":0.278575,\"symbol\":\"circle\"},\"mode\":\"markers\",\"name\":\" Namibia\",\"showlegend\":true,\"type\":\"scattergeo\"},{\"geo\":\"geo\",\"hovertemplate\":\"<b>%{hovertext}</b><br><br>Country= Nepal<br>Internet_Price=%{marker.size}<br>Latitude=%{lat}<br>Longitude=%{lon}<extra></extra>\",\"hovertext\":[\" Nepal\"],\"lat\":[28.1083929],\"legendgroup\":\" Nepal\",\"lon\":[84.0917139],\"marker\":{\"color\":\"#ab63fa\",\"size\":[17.35],\"sizemode\":\"area\",\"sizeref\":0.278575,\"symbol\":\"circle\"},\"mode\":\"markers\",\"name\":\" Nepal\",\"showlegend\":true,\"type\":\"scattergeo\"},{\"geo\":\"geo\",\"hovertemplate\":\"<b>%{hovertext}</b><br><br>Country= New Zealand<br>Internet_Price=%{marker.size}<br>Latitude=%{lat}<br>Longitude=%{lon}<extra></extra>\",\"hovertext\":[\" New Zealand\"],\"lat\":[-41.5000831],\"legendgroup\":\" New Zealand\",\"lon\":[172.8344077],\"marker\":{\"color\":\"#FFA15A\",\"size\":[48.8675],\"sizemode\":\"area\",\"sizeref\":0.278575,\"symbol\":\"circle\"},\"mode\":\"markers\",\"name\":\" New Zealand\",\"showlegend\":true,\"type\":\"scattergeo\"},{\"geo\":\"geo\",\"hovertemplate\":\"<b>%{hovertext}</b><br><br>Country= Nicaragua<br>Internet_Price=%{marker.size}<br>Latitude=%{lat}<br>Longitude=%{lon}<extra></extra>\",\"hovertext\":[\" Nicaragua\"],\"lat\":[12.6090157],\"legendgroup\":\" Nicaragua\",\"lon\":[-85.2936911],\"marker\":{\"color\":\"#19d3f3\",\"size\":[62.55],\"sizemode\":\"area\",\"sizeref\":0.278575,\"symbol\":\"circle\"},\"mode\":\"markers\",\"name\":\" Nicaragua\",\"showlegend\":true,\"type\":\"scattergeo\"},{\"geo\":\"geo\",\"hovertemplate\":\"<b>%{hovertext}</b><br><br>Country= Nigeria<br>Internet_Price=%{marker.size}<br>Latitude=%{lat}<br>Longitude=%{lon}<extra></extra>\",\"hovertext\":[\" Nigeria\"],\"lat\":[9.6000359],\"legendgroup\":\" Nigeria\",\"lon\":[7.9999721],\"marker\":{\"color\":\"#FF6692\",\"size\":[40.95],\"sizemode\":\"area\",\"sizeref\":0.278575,\"symbol\":\"circle\"},\"mode\":\"markers\",\"name\":\" Nigeria\",\"showlegend\":true,\"type\":\"scattergeo\"},{\"geo\":\"geo\",\"hovertemplate\":\"<b>%{hovertext}</b><br><br>Country= North Macedonia<br>Internet_Price=%{marker.size}<br>Latitude=%{lat}<br>Longitude=%{lon}<extra></extra>\",\"hovertext\":[\" North Macedonia\"],\"lat\":[41.6171214],\"legendgroup\":\" North Macedonia\",\"lon\":[21.7168387],\"marker\":{\"color\":\"#B6E880\",\"size\":[20.38],\"sizemode\":\"area\",\"sizeref\":0.278575,\"symbol\":\"circle\"},\"mode\":\"markers\",\"name\":\" North Macedonia\",\"showlegend\":true,\"type\":\"scattergeo\"},{\"geo\":\"geo\",\"hovertemplate\":\"<b>%{hovertext}</b><br><br>Country= Norway<br>Internet_Price=%{marker.size}<br>Latitude=%{lat}<br>Longitude=%{lon}<extra></extra>\",\"hovertext\":[\" Norway\"],\"lat\":[61.1529386],\"legendgroup\":\" Norway\",\"lon\":[8.7876653],\"marker\":{\"color\":\"#FF97FF\",\"size\":[48.815],\"sizemode\":\"area\",\"sizeref\":0.278575,\"symbol\":\"circle\"},\"mode\":\"markers\",\"name\":\" Norway\",\"showlegend\":true,\"type\":\"scattergeo\"},{\"geo\":\"geo\",\"hovertemplate\":\"<b>%{hovertext}</b><br><br>Country= Oman<br>Internet_Price=%{marker.size}<br>Latitude=%{lat}<br>Longitude=%{lon}<extra></extra>\",\"hovertext\":[\" Oman\"],\"lat\":[21.0000287],\"legendgroup\":\" Oman\",\"lon\":[57.0036901],\"marker\":{\"color\":\"#FECB52\",\"size\":[81.81],\"sizemode\":\"area\",\"sizeref\":0.278575,\"symbol\":\"circle\"},\"mode\":\"markers\",\"name\":\" Oman\",\"showlegend\":true,\"type\":\"scattergeo\"},{\"geo\":\"geo\",\"hovertemplate\":\"<b>%{hovertext}</b><br><br>Country= Pakistan<br>Internet_Price=%{marker.size}<br>Latitude=%{lat}<br>Longitude=%{lon}<extra></extra>\",\"hovertext\":[\" Pakistan\"],\"lat\":[30.3308401],\"legendgroup\":\" Pakistan\",\"lon\":[71.247499],\"marker\":{\"color\":\"#636efa\",\"size\":[23.098333333333333],\"sizemode\":\"area\",\"sizeref\":0.278575,\"symbol\":\"circle\"},\"mode\":\"markers\",\"name\":\" Pakistan\",\"showlegend\":true,\"type\":\"scattergeo\"},{\"geo\":\"geo\",\"hovertemplate\":\"<b>%{hovertext}</b><br><br>Country= Panama<br>Internet_Price=%{marker.size}<br>Latitude=%{lat}<br>Longitude=%{lon}<extra></extra>\",\"hovertext\":[\" Panama\"],\"lat\":[8.559559],\"legendgroup\":\" Panama\",\"lon\":[-81.1308434],\"marker\":{\"color\":\"#EF553B\",\"size\":[46.43],\"sizemode\":\"area\",\"sizeref\":0.278575,\"symbol\":\"circle\"},\"mode\":\"markers\",\"name\":\" Panama\",\"showlegend\":true,\"type\":\"scattergeo\"},{\"geo\":\"geo\",\"hovertemplate\":\"<b>%{hovertext}</b><br><br>Country= Paraguay<br>Internet_Price=%{marker.size}<br>Latitude=%{lat}<br>Longitude=%{lon}<extra></extra>\",\"hovertext\":[\" Paraguay\"],\"lat\":[-23.3165935],\"legendgroup\":\" Paraguay\",\"lon\":[-58.1693445],\"marker\":{\"color\":\"#00cc96\",\"size\":[33.06],\"sizemode\":\"area\",\"sizeref\":0.278575,\"symbol\":\"circle\"},\"mode\":\"markers\",\"name\":\" Paraguay\",\"showlegend\":true,\"type\":\"scattergeo\"},{\"geo\":\"geo\",\"hovertemplate\":\"<b>%{hovertext}</b><br><br>Country= People's Republic of China<br>Internet_Price=%{marker.size}<br>Latitude=%{lat}<br>Longitude=%{lon}<extra></extra>\",\"hovertext\":[\" People's Republic of China\"],\"lat\":[35.000074],\"legendgroup\":\" People's Republic of China\",\"lon\":[104.999927],\"marker\":{\"color\":\"#ab63fa\",\"size\":[14.909999999999998],\"sizemode\":\"area\",\"sizeref\":0.278575,\"symbol\":\"circle\"},\"mode\":\"markers\",\"name\":\" People's Republic of China\",\"showlegend\":true,\"type\":\"scattergeo\"},{\"geo\":\"geo\",\"hovertemplate\":\"<b>%{hovertext}</b><br><br>Country= Peru<br>Internet_Price=%{marker.size}<br>Latitude=%{lat}<br>Longitude=%{lon}<extra></extra>\",\"hovertext\":[\" Peru\"],\"lat\":[-6.8699697],\"legendgroup\":\" Peru\",\"lon\":[-75.0458515],\"marker\":{\"color\":\"#FFA15A\",\"size\":[32.58],\"sizemode\":\"area\",\"sizeref\":0.278575,\"symbol\":\"circle\"},\"mode\":\"markers\",\"name\":\" Peru\",\"showlegend\":true,\"type\":\"scattergeo\"},{\"geo\":\"geo\",\"hovertemplate\":\"<b>%{hovertext}</b><br><br>Country= Philippines<br>Internet_Price=%{marker.size}<br>Latitude=%{lat}<br>Longitude=%{lon}<extra></extra>\",\"hovertext\":[\" Philippines\"],\"lat\":[12.7503486],\"legendgroup\":\" Philippines\",\"lon\":[122.7312101],\"marker\":{\"color\":\"#19d3f3\",\"size\":[48.427499999999995],\"sizemode\":\"area\",\"sizeref\":0.278575,\"symbol\":\"circle\"},\"mode\":\"markers\",\"name\":\" Philippines\",\"showlegend\":true,\"type\":\"scattergeo\"},{\"geo\":\"geo\",\"hovertemplate\":\"<b>%{hovertext}</b><br><br>Country= Poland<br>Internet_Price=%{marker.size}<br>Latitude=%{lat}<br>Longitude=%{lon}<extra></extra>\",\"hovertext\":[\" Poland\"],\"lat\":[52.215933],\"legendgroup\":\" Poland\",\"lon\":[19.134422],\"marker\":{\"color\":\"#FF6692\",\"size\":[13.577000000000002],\"sizemode\":\"area\",\"sizeref\":0.278575,\"symbol\":\"circle\"},\"mode\":\"markers\",\"name\":\" Poland\",\"showlegend\":true,\"type\":\"scattergeo\"},{\"geo\":\"geo\",\"hovertemplate\":\"<b>%{hovertext}</b><br><br>Country= Portugal<br>Internet_Price=%{marker.size}<br>Latitude=%{lat}<br>Longitude=%{lon}<extra></extra>\",\"hovertext\":[\" Portugal\"],\"lat\":[39.6621648],\"legendgroup\":\" Portugal\",\"lon\":[-8.1353519],\"marker\":{\"color\":\"#B6E880\",\"size\":[35.726],\"sizemode\":\"area\",\"sizeref\":0.278575,\"symbol\":\"circle\"},\"mode\":\"markers\",\"name\":\" Portugal\",\"showlegend\":true,\"type\":\"scattergeo\"},{\"geo\":\"geo\",\"hovertemplate\":\"<b>%{hovertext}</b><br><br>Country= Qatar<br>Internet_Price=%{marker.size}<br>Latitude=%{lat}<br>Longitude=%{lon}<extra></extra>\",\"hovertext\":[\" Qatar\"],\"lat\":[25.3336984],\"legendgroup\":\" Qatar\",\"lon\":[51.2295295],\"marker\":{\"color\":\"#FF97FF\",\"size\":[84.92],\"sizemode\":\"area\",\"sizeref\":0.278575,\"symbol\":\"circle\"},\"mode\":\"markers\",\"name\":\" Qatar\",\"showlegend\":true,\"type\":\"scattergeo\"},{\"geo\":\"geo\",\"hovertemplate\":\"<b>%{hovertext}</b><br><br>Country= Romania<br>Internet_Price=%{marker.size}<br>Latitude=%{lat}<br>Longitude=%{lon}<extra></extra>\",\"hovertext\":[\" Romania\"],\"lat\":[45.9852129],\"legendgroup\":\" Romania\",\"lon\":[24.6859225],\"marker\":{\"color\":\"#FECB52\",\"size\":[8.831999999999999],\"sizemode\":\"area\",\"sizeref\":0.278575,\"symbol\":\"circle\"},\"mode\":\"markers\",\"name\":\" Romania\",\"showlegend\":true,\"type\":\"scattergeo\"},{\"geo\":\"geo\",\"hovertemplate\":\"<b>%{hovertext}</b><br><br>Country= Russia<br>Internet_Price=%{marker.size}<br>Latitude=%{lat}<br>Longitude=%{lon}<extra></extra>\",\"hovertext\":[\" Russia\"],\"lat\":[64.6863136],\"legendgroup\":\" Russia\",\"lon\":[97.7453061],\"marker\":{\"color\":\"#636efa\",\"size\":[6.811599999999999],\"sizemode\":\"area\",\"sizeref\":0.278575,\"symbol\":\"circle\"},\"mode\":\"markers\",\"name\":\" Russia\",\"showlegend\":true,\"type\":\"scattergeo\"},{\"geo\":\"geo\",\"hovertemplate\":\"<b>%{hovertext}</b><br><br>Country= Saudi Arabia<br>Internet_Price=%{marker.size}<br>Latitude=%{lat}<br>Longitude=%{lon}<extra></extra>\",\"hovertext\":[\" Saudi Arabia\"],\"lat\":[25.6242618],\"legendgroup\":\" Saudi Arabia\",\"lon\":[42.3528328],\"marker\":{\"color\":\"#EF553B\",\"size\":[61.12],\"sizemode\":\"area\",\"sizeref\":0.278575,\"symbol\":\"circle\"},\"mode\":\"markers\",\"name\":\" Saudi Arabia\",\"showlegend\":true,\"type\":\"scattergeo\"},{\"geo\":\"geo\",\"hovertemplate\":\"<b>%{hovertext}</b><br><br>Country= Serbia<br>Internet_Price=%{marker.size}<br>Latitude=%{lat}<br>Longitude=%{lon}<extra></extra>\",\"hovertext\":[\" Serbia\"],\"lat\":[44.1534121],\"legendgroup\":\" Serbia\",\"lon\":[20.55144],\"marker\":{\"color\":\"#00cc96\",\"size\":[20.86],\"sizemode\":\"area\",\"sizeref\":0.278575,\"symbol\":\"circle\"},\"mode\":\"markers\",\"name\":\" Serbia\",\"showlegend\":true,\"type\":\"scattergeo\"},{\"geo\":\"geo\",\"hovertemplate\":\"<b>%{hovertext}</b><br><br>Country= Singapore<br>Internet_Price=%{marker.size}<br>Latitude=%{lat}<br>Longitude=%{lon}<extra></extra>\",\"hovertext\":[\" Singapore\"],\"lat\":[1.357107],\"legendgroup\":\" Singapore\",\"lon\":[103.8194992],\"marker\":{\"color\":\"#ab63fa\",\"size\":[31.79],\"sizemode\":\"area\",\"sizeref\":0.278575,\"symbol\":\"circle\"},\"mode\":\"markers\",\"name\":\" Singapore\",\"showlegend\":true,\"type\":\"scattergeo\"},{\"geo\":\"geo\",\"hovertemplate\":\"<b>%{hovertext}</b><br><br>Country= Slovakia<br>Internet_Price=%{marker.size}<br>Latitude=%{lat}<br>Longitude=%{lon}<extra></extra>\",\"hovertext\":[\" Slovakia\"],\"lat\":[48.7411522],\"legendgroup\":\" Slovakia\",\"lon\":[19.4528646],\"marker\":{\"color\":\"#FFA15A\",\"size\":[16.89],\"sizemode\":\"area\",\"sizeref\":0.278575,\"symbol\":\"circle\"},\"mode\":\"markers\",\"name\":\" Slovakia\",\"showlegend\":true,\"type\":\"scattergeo\"},{\"geo\":\"geo\",\"hovertemplate\":\"<b>%{hovertext}</b><br><br>Country= Slovenia<br>Internet_Price=%{marker.size}<br>Latitude=%{lat}<br>Longitude=%{lon}<extra></extra>\",\"hovertext\":[\" Slovenia\"],\"lat\":[46.1199444],\"legendgroup\":\" Slovenia\",\"lon\":[14.8153333],\"marker\":{\"color\":\"#19d3f3\",\"size\":[39.47],\"sizemode\":\"area\",\"sizeref\":0.278575,\"symbol\":\"circle\"},\"mode\":\"markers\",\"name\":\" Slovenia\",\"showlegend\":true,\"type\":\"scattergeo\"},{\"geo\":\"geo\",\"hovertemplate\":\"<b>%{hovertext}</b><br><br>Country= South Africa<br>Internet_Price=%{marker.size}<br>Latitude=%{lat}<br>Longitude=%{lon}<extra></extra>\",\"hovertext\":[\" South Africa\"],\"lat\":[-28.8166236],\"legendgroup\":\" South Africa\",\"lon\":[24.991639],\"marker\":{\"color\":\"#FF6692\",\"size\":[53.388],\"sizemode\":\"area\",\"sizeref\":0.278575,\"symbol\":\"circle\"},\"mode\":\"markers\",\"name\":\" South Africa\",\"showlegend\":true,\"type\":\"scattergeo\"},{\"geo\":\"geo\",\"hovertemplate\":\"<b>%{hovertext}</b><br><br>Country= South Korea<br>Internet_Price=%{marker.size}<br>Latitude=%{lat}<br>Longitude=%{lon}<extra></extra>\",\"hovertext\":[\" South Korea\"],\"lat\":[36.638392],\"legendgroup\":\" South Korea\",\"lon\":[127.6961188],\"marker\":{\"color\":\"#B6E880\",\"size\":[21.39],\"sizemode\":\"area\",\"sizeref\":0.278575,\"symbol\":\"circle\"},\"mode\":\"markers\",\"name\":\" South Korea\",\"showlegend\":true,\"type\":\"scattergeo\"},{\"geo\":\"geo\",\"hovertemplate\":\"<b>%{hovertext}</b><br><br>Country= Spain<br>Internet_Price=%{marker.size}<br>Latitude=%{lat}<br>Longitude=%{lon}<extra></extra>\",\"hovertext\":[\" Spain\"],\"lat\":[39.3260685],\"legendgroup\":\" Spain\",\"lon\":[-4.8379791],\"marker\":{\"color\":\"#FF97FF\",\"size\":[43.79222222222222],\"sizemode\":\"area\",\"sizeref\":0.278575,\"symbol\":\"circle\"},\"mode\":\"markers\",\"name\":\" Spain\",\"showlegend\":true,\"type\":\"scattergeo\"},{\"geo\":\"geo\",\"hovertemplate\":\"<b>%{hovertext}</b><br><br>Country= Sri Lanka<br>Internet_Price=%{marker.size}<br>Latitude=%{lat}<br>Longitude=%{lon}<extra></extra>\",\"hovertext\":[\" Sri Lanka\"],\"lat\":[7.877395849999999],\"legendgroup\":\" Sri Lanka\",\"lon\":[80.66247852355892],\"marker\":{\"color\":\"#FECB52\",\"size\":[17.42],\"sizemode\":\"area\",\"sizeref\":0.278575,\"symbol\":\"circle\"},\"mode\":\"markers\",\"name\":\" Sri Lanka\",\"showlegend\":true,\"type\":\"scattergeo\"},{\"geo\":\"geo\",\"hovertemplate\":\"<b>%{hovertext}</b><br><br>Country= Sweden<br>Internet_Price=%{marker.size}<br>Latitude=%{lat}<br>Longitude=%{lon}<extra></extra>\",\"hovertext\":[\" Sweden\"],\"lat\":[59.6749712],\"legendgroup\":\" Sweden\",\"lon\":[14.5208584],\"marker\":{\"color\":\"#636efa\",\"size\":[31.125],\"sizemode\":\"area\",\"sizeref\":0.278575,\"symbol\":\"circle\"},\"mode\":\"markers\",\"name\":\" Sweden\",\"showlegend\":true,\"type\":\"scattergeo\"},{\"geo\":\"geo\",\"hovertemplate\":\"<b>%{hovertext}</b><br><br>Country= Switzerland<br>Internet_Price=%{marker.size}<br>Latitude=%{lat}<br>Longitude=%{lon}<extra></extra>\",\"hovertext\":[\" Switzerland\"],\"lat\":[46.7985624],\"legendgroup\":\" Switzerland\",\"lon\":[8.2319736],\"marker\":{\"color\":\"#EF553B\",\"size\":[60.225],\"sizemode\":\"area\",\"sizeref\":0.278575,\"symbol\":\"circle\"},\"mode\":\"markers\",\"name\":\" Switzerland\",\"showlegend\":true,\"type\":\"scattergeo\"},{\"geo\":\"geo\",\"hovertemplate\":\"<b>%{hovertext}</b><br><br>Country= Taiwan<br>Internet_Price=%{marker.size}<br>Latitude=%{lat}<br>Longitude=%{lon}<extra></extra>\",\"hovertext\":[\" Taiwan\"],\"lat\":[23.9739374],\"legendgroup\":\" Taiwan\",\"lon\":[120.9820179],\"marker\":{\"color\":\"#00cc96\",\"size\":[20.12],\"sizemode\":\"area\",\"sizeref\":0.278575,\"symbol\":\"circle\"},\"mode\":\"markers\",\"name\":\" Taiwan\",\"showlegend\":true,\"type\":\"scattergeo\"},{\"geo\":\"geo\",\"hovertemplate\":\"<b>%{hovertext}</b><br><br>Country= Tanzania<br>Internet_Price=%{marker.size}<br>Latitude=%{lat}<br>Longitude=%{lon}<extra></extra>\",\"hovertext\":[\" Tanzania\"],\"lat\":[-6.5247123],\"legendgroup\":\" Tanzania\",\"lon\":[35.7878438],\"marker\":{\"color\":\"#ab63fa\",\"size\":[72.67],\"sizemode\":\"area\",\"sizeref\":0.278575,\"symbol\":\"circle\"},\"mode\":\"markers\",\"name\":\" Tanzania\",\"showlegend\":true,\"type\":\"scattergeo\"},{\"geo\":\"geo\",\"hovertemplate\":\"<b>%{hovertext}</b><br><br>Country= Thailand<br>Internet_Price=%{marker.size}<br>Latitude=%{lat}<br>Longitude=%{lon}<extra></extra>\",\"hovertext\":[\" Thailand\"],\"lat\":[14.8971921],\"legendgroup\":\" Thailand\",\"lon\":[100.83273],\"marker\":{\"color\":\"#FFA15A\",\"size\":[20.662499999999998],\"sizemode\":\"area\",\"sizeref\":0.278575,\"symbol\":\"circle\"},\"mode\":\"markers\",\"name\":\" Thailand\",\"showlegend\":true,\"type\":\"scattergeo\"},{\"geo\":\"geo\",\"hovertemplate\":\"<b>%{hovertext}</b><br><br>Country= The Bahamas<br>Internet_Price=%{marker.size}<br>Latitude=%{lat}<br>Longitude=%{lon}<extra></extra>\",\"hovertext\":[\" The Bahamas\"],\"lat\":[24.7736546],\"legendgroup\":\" The Bahamas\",\"lon\":[-78.0000547],\"marker\":{\"color\":\"#19d3f3\",\"size\":[51.25],\"sizemode\":\"area\",\"sizeref\":0.278575,\"symbol\":\"circle\"},\"mode\":\"markers\",\"name\":\" The Bahamas\",\"showlegend\":true,\"type\":\"scattergeo\"},{\"geo\":\"geo\",\"hovertemplate\":\"<b>%{hovertext}</b><br><br>Country= Trinidad and Tobago<br>Internet_Price=%{marker.size}<br>Latitude=%{lat}<br>Longitude=%{lon}<extra></extra>\",\"hovertext\":[\" Trinidad and Tobago\"],\"lat\":[10.7466905],\"legendgroup\":\" Trinidad and Tobago\",\"lon\":[-61.0840075],\"marker\":{\"color\":\"#FF6692\",\"size\":[49.66],\"sizemode\":\"area\",\"sizeref\":0.278575,\"symbol\":\"circle\"},\"mode\":\"markers\",\"name\":\" Trinidad and Tobago\",\"showlegend\":true,\"type\":\"scattergeo\"},{\"geo\":\"geo\",\"hovertemplate\":\"<b>%{hovertext}</b><br><br>Country= Tunisia<br>Internet_Price=%{marker.size}<br>Latitude=%{lat}<br>Longitude=%{lon}<extra></extra>\",\"hovertext\":[\" Tunisia\"],\"lat\":[33.8439408],\"legendgroup\":\" Tunisia\",\"lon\":[9.400138],\"marker\":{\"color\":\"#B6E880\",\"size\":[15.2],\"sizemode\":\"area\",\"sizeref\":0.278575,\"symbol\":\"circle\"},\"mode\":\"markers\",\"name\":\" Tunisia\",\"showlegend\":true,\"type\":\"scattergeo\"},{\"geo\":\"geo\",\"hovertemplate\":\"<b>%{hovertext}</b><br><br>Country= Turkey<br>Internet_Price=%{marker.size}<br>Latitude=%{lat}<br>Longitude=%{lon}<extra></extra>\",\"hovertext\":[\" Turkey\"],\"lat\":[38.9597594],\"legendgroup\":\" Turkey\",\"lon\":[34.9249653],\"marker\":{\"color\":\"#FF97FF\",\"size\":[15.186666666666667],\"sizemode\":\"area\",\"sizeref\":0.278575,\"symbol\":\"circle\"},\"mode\":\"markers\",\"name\":\" Turkey\",\"showlegend\":true,\"type\":\"scattergeo\"},{\"geo\":\"geo\",\"hovertemplate\":\"<b>%{hovertext}</b><br><br>Country= Uganda<br>Internet_Price=%{marker.size}<br>Latitude=%{lat}<br>Longitude=%{lon}<extra></extra>\",\"hovertext\":[\" Uganda\"],\"lat\":[1.5333554],\"legendgroup\":\" Uganda\",\"lon\":[32.2166578],\"marker\":{\"color\":\"#FECB52\",\"size\":[69.06],\"sizemode\":\"area\",\"sizeref\":0.278575,\"symbol\":\"circle\"},\"mode\":\"markers\",\"name\":\" Uganda\",\"showlegend\":true,\"type\":\"scattergeo\"},{\"geo\":\"geo\",\"hovertemplate\":\"<b>%{hovertext}</b><br><br>Country= Ukraine<br>Internet_Price=%{marker.size}<br>Latitude=%{lat}<br>Longitude=%{lon}<extra></extra>\",\"hovertext\":[\" Ukraine\"],\"lat\":[49.4871968],\"legendgroup\":\" Ukraine\",\"lon\":[31.2718321],\"marker\":{\"color\":\"#636efa\",\"size\":[5.010000000000001],\"sizemode\":\"area\",\"sizeref\":0.278575,\"symbol\":\"circle\"},\"mode\":\"markers\",\"name\":\" Ukraine\",\"showlegend\":true,\"type\":\"scattergeo\"},{\"geo\":\"geo\",\"hovertemplate\":\"<b>%{hovertext}</b><br><br>Country= United Arab Emirates<br>Internet_Price=%{marker.size}<br>Latitude=%{lat}<br>Longitude=%{lon}<extra></extra>\",\"hovertext\":[\" United Arab Emirates\"],\"lat\":[24.0002488],\"legendgroup\":\" United Arab Emirates\",\"lon\":[53.9994829],\"marker\":{\"color\":\"#EF553B\",\"size\":[100.362],\"sizemode\":\"area\",\"sizeref\":0.278575,\"symbol\":\"circle\"},\"mode\":\"markers\",\"name\":\" United Arab Emirates\",\"showlegend\":true,\"type\":\"scattergeo\"},{\"geo\":\"geo\",\"hovertemplate\":\"<b>%{hovertext}</b><br><br>Country= United Kingdom<br>Internet_Price=%{marker.size}<br>Latitude=%{lat}<br>Longitude=%{lon}<extra></extra>\",\"hovertext\":[\" United Kingdom\"],\"lat\":[54.7023545],\"legendgroup\":\" United Kingdom\",\"lon\":[-3.2765753],\"marker\":{\"color\":\"#00cc96\",\"size\":[37.6904347826087],\"sizemode\":\"area\",\"sizeref\":0.278575,\"symbol\":\"circle\"},\"mode\":\"markers\",\"name\":\" United Kingdom\",\"showlegend\":true,\"type\":\"scattergeo\"},{\"geo\":\"geo\",\"hovertemplate\":\"<b>%{hovertext}</b><br><br>Country= United States of America<br>Internet_Price=%{marker.size}<br>Latitude=%{lat}<br>Longitude=%{lon}<extra></extra>\",\"hovertext\":[\" United States of America\"],\"lat\":[39.7837304],\"legendgroup\":\" United States of America\",\"lon\":[-100.445882],\"marker\":{\"color\":\"#ab63fa\",\"size\":[66.4109009009009],\"sizemode\":\"area\",\"sizeref\":0.278575,\"symbol\":\"circle\"},\"mode\":\"markers\",\"name\":\" United States of America\",\"showlegend\":true,\"type\":\"scattergeo\"},{\"geo\":\"geo\",\"hovertemplate\":\"<b>%{hovertext}</b><br><br>Country= Uruguay<br>Internet_Price=%{marker.size}<br>Latitude=%{lat}<br>Longitude=%{lon}<extra></extra>\",\"hovertext\":[\" Uruguay\"],\"lat\":[-32.8755548],\"legendgroup\":\" Uruguay\",\"lon\":[-56.0201525],\"marker\":{\"color\":\"#FFA15A\",\"size\":[32.34],\"sizemode\":\"area\",\"sizeref\":0.278575,\"symbol\":\"circle\"},\"mode\":\"markers\",\"name\":\" Uruguay\",\"showlegend\":true,\"type\":\"scattergeo\"},{\"geo\":\"geo\",\"hovertemplate\":\"<b>%{hovertext}</b><br><br>Country= Uzbekistan<br>Internet_Price=%{marker.size}<br>Latitude=%{lat}<br>Longitude=%{lon}<extra></extra>\",\"hovertext\":[\" Uzbekistan\"],\"lat\":[41.32373],\"legendgroup\":\" Uzbekistan\",\"lon\":[63.9528098],\"marker\":{\"color\":\"#19d3f3\",\"size\":[33.56],\"sizemode\":\"area\",\"sizeref\":0.278575,\"symbol\":\"circle\"},\"mode\":\"markers\",\"name\":\" Uzbekistan\",\"showlegend\":true,\"type\":\"scattergeo\"},{\"geo\":\"geo\",\"hovertemplate\":\"<b>%{hovertext}</b><br><br>Country= Venezuela<br>Internet_Price=%{marker.size}<br>Latitude=%{lat}<br>Longitude=%{lon}<extra></extra>\",\"hovertext\":[\" Venezuela\"],\"lat\":[8.0018709],\"legendgroup\":\" Venezuela\",\"lon\":[-66.1109318],\"marker\":{\"color\":\"#FF6692\",\"size\":[9.11],\"sizemode\":\"area\",\"sizeref\":0.278575,\"symbol\":\"circle\"},\"mode\":\"markers\",\"name\":\" Venezuela\",\"showlegend\":true,\"type\":\"scattergeo\"},{\"geo\":\"geo\",\"hovertemplate\":\"<b>%{hovertext}</b><br><br>Country= Vietnam<br>Internet_Price=%{marker.size}<br>Latitude=%{lat}<br>Longitude=%{lon}<extra></extra>\",\"hovertext\":[\" Vietnam\"],\"lat\":[15.9266657],\"legendgroup\":\" Vietnam\",\"lon\":[107.9650855],\"marker\":{\"color\":\"#B6E880\",\"size\":[10.575],\"sizemode\":\"area\",\"sizeref\":0.278575,\"symbol\":\"circle\"},\"mode\":\"markers\",\"name\":\" Vietnam\",\"showlegend\":true,\"type\":\"scattergeo\"},{\"geo\":\"geo\",\"hovertemplate\":\"<b>%{hovertext}</b><br><br>Country= Zimbabwe<br>Internet_Price=%{marker.size}<br>Latitude=%{lat}<br>Longitude=%{lon}<extra></extra>\",\"hovertext\":[\" Zimbabwe\"],\"lat\":[-18.4554963],\"legendgroup\":\" Zimbabwe\",\"lon\":[29.7468414],\"marker\":{\"color\":\"#FF97FF\",\"size\":[104.83],\"sizemode\":\"area\",\"sizeref\":0.278575,\"symbol\":\"circle\"},\"mode\":\"markers\",\"name\":\" Zimbabwe\",\"showlegend\":true,\"type\":\"scattergeo\"}],                        {\"template\":{\"data\":{\"histogram2dcontour\":[{\"type\":\"histogram2dcontour\",\"colorbar\":{\"outlinewidth\":0,\"ticks\":\"\"},\"colorscale\":[[0.0,\"#0d0887\"],[0.1111111111111111,\"#46039f\"],[0.2222222222222222,\"#7201a8\"],[0.3333333333333333,\"#9c179e\"],[0.4444444444444444,\"#bd3786\"],[0.5555555555555556,\"#d8576b\"],[0.6666666666666666,\"#ed7953\"],[0.7777777777777778,\"#fb9f3a\"],[0.8888888888888888,\"#fdca26\"],[1.0,\"#f0f921\"]]}],\"choropleth\":[{\"type\":\"choropleth\",\"colorbar\":{\"outlinewidth\":0,\"ticks\":\"\"}}],\"histogram2d\":[{\"type\":\"histogram2d\",\"colorbar\":{\"outlinewidth\":0,\"ticks\":\"\"},\"colorscale\":[[0.0,\"#0d0887\"],[0.1111111111111111,\"#46039f\"],[0.2222222222222222,\"#7201a8\"],[0.3333333333333333,\"#9c179e\"],[0.4444444444444444,\"#bd3786\"],[0.5555555555555556,\"#d8576b\"],[0.6666666666666666,\"#ed7953\"],[0.7777777777777778,\"#fb9f3a\"],[0.8888888888888888,\"#fdca26\"],[1.0,\"#f0f921\"]]}],\"heatmap\":[{\"type\":\"heatmap\",\"colorbar\":{\"outlinewidth\":0,\"ticks\":\"\"},\"colorscale\":[[0.0,\"#0d0887\"],[0.1111111111111111,\"#46039f\"],[0.2222222222222222,\"#7201a8\"],[0.3333333333333333,\"#9c179e\"],[0.4444444444444444,\"#bd3786\"],[0.5555555555555556,\"#d8576b\"],[0.6666666666666666,\"#ed7953\"],[0.7777777777777778,\"#fb9f3a\"],[0.8888888888888888,\"#fdca26\"],[1.0,\"#f0f921\"]]}],\"heatmapgl\":[{\"type\":\"heatmapgl\",\"colorbar\":{\"outlinewidth\":0,\"ticks\":\"\"},\"colorscale\":[[0.0,\"#0d0887\"],[0.1111111111111111,\"#46039f\"],[0.2222222222222222,\"#7201a8\"],[0.3333333333333333,\"#9c179e\"],[0.4444444444444444,\"#bd3786\"],[0.5555555555555556,\"#d8576b\"],[0.6666666666666666,\"#ed7953\"],[0.7777777777777778,\"#fb9f3a\"],[0.8888888888888888,\"#fdca26\"],[1.0,\"#f0f921\"]]}],\"contourcarpet\":[{\"type\":\"contourcarpet\",\"colorbar\":{\"outlinewidth\":0,\"ticks\":\"\"}}],\"contour\":[{\"type\":\"contour\",\"colorbar\":{\"outlinewidth\":0,\"ticks\":\"\"},\"colorscale\":[[0.0,\"#0d0887\"],[0.1111111111111111,\"#46039f\"],[0.2222222222222222,\"#7201a8\"],[0.3333333333333333,\"#9c179e\"],[0.4444444444444444,\"#bd3786\"],[0.5555555555555556,\"#d8576b\"],[0.6666666666666666,\"#ed7953\"],[0.7777777777777778,\"#fb9f3a\"],[0.8888888888888888,\"#fdca26\"],[1.0,\"#f0f921\"]]}],\"surface\":[{\"type\":\"surface\",\"colorbar\":{\"outlinewidth\":0,\"ticks\":\"\"},\"colorscale\":[[0.0,\"#0d0887\"],[0.1111111111111111,\"#46039f\"],[0.2222222222222222,\"#7201a8\"],[0.3333333333333333,\"#9c179e\"],[0.4444444444444444,\"#bd3786\"],[0.5555555555555556,\"#d8576b\"],[0.6666666666666666,\"#ed7953\"],[0.7777777777777778,\"#fb9f3a\"],[0.8888888888888888,\"#fdca26\"],[1.0,\"#f0f921\"]]}],\"mesh3d\":[{\"type\":\"mesh3d\",\"colorbar\":{\"outlinewidth\":0,\"ticks\":\"\"}}],\"scatter\":[{\"fillpattern\":{\"fillmode\":\"overlay\",\"size\":10,\"solidity\":0.2},\"type\":\"scatter\"}],\"parcoords\":[{\"type\":\"parcoords\",\"line\":{\"colorbar\":{\"outlinewidth\":0,\"ticks\":\"\"}}}],\"scatterpolargl\":[{\"type\":\"scatterpolargl\",\"marker\":{\"colorbar\":{\"outlinewidth\":0,\"ticks\":\"\"}}}],\"bar\":[{\"error_x\":{\"color\":\"#2a3f5f\"},\"error_y\":{\"color\":\"#2a3f5f\"},\"marker\":{\"line\":{\"color\":\"#E5ECF6\",\"width\":0.5},\"pattern\":{\"fillmode\":\"overlay\",\"size\":10,\"solidity\":0.2}},\"type\":\"bar\"}],\"scattergeo\":[{\"type\":\"scattergeo\",\"marker\":{\"colorbar\":{\"outlinewidth\":0,\"ticks\":\"\"}}}],\"scatterpolar\":[{\"type\":\"scatterpolar\",\"marker\":{\"colorbar\":{\"outlinewidth\":0,\"ticks\":\"\"}}}],\"histogram\":[{\"marker\":{\"pattern\":{\"fillmode\":\"overlay\",\"size\":10,\"solidity\":0.2}},\"type\":\"histogram\"}],\"scattergl\":[{\"type\":\"scattergl\",\"marker\":{\"colorbar\":{\"outlinewidth\":0,\"ticks\":\"\"}}}],\"scatter3d\":[{\"type\":\"scatter3d\",\"line\":{\"colorbar\":{\"outlinewidth\":0,\"ticks\":\"\"}},\"marker\":{\"colorbar\":{\"outlinewidth\":0,\"ticks\":\"\"}}}],\"scattermapbox\":[{\"type\":\"scattermapbox\",\"marker\":{\"colorbar\":{\"outlinewidth\":0,\"ticks\":\"\"}}}],\"scatterternary\":[{\"type\":\"scatterternary\",\"marker\":{\"colorbar\":{\"outlinewidth\":0,\"ticks\":\"\"}}}],\"scattercarpet\":[{\"type\":\"scattercarpet\",\"marker\":{\"colorbar\":{\"outlinewidth\":0,\"ticks\":\"\"}}}],\"carpet\":[{\"aaxis\":{\"endlinecolor\":\"#2a3f5f\",\"gridcolor\":\"white\",\"linecolor\":\"white\",\"minorgridcolor\":\"white\",\"startlinecolor\":\"#2a3f5f\"},\"baxis\":{\"endlinecolor\":\"#2a3f5f\",\"gridcolor\":\"white\",\"linecolor\":\"white\",\"minorgridcolor\":\"white\",\"startlinecolor\":\"#2a3f5f\"},\"type\":\"carpet\"}],\"table\":[{\"cells\":{\"fill\":{\"color\":\"#EBF0F8\"},\"line\":{\"color\":\"white\"}},\"header\":{\"fill\":{\"color\":\"#C8D4E3\"},\"line\":{\"color\":\"white\"}},\"type\":\"table\"}],\"barpolar\":[{\"marker\":{\"line\":{\"color\":\"#E5ECF6\",\"width\":0.5},\"pattern\":{\"fillmode\":\"overlay\",\"size\":10,\"solidity\":0.2}},\"type\":\"barpolar\"}],\"pie\":[{\"automargin\":true,\"type\":\"pie\"}]},\"layout\":{\"autotypenumbers\":\"strict\",\"colorway\":[\"#636efa\",\"#EF553B\",\"#00cc96\",\"#ab63fa\",\"#FFA15A\",\"#19d3f3\",\"#FF6692\",\"#B6E880\",\"#FF97FF\",\"#FECB52\"],\"font\":{\"color\":\"#2a3f5f\"},\"hovermode\":\"closest\",\"hoverlabel\":{\"align\":\"left\"},\"paper_bgcolor\":\"white\",\"plot_bgcolor\":\"#E5ECF6\",\"polar\":{\"bgcolor\":\"#E5ECF6\",\"angularaxis\":{\"gridcolor\":\"white\",\"linecolor\":\"white\",\"ticks\":\"\"},\"radialaxis\":{\"gridcolor\":\"white\",\"linecolor\":\"white\",\"ticks\":\"\"}},\"ternary\":{\"bgcolor\":\"#E5ECF6\",\"aaxis\":{\"gridcolor\":\"white\",\"linecolor\":\"white\",\"ticks\":\"\"},\"baxis\":{\"gridcolor\":\"white\",\"linecolor\":\"white\",\"ticks\":\"\"},\"caxis\":{\"gridcolor\":\"white\",\"linecolor\":\"white\",\"ticks\":\"\"}},\"coloraxis\":{\"colorbar\":{\"outlinewidth\":0,\"ticks\":\"\"}},\"colorscale\":{\"sequential\":[[0.0,\"#0d0887\"],[0.1111111111111111,\"#46039f\"],[0.2222222222222222,\"#7201a8\"],[0.3333333333333333,\"#9c179e\"],[0.4444444444444444,\"#bd3786\"],[0.5555555555555556,\"#d8576b\"],[0.6666666666666666,\"#ed7953\"],[0.7777777777777778,\"#fb9f3a\"],[0.8888888888888888,\"#fdca26\"],[1.0,\"#f0f921\"]],\"sequentialminus\":[[0.0,\"#0d0887\"],[0.1111111111111111,\"#46039f\"],[0.2222222222222222,\"#7201a8\"],[0.3333333333333333,\"#9c179e\"],[0.4444444444444444,\"#bd3786\"],[0.5555555555555556,\"#d8576b\"],[0.6666666666666666,\"#ed7953\"],[0.7777777777777778,\"#fb9f3a\"],[0.8888888888888888,\"#fdca26\"],[1.0,\"#f0f921\"]],\"diverging\":[[0,\"#8e0152\"],[0.1,\"#c51b7d\"],[0.2,\"#de77ae\"],[0.3,\"#f1b6da\"],[0.4,\"#fde0ef\"],[0.5,\"#f7f7f7\"],[0.6,\"#e6f5d0\"],[0.7,\"#b8e186\"],[0.8,\"#7fbc41\"],[0.9,\"#4d9221\"],[1,\"#276419\"]]},\"xaxis\":{\"gridcolor\":\"white\",\"linecolor\":\"white\",\"ticks\":\"\",\"title\":{\"standoff\":15},\"zerolinecolor\":\"white\",\"automargin\":true,\"zerolinewidth\":2},\"yaxis\":{\"gridcolor\":\"white\",\"linecolor\":\"white\",\"ticks\":\"\",\"title\":{\"standoff\":15},\"zerolinecolor\":\"white\",\"automargin\":true,\"zerolinewidth\":2},\"scene\":{\"xaxis\":{\"backgroundcolor\":\"#E5ECF6\",\"gridcolor\":\"white\",\"linecolor\":\"white\",\"showbackground\":true,\"ticks\":\"\",\"zerolinecolor\":\"white\",\"gridwidth\":2},\"yaxis\":{\"backgroundcolor\":\"#E5ECF6\",\"gridcolor\":\"white\",\"linecolor\":\"white\",\"showbackground\":true,\"ticks\":\"\",\"zerolinecolor\":\"white\",\"gridwidth\":2},\"zaxis\":{\"backgroundcolor\":\"#E5ECF6\",\"gridcolor\":\"white\",\"linecolor\":\"white\",\"showbackground\":true,\"ticks\":\"\",\"zerolinecolor\":\"white\",\"gridwidth\":2}},\"shapedefaults\":{\"line\":{\"color\":\"#2a3f5f\"}},\"annotationdefaults\":{\"arrowcolor\":\"#2a3f5f\",\"arrowhead\":0,\"arrowwidth\":1},\"geo\":{\"bgcolor\":\"white\",\"landcolor\":\"#E5ECF6\",\"subunitcolor\":\"white\",\"showland\":true,\"showlakes\":true,\"lakecolor\":\"white\"},\"title\":{\"x\":0.05},\"mapbox\":{\"style\":\"light\"}}},\"geo\":{\"domain\":{\"x\":[0.0,1.0],\"y\":[0.0,1.0]},\"projection\":{\"type\":\"natural earth\"},\"center\":{}},\"legend\":{\"title\":{\"text\":\"Country\"},\"tracegroupgap\":0,\"itemsizing\":\"constant\"},\"margin\":{\"t\":60}},                        {\"responsive\": true}                    ).then(function(){\n",
       "                            \n",
       "var gd = document.getElementById('ccbd1def-d69e-4670-9cac-08b34fdbdfe9');\n",
       "var x = new MutationObserver(function (mutations, observer) {{\n",
       "        var display = window.getComputedStyle(gd).display;\n",
       "        if (!display || display === 'none') {{\n",
       "            console.log([gd, 'removed!']);\n",
       "            Plotly.purge(gd);\n",
       "            observer.disconnect();\n",
       "        }}\n",
       "}});\n",
       "\n",
       "// Listen for the removal of the full notebook cells\n",
       "var notebookContainer = gd.closest('#notebook-container');\n",
       "if (notebookContainer) {{\n",
       "    x.observe(notebookContainer, {childList: true});\n",
       "}}\n",
       "\n",
       "// Listen for the clearing of the current output cell\n",
       "var outputEl = gd.closest('.output');\n",
       "if (outputEl) {{\n",
       "    x.observe(outputEl, {childList: true});\n",
       "}}\n",
       "\n",
       "                        })                };                });            </script>        </div>"
      ]
     },
     "metadata": {},
     "output_type": "display_data"
    }
   ],
   "source": [
    "import plotly.express as px\n",
    "\n",
    "fig = px.scatter_geo(df_country, lat='Latitude', lon='Longitude', color=\"Country\",\n",
    "                     hover_name=\"Country\", size=\"Internet_Price\",\n",
    "                     projection=\"natural earth\")\n",
    "fig.show()"
   ]
  }
 ],
 "metadata": {
  "kernelspec": {
   "display_name": "Python 3",
   "language": "python",
   "name": "python3"
  },
  "language_info": {
   "codemirror_mode": {
    "name": "ipython",
    "version": 3
   },
   "file_extension": ".py",
   "mimetype": "text/x-python",
   "name": "python",
   "nbconvert_exporter": "python",
   "pygments_lexer": "ipython3",
   "version": "3.7.12"
  },
  "papermill": {
   "default_parameters": {},
   "duration": 125.521631,
   "end_time": "2023-04-21T10:49:04.489255",
   "environment_variables": {},
   "exception": null,
   "input_path": "__notebook__.ipynb",
   "output_path": "__notebook__.ipynb",
   "parameters": {},
   "start_time": "2023-04-21T10:46:58.967624",
   "version": "2.4.0"
  }
 },
 "nbformat": 4,
 "nbformat_minor": 5
}
